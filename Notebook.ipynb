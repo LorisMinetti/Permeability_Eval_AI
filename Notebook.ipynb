{
 "cells": [
  {
   "cell_type": "code",
   "execution_count": 67,
   "outputs": [
    {
     "name": "stdout",
     "output_type": "stream",
     "text": [
      "    Porosity_Tot    SSA_Tot  Conn.Dens.  Porosity     SSA      Ech  \\\n",
      "0          0.205  45.892683     310.913     0.137   5.065  -25.849   \n",
      "1          0.205  45.892683     310.913     0.147   5.253  -31.002   \n",
      "2          0.205  45.892683     310.913     0.131   4.697  -20.047   \n",
      "3          0.176  54.744318     350.137     0.115   5.583  -50.613   \n",
      "4          0.176  54.744318     350.137     0.139   7.447 -136.737   \n",
      "5          0.176  54.744318     350.137     0.115   5.311  -32.907   \n",
      "6          0.184  53.413043     368.141     0.134   6.990 -115.218   \n",
      "7          0.184  53.413043     368.141     0.138   7.132 -110.411   \n",
      "8          0.184  53.413043     368.141     0.116   5.290  -39.748   \n",
      "9          0.020  45.650000      10.573     0.020   0.791   -3.948   \n",
      "10         0.020  45.650000      10.573     0.020   0.806   -2.017   \n",
      "11         0.274  36.324818     458.436     0.273   7.721 -102.424   \n",
      "12         0.274  36.324818     458.436     0.250   6.870  -76.478   \n",
      "13         0.274  36.324818     458.436     0.265   7.560  -95.050   \n",
      "14         0.293  34.412969     607.796     0.250   7.353 -152.126   \n",
      "15         0.293  34.412969     607.796     0.281   8.363 -258.282   \n",
      "16         0.293  34.412969     607.796     0.297   9.123 -362.849   \n",
      "17         0.056  89.214286     303.129     0.075   4.747 -130.705   \n",
      "18         0.056  89.214286     303.129     0.079   5.065 -156.334   \n",
      "19         0.063  79.507937     288.192     0.075   4.747 -130.705   \n",
      "20         0.063  79.507937     288.192     0.079   5.065 -156.334   \n",
      "21         0.066  74.030303     207.810     0.062   4.227 -132.907   \n",
      "22         0.066  74.030303     207.810     0.066   4.532 -162.178   \n",
      "23         0.143  65.230769     397.271     0.151   7.652 -124.943   \n",
      "24         0.143  65.230769     397.271     0.151   7.653 -132.984   \n",
      "25         0.143  65.230769     397.271     0.148   7.510 -121.665   \n",
      "26         0.149  78.543624     307.044     0.136  10.267 -202.056   \n",
      "27         0.149  78.543624     307.044     0.137  10.300 -202.989   \n",
      "28         0.149  78.543624     307.044     0.124   9.292 -160.839   \n",
      "29         0.149  78.543624     307.044     0.136  10.267 -202.056   \n",
      "30         0.149  78.543624     307.044     0.137  10.300 -202.989   \n",
      "31         0.149  78.543624     307.044     0.124   9.292 -160.839   \n",
      "32         0.146  80.671233     286.157     0.098   8.080 -132.730   \n",
      "33         0.146  80.671233     286.157     0.108   8.765 -160.656   \n",
      "34         0.146  80.671233     286.157     0.103   8.463 -161.984   \n",
      "35         0.116  61.767241     116.198     0.104   6.047  -71.467   \n",
      "36         0.116  61.767241     116.198     0.098   5.923  -70.632   \n",
      "37         0.116  61.767241     116.198     0.096   5.808  -68.413   \n",
      "38         0.112  59.857143      95.679     0.092   5.414  -53.370   \n",
      "39         0.112  59.857143      95.679     0.093   5.443  -53.168   \n",
      "40         0.112  59.857143      95.679     0.092   5.425  -53.456   \n",
      "41         0.088  56.443182      68.701     0.077   4.215  -43.860   \n",
      "42         0.088  56.443182      68.701     0.076   4.240  -44.725   \n",
      "43         0.088  56.443182      68.701     0.073   4.035  -39.278   \n",
      "44         0.029  46.724138      17.118     0.026   1.209  -13.631   \n",
      "45         0.050  58.180000      28.320     0.043   2.511  -28.011   \n",
      "46         0.050  58.180000      28.320     0.041   2.340  -18.740   \n",
      "47         0.050  58.180000      28.320     0.042   2.434  -27.463   \n",
      "\n",
      "    Tortuosity          k_m2  \n",
      "0       2.0340  1.473350e-12  \n",
      "1       2.6650  2.254724e-12  \n",
      "2       2.1090  9.543177e-12  \n",
      "3       4.1830  9.664920e-13  \n",
      "4       2.5950  9.180783e-13  \n",
      "5       4.1010  1.435774e-12  \n",
      "6       2.7740  4.010302e-13  \n",
      "7       2.7790  3.937021e-12  \n",
      "8       3.8680  1.933907e-12  \n",
      "9       3.1000  3.021802e-13  \n",
      "10      2.9000  3.190436e-13  \n",
      "11      1.7170  5.516051e-11  \n",
      "12      1.3530  3.822390e-11  \n",
      "13      1.5730  5.275967e-11  \n",
      "14      1.3400  2.009570e-11  \n",
      "15      1.3720  1.319490e-10  \n",
      "16      1.6750  8.289540e-11  \n",
      "17      2.6210  3.390944e-13  \n",
      "18      3.2380  2.066877e-13  \n",
      "19      3.0175  3.390944e-13  \n",
      "20      3.7225  2.066877e-13  \n",
      "21      3.4140  5.531944e-13  \n",
      "22      4.2070  2.456179e-14  \n",
      "23      3.3133  7.811227e-13  \n",
      "24      3.3900  1.235315e-12  \n",
      "25      3.8000  5.429843e-13  \n",
      "26      3.0870  2.933715e-13  \n",
      "27      2.7950  4.255505e-13  \n",
      "28      3.5850  7.133022e-13  \n",
      "29      3.0870  2.933715e-13  \n",
      "30      2.7950  4.255505e-13  \n",
      "31      3.5850  7.133022e-13  \n",
      "32      3.3400  1.767209e-13  \n",
      "33      3.6090  2.211503e-13  \n",
      "34      4.3490  1.739540e-13  \n",
      "35      4.0070  5.697167e-13  \n",
      "36      2.8180  3.235189e-13  \n",
      "37      3.6460  8.485641e-14  \n",
      "38      4.2200  4.966167e-13  \n",
      "39      4.2260  1.459741e-12  \n",
      "40      4.2200  5.462786e-13  \n",
      "41      4.2780  2.564176e-13  \n",
      "42      4.0340  1.021321e-12  \n",
      "43      4.4590  5.362540e-13  \n",
      "44      2.8210  1.924009e-13  \n",
      "45      3.6000  0.000000e+00  \n",
      "46      3.6040  8.750106e-13  \n",
      "47      3.6000  3.461632e-13  \n"
     ]
    }
   ],
   "source": [
    "import math\n",
    "\n",
    "import numpy as num\n",
    "\n",
    "#TODO: provare nel branch principale il dataset che riprende tutto in tre dimensione x y z\n",
    "\n",
    "\n",
    "# import openpyxl\n",
    "# \n",
    "# try:\n",
    "#     workbook = openpyxl.load_workbook(\"dataset/Graphs_August_ADWR_cleaned.xlsx\")\n",
    "#     sheet = workbook.active\n",
    "#     # Fai qualcosa con il tuo foglio Excel\n",
    "# except FileNotFoundError:\n",
    "#     print(\"Il file non è stato trovato.\")\n",
    "# except Exception as e:\n",
    "#     print(f\"Si è verificato un errore: {e}\")\n",
    "# \n",
    "\n",
    "import pandas as pd\n",
    "from pandas import DataFrame\n",
    "\n",
    "try:\n",
    "# Carica il tuo file XLSX\n",
    "    xlsx_file = 'dataset/richerDataset.xlsx'  # Sostituisci con il percorso del tuo file\n",
    "\n",
    "# Leggi i dati dal file XLSX e crea un DataFrame\n",
    "    df: DataFrame = pd.read_excel(xlsx_file)\n",
    "\n",
    "# Ora hai un DataFrame con tutti i dati dal tuo file XLSX che puoi utilizzare per l'analisi.\n",
    "except FileNotFoundError as e:\n",
    "    print(\"Il file non è stato trovato.\")\n",
    "# except Exception as e:\n",
    "    print(f\"Si è verificato un errore: {e}\")                                                          \n",
    "    \n",
    "k2_max = df['k_m2'].max()\n",
    "k2_min = df['k_m2'].min()\n",
    "print(df)\n"
   ],
   "metadata": {
    "collapsed": false,
    "ExecuteTime": {
     "end_time": "2023-11-16T17:36:46.156524300Z",
     "start_time": "2023-11-16T17:36:46.089193200Z"
    }
   },
   "id": "8c9606e282a2fd88"
  },
  {
   "cell_type": "code",
   "execution_count": 68,
   "outputs": [
    {
     "data": {
      "text/plain": "       Porosity_Tot    SSA_Tot  Conn.Dens.   Porosity        SSA         Ech  \\\ncount     48.000000  48.000000   48.000000  48.000000  48.000000   48.000000   \nmean       0.139458  60.741732  265.459104   0.120208   6.096313 -104.954437   \nstd        0.074606  15.549278  161.555747   0.067272   2.480017   74.521722   \nmin        0.020000  34.412969   10.573000   0.020000   0.791000 -362.849000   \n25%        0.082500  51.740817  111.068250   0.076750   4.734500 -156.334000   \n50%        0.144500  59.018571  305.086500   0.111500   5.695500 -106.417500   \n75%        0.178000  78.543624  354.638000   0.137250   7.670000  -42.832000   \nmax        0.293000  89.214286  607.796000   0.297000  10.300000   -2.017000   \n\n       Tortuosity          k_m2  \ncount   48.000000  4.800000e+01  \nmean     3.179715  8.727964e-12  \nstd      0.871756  2.460269e-11  \nmin      1.340000  0.000000e+00  \n25%      2.777750  2.999780e-13  \n50%      3.326650  5.446314e-13  \n75%      3.817000  1.441766e-12  \nmax      4.459000  1.319490e-10  ",
      "text/html": "<div>\n<style scoped>\n    .dataframe tbody tr th:only-of-type {\n        vertical-align: middle;\n    }\n\n    .dataframe tbody tr th {\n        vertical-align: top;\n    }\n\n    .dataframe thead th {\n        text-align: right;\n    }\n</style>\n<table border=\"1\" class=\"dataframe\">\n  <thead>\n    <tr style=\"text-align: right;\">\n      <th></th>\n      <th>Porosity_Tot</th>\n      <th>SSA_Tot</th>\n      <th>Conn.Dens.</th>\n      <th>Porosity</th>\n      <th>SSA</th>\n      <th>Ech</th>\n      <th>Tortuosity</th>\n      <th>k_m2</th>\n    </tr>\n  </thead>\n  <tbody>\n    <tr>\n      <th>count</th>\n      <td>48.000000</td>\n      <td>48.000000</td>\n      <td>48.000000</td>\n      <td>48.000000</td>\n      <td>48.000000</td>\n      <td>48.000000</td>\n      <td>48.000000</td>\n      <td>4.800000e+01</td>\n    </tr>\n    <tr>\n      <th>mean</th>\n      <td>0.139458</td>\n      <td>60.741732</td>\n      <td>265.459104</td>\n      <td>0.120208</td>\n      <td>6.096313</td>\n      <td>-104.954437</td>\n      <td>3.179715</td>\n      <td>8.727964e-12</td>\n    </tr>\n    <tr>\n      <th>std</th>\n      <td>0.074606</td>\n      <td>15.549278</td>\n      <td>161.555747</td>\n      <td>0.067272</td>\n      <td>2.480017</td>\n      <td>74.521722</td>\n      <td>0.871756</td>\n      <td>2.460269e-11</td>\n    </tr>\n    <tr>\n      <th>min</th>\n      <td>0.020000</td>\n      <td>34.412969</td>\n      <td>10.573000</td>\n      <td>0.020000</td>\n      <td>0.791000</td>\n      <td>-362.849000</td>\n      <td>1.340000</td>\n      <td>0.000000e+00</td>\n    </tr>\n    <tr>\n      <th>25%</th>\n      <td>0.082500</td>\n      <td>51.740817</td>\n      <td>111.068250</td>\n      <td>0.076750</td>\n      <td>4.734500</td>\n      <td>-156.334000</td>\n      <td>2.777750</td>\n      <td>2.999780e-13</td>\n    </tr>\n    <tr>\n      <th>50%</th>\n      <td>0.144500</td>\n      <td>59.018571</td>\n      <td>305.086500</td>\n      <td>0.111500</td>\n      <td>5.695500</td>\n      <td>-106.417500</td>\n      <td>3.326650</td>\n      <td>5.446314e-13</td>\n    </tr>\n    <tr>\n      <th>75%</th>\n      <td>0.178000</td>\n      <td>78.543624</td>\n      <td>354.638000</td>\n      <td>0.137250</td>\n      <td>7.670000</td>\n      <td>-42.832000</td>\n      <td>3.817000</td>\n      <td>1.441766e-12</td>\n    </tr>\n    <tr>\n      <th>max</th>\n      <td>0.293000</td>\n      <td>89.214286</td>\n      <td>607.796000</td>\n      <td>0.297000</td>\n      <td>10.300000</td>\n      <td>-2.017000</td>\n      <td>4.459000</td>\n      <td>1.319490e-10</td>\n    </tr>\n  </tbody>\n</table>\n</div>"
     },
     "execution_count": 68,
     "metadata": {},
     "output_type": "execute_result"
    }
   ],
   "source": [
    "df.describe()\n"
   ],
   "metadata": {
    "collapsed": false,
    "ExecuteTime": {
     "end_time": "2023-11-16T17:36:47.256306100Z",
     "start_time": "2023-11-16T17:36:47.225443200Z"
    }
   },
   "id": "811090587197d416"
  },
  {
   "cell_type": "code",
   "execution_count": 69,
   "outputs": [
    {
     "data": {
      "text/plain": "       Porosity_Tot    SSA_Tot  Conn.Dens.   Porosity        SSA        Ech  \\\ncount     48.000000  48.000000   48.000000  48.000000  48.000000  48.000000   \nmean       0.437576   0.480440    0.426785   0.361763   0.557925   0.714722   \nstd        0.273284   0.283739    0.270512   0.242861   0.260807   0.206527   \nmin        0.000000   0.000000    0.000000   0.000000   0.000000   0.000000   \n25%        0.228938   0.316194    0.168271   0.204874   0.414712   0.572330   \n50%        0.456044   0.448997    0.493138   0.330325   0.515775   0.710667   \n75%        0.578755   0.805285    0.576108   0.423285   0.723420   0.886886   \nmax        1.000000   1.000000    1.000000   1.000000   1.000000   1.000000   \n\n       Tortuosity       k_m2  \ncount   48.000000  48.000000  \nmean     0.589841   0.066146  \nstd      0.279499   0.186456  \nmin      0.000000   0.000000  \n25%      0.460965   0.002273  \n50%      0.636951   0.004128  \n75%      0.794165   0.010927  \nmax      1.000000   1.000000  ",
      "text/html": "<div>\n<style scoped>\n    .dataframe tbody tr th:only-of-type {\n        vertical-align: middle;\n    }\n\n    .dataframe tbody tr th {\n        vertical-align: top;\n    }\n\n    .dataframe thead th {\n        text-align: right;\n    }\n</style>\n<table border=\"1\" class=\"dataframe\">\n  <thead>\n    <tr style=\"text-align: right;\">\n      <th></th>\n      <th>Porosity_Tot</th>\n      <th>SSA_Tot</th>\n      <th>Conn.Dens.</th>\n      <th>Porosity</th>\n      <th>SSA</th>\n      <th>Ech</th>\n      <th>Tortuosity</th>\n      <th>k_m2</th>\n    </tr>\n  </thead>\n  <tbody>\n    <tr>\n      <th>count</th>\n      <td>48.000000</td>\n      <td>48.000000</td>\n      <td>48.000000</td>\n      <td>48.000000</td>\n      <td>48.000000</td>\n      <td>48.000000</td>\n      <td>48.000000</td>\n      <td>48.000000</td>\n    </tr>\n    <tr>\n      <th>mean</th>\n      <td>0.437576</td>\n      <td>0.480440</td>\n      <td>0.426785</td>\n      <td>0.361763</td>\n      <td>0.557925</td>\n      <td>0.714722</td>\n      <td>0.589841</td>\n      <td>0.066146</td>\n    </tr>\n    <tr>\n      <th>std</th>\n      <td>0.273284</td>\n      <td>0.283739</td>\n      <td>0.270512</td>\n      <td>0.242861</td>\n      <td>0.260807</td>\n      <td>0.206527</td>\n      <td>0.279499</td>\n      <td>0.186456</td>\n    </tr>\n    <tr>\n      <th>min</th>\n      <td>0.000000</td>\n      <td>0.000000</td>\n      <td>0.000000</td>\n      <td>0.000000</td>\n      <td>0.000000</td>\n      <td>0.000000</td>\n      <td>0.000000</td>\n      <td>0.000000</td>\n    </tr>\n    <tr>\n      <th>25%</th>\n      <td>0.228938</td>\n      <td>0.316194</td>\n      <td>0.168271</td>\n      <td>0.204874</td>\n      <td>0.414712</td>\n      <td>0.572330</td>\n      <td>0.460965</td>\n      <td>0.002273</td>\n    </tr>\n    <tr>\n      <th>50%</th>\n      <td>0.456044</td>\n      <td>0.448997</td>\n      <td>0.493138</td>\n      <td>0.330325</td>\n      <td>0.515775</td>\n      <td>0.710667</td>\n      <td>0.636951</td>\n      <td>0.004128</td>\n    </tr>\n    <tr>\n      <th>75%</th>\n      <td>0.578755</td>\n      <td>0.805285</td>\n      <td>0.576108</td>\n      <td>0.423285</td>\n      <td>0.723420</td>\n      <td>0.886886</td>\n      <td>0.794165</td>\n      <td>0.010927</td>\n    </tr>\n    <tr>\n      <th>max</th>\n      <td>1.000000</td>\n      <td>1.000000</td>\n      <td>1.000000</td>\n      <td>1.000000</td>\n      <td>1.000000</td>\n      <td>1.000000</td>\n      <td>1.000000</td>\n      <td>1.000000</td>\n    </tr>\n  </tbody>\n</table>\n</div>"
     },
     "execution_count": 69,
     "metadata": {},
     "output_type": "execute_result"
    }
   ],
   "source": [
    "from sklearn.metrics import mean_squared_error\n",
    "from sklearn.model_selection import train_test_split\n",
    "from sklearn.linear_model import LinearRegression\n",
    "from sklearn.preprocessing import StandardScaler, MinMaxScaler\n",
    "from sklearn.ensemble import RandomForestRegressor\n",
    "import matplotlib.pyplot as plt\n",
    "import numpy as np\n",
    "from numpy import real\n",
    "\n",
    "\n",
    "#Standardizza i dati con lo scaler\n",
    "scaler = MinMaxScaler()  \n",
    "\n",
    "scaled_data = scaler.fit_transform(df)\n",
    "\n",
    "df_scaled = pd.DataFrame(scaled_data, columns=df.columns)\n",
    "\n",
    "df_scaled.describe()"
   ],
   "metadata": {
    "collapsed": false,
    "ExecuteTime": {
     "end_time": "2023-11-16T17:36:48.126625Z",
     "start_time": "2023-11-16T17:36:48.034783400Z"
    }
   },
   "id": "741d2a5e82bc4343"
  },
  {
   "cell_type": "code",
   "execution_count": 70,
   "outputs": [
    {
     "data": {
      "text/plain": "<Figure size 600x600 with 1 Axes>",
      "image/png": "[encoded data removed]"
     },
     "metadata": {},
     "output_type": "display_data"
    }
   ],
   "source": [
    "# In questo esempio, consideriamo k sia la colonna target\n",
    "features_X = df_scaled.drop(['k_m2'], axis=1)  # Colonne features\n",
    "targets_X = df_scaled[['k_m2']]  # Colonne target\n",
    "\n",
    "# Suddivisione del dataset in set di addestramento e test\n",
    "\n",
    "#TODO provare con 0.7 - 30  o  0.7 - 20\n",
    "X_train, X_test, y_train, y_test = train_test_split(features_X, targets_X, test_size=0.3, random_state=42)\n",
    "# \n",
    "# classifiers = {\n",
    "#     'Decision Tree': DecisionTreeClassifier(),\n",
    "#     'Random Forest': RandomForestClassifier(),\n",
    "#     'Support Vector Machine': SVC(),\n",
    "# }  # Lista dei modelli di classificazione\n",
    "\n",
    "regressor =  RandomForestRegressor()\n",
    "regressor. fit(X_train, y_train.values.ravel())\n",
    "predict_k = regressor. predict(X_test)\n",
    "mse_k = mean_squared_error(y_test, predict_k)\n",
    "\n",
    "# Real vs. Predicted Values\n",
    "plt.figure(figsize=(6, 6))\n",
    "plt.scatter(y_test, predict_k)\n",
    "# inserisci una linea bisettrice che rappresenta landamento ottimale dei valori\n",
    "plt.plot([y_test.min(), y_test.max()], [y_test.min(), y_test.max()], 'k--', lw=4)\n",
    "plt.xlabel('Real Values')\n",
    "plt.ylabel('Predicted Values')\n",
    "plt.title('Real vs. Predicted Values')\n",
    "plt.grid(True)\n",
    "plt.show()\n",
    "#Itera sulla lista dei modelli da provare\n",
    "# for name, classifier in classifiers.items():\n",
    "#         #Addestro il modello\n",
    "#     classifier.fit(features_X_train, targets_X_train)\n",
    "#     #Calcolo l'accuratezza del modello\n",
    "#     predict = classifier.predict(features_X_test)\n",
    "#         \n",
    "#     #Stampo i risultati\n",
    "#     print(f\"Modello: {name}\")\n",
    "# print(f'Classification Report: \\n {classification_report(targets_X_test, predict)}\\n')KNeighborsClassifier()"
   ],
   "metadata": {
    "collapsed": false,
    "ExecuteTime": {
     "end_time": "2023-11-16T17:36:49.323209800Z",
     "start_time": "2023-11-16T17:36:48.843085800Z"
    }
   },
   "id": "7bf36eff9123c949"
  },
  {
   "cell_type": "code",
   "execution_count": 71,
   "outputs": [
    {
     "data": {
      "text/plain": "(array([14.,  0.,  0.,  0.,  0.,  0.,  0.,  0.,  0.,  0.,  0.,  0.,  0.,\n         0.,  0.,  0.,  0.,  0.,  0.,  1.]),\n array([0.0006431 , 0.01509529, 0.02954748, 0.04399967, 0.05845186,\n        0.07290406, 0.08735625, 0.10180844, 0.11626063, 0.13071282,\n        0.14516501, 0.1596172 , 0.17406939, 0.18852159, 0.20297378,\n        0.21742597, 0.23187816, 0.24633035, 0.26078254, 0.27523473,\n        0.28968692]),\n <BarContainer object of 20 artists>)"
     },
     "execution_count": 71,
     "metadata": {},
     "output_type": "execute_result"
    },
    {
     "data": {
      "text/plain": "<Figure size 640x480 with 1 Axes>",
      "image/png": "[encoded data removed]"
     },
     "metadata": {},
     "output_type": "display_data"
    }
   ],
   "source": [
    "plt.hist(y_test, bins=20)"
   ],
   "metadata": {
    "collapsed": false,
    "ExecuteTime": {
     "end_time": "2023-11-16T17:36:55.575037400Z",
     "start_time": "2023-11-16T17:36:55.406487300Z"
    }
   },
   "id": "73bf57722b2607b8"
  },
  {
   "cell_type": "code",
   "execution_count": 73,
   "outputs": [
    {
     "name": "stdout",
     "output_type": "stream",
     "text": [
      "Valore reale: 0.003225113566605279 - Valore predetto: 0.005311075138121544 \n",
      "Errore di previsione 0.0020859615715162648 \n",
      "\n",
      "Valore reale: 0.004140073664825046 - Valore predetto: 0.0035227388090853257 \n",
      "Errore di previsione 0.0006173348557397202 \n",
      "\n",
      "Valore reale: 0.0022233701657458564 - Valore predetto: 0.00336182142418662 \n",
      "Errore di previsione 0.0011384512584407635 \n",
      "\n",
      "Valore reale: 0.004064100675260896 - Valore predetto: 0.004109967857581343 \n",
      "Errore di previsione 4.586718232044672e-05 \n",
      "\n",
      "Valore reale: 0.009362062615101288 - Valore predetto: 0.010428100675260909 \n",
      "Errore di previsione 0.0010660380601596204 \n",
      "\n",
      "Valore reale: 0.0006431000613873541 - Valore predetto: 0.0036361268631062015 \n",
      "Errore di previsione 0.0029930268017188473 \n",
      "\n",
      "Valore reale: 0.2896869244935544 - Valore predetto: 0.2549413167587474 \n",
      "Errore di previsione 0.03474560773480695 \n",
      "\n",
      "Valore reale: 0.0025698895027624308 - Valore predetto: 0.0023540418170656836 \n",
      "Errore di previsione 0.00021584768569674713 \n",
      "\n",
      "Valore reale: 0.006957826887661142 - Valore predetto: 0.018358010681399653 \n",
      "Errore di previsione 0.01140018379373851 \n",
      "\n",
      "Valore reale: 0.004115107427869859 - Valore predetto: 0.010326761694290984 \n",
      "Errore di previsione 0.006211654266421125 \n",
      "\n",
      "Valore reale: 0.014656476365868632 - Valore predetto: 0.019343738060159623 \n",
      "Errore di previsione 0.004687261694290991 \n",
      "\n",
      "Valore reale: 0.007324739103744628 - Valore predetto: 0.012567826396562325 \n",
      "Errore di previsione 0.005243087292817698 \n",
      "\n",
      "Valore reale: 0.0030392817679558005 - Valore predetto: 0.024458071639042376 \n",
      "Errore di previsione 0.021418789871086575 \n",
      "\n",
      "Valore reale: 0.011062922038060157 - Valore predetto: 0.0035227388090853257 \n",
      "Errore di previsione 0.007540183228974831 \n",
      "\n",
      "Valore reale: 0.0016760282381829343 - Valore predetto: 0.003618868336402704 \n",
      "Errore di previsione 0.00194284009821977 \n"
     ]
    },
    {
     "data": {
      "text/plain": "<Figure size 640x480 with 1 Axes>",
      "image/png": "[encoded data removed]"
     },
     "metadata": {},
     "output_type": "display_data"
    }
   ],
   "source": [
    "plt.hist(predict_k, bins=20)\n",
    "\n",
    "y_ravel = y_test.values.ravel()\n",
    "\n",
    "errori_list = []\n",
    "\n",
    "for a in range(0, len(y_test)):\n",
    "    errori_list.append(abs(y_ravel[a] - predict_k[a]))\n",
    "    print(f\"Valore reale: {y_ravel[a]} - Valore predetto: {predict_k[a]} \\n\"\n",
    "         f\"Errore di previsione { abs(y_ravel[a] - predict_k[a]) } \\n\")"
   ],
   "metadata": {
    "collapsed": false,
    "ExecuteTime": {
     "end_time": "2023-11-16T17:37:35.075960200Z",
     "start_time": "2023-11-16T17:37:34.924797500Z"
    }
   },
   "id": "7ffb943a1fb468b0"
  },
  {
   "cell_type": "code",
   "execution_count": 74,
   "outputs": [
    {
     "name": "stdout",
     "output_type": "stream",
     "text": [
      "Dimensioni di errori_array: (15,)\n",
      "\n",
      "\n",
      "---------\n",
      "Residui originali: \n",
      " [2.7524054339999967e-13, 8.145671688000034e-14, 1.5021750510000033e-13, 6.052128840000624e-15, 1.4066265600000177e-13, 3.9492689346000023e-13, 4.584648195000042e-12, 2.848088628000009e-14, 1.5042428514000029e-12, 8.196215688000011e-13, 6.184794933000021e-13, 6.918201252000025e-13, 2.8261879047000028e-12, 9.9491963688e-13, 2.5635580812000044e-13]\n"
     ]
    }
   ],
   "source": [
    "# Supponiamo che predict_k sia il tuo array di previsioni standardizzate\n",
    "# e che scaler sia un'istanza di MinMaxScaler già addestrata sul tuo dataset originale\n",
    "\n",
    "errori_List = np.array(errori_list)\n",
    "print(\"Dimensioni di errori_array:\", errori_List.shape)\n",
    "\n",
    "# De-standardizzazione dei residui\n",
    "residui_originali = []\n",
    "\n",
    "for i in range(len(errori_List)):\n",
    "    residui_originali.append(\n",
    "        errori_List[i] * (k2_max - k2_min) + k2_min\n",
    "    )\n",
    "\n",
    "print(\"\\n\\n---------\\nResidui originali: \\n\", residui_originali)\n",
    "# Ora residui_originali contiene i residui de-standardizzati\n"
   ],
   "metadata": {
    "collapsed": false,
    "ExecuteTime": {
     "end_time": "2023-11-16T17:37:39.698675200Z",
     "start_time": "2023-11-16T17:37:39.674991100Z"
    }
   },
   "id": "fd6962845159b4bf"
  },
  {
   "cell_type": "code",
   "execution_count": 76,
   "outputs": [
    {
     "name": "stdout",
     "output_type": "stream",
     "text": [
      "Tutti gli errori sono accettabili\n"
     ]
    }
   ],
   "source": [
    "# In questa sezione devo verificare se il range di errore destandardizzato è accettabile\n",
    "# L'errore può essere accettabile se non supera il range di un'ordine di grandezza\n",
    "\n",
    "sentinella = 0\n",
    "# Il rapporto che governerà questo range sarà il seguente:\n",
    "# 0.7 < (y_test[i] / residui_originali[i]) < 1.3         -->     controllo del (+/-) 30% di errore\n",
    "for i in range(len(y_test)):\n",
    "    if 1.05 > (np.log10(y_ravel[i]) / np.log10(residui_originali[i])) > 0.95:\n",
    "        print(f\"Errore di previsione del dato {i} superiore al range ammissibile di un'ordine di grandezza\")\n",
    "        sentinella = 1\n",
    "\n",
    "if sentinella == 0: \n",
    "    print(\"Tutti gli errori rientrano nel range di accettabilità\")\n",
    "        "
   ],
   "metadata": {
    "collapsed": false,
    "ExecuteTime": {
     "end_time": "2023-11-16T17:38:55.648679400Z",
     "start_time": "2023-11-16T17:38:55.648175300Z"
    }
   },
   "id": "65bf596e7e59ab9"
  },
  {
   "cell_type": "code",
   "execution_count": 77,
   "outputs": [
    {
     "name": "stdout",
     "output_type": "stream",
     "text": [
      "Best Parameters: {'criterion': 'squared_error', 'max_features': 1, 'min_samples_leaf': 1, 'min_samples_split': 5, 'n_estimators': 50, 'n_jobs': -1}\n",
      "Best MSE Score: 0.02445753303120624\n",
      "Mean Squared Error: 0.000587839264354334\n",
      "Root Mean Squared Error: 0.02424539676627986\n",
      "R^2 Score: 0.8834593631022709\n",
      "Training Time (seconds): 48.720253229141235\n"
     ]
    }
   ],
   "source": [
    "#### test iperparametri più veloce...meno valori da provare....codice funzionante e veloce!!!\n",
    "\n",
    "from sklearn.model_selection import GridSearchCV\n",
    "from sklearn.metrics import mean_squared_error\n",
    "import time\n",
    "\n",
    "# Definisci gli iperparametri da cercare\n",
    "param_grid = {\n",
    "    'n_estimators': [50],\n",
    "    'criterion': ['absolute_error', 'poisson', 'squared_error', 'friedman_mse'],\n",
    "    'max_features': [0.1, 1],\n",
    "    'n_jobs': [-1],\n",
    "    'min_samples_split': [2, 3, 5, 10],\n",
    "    'min_samples_leaf': [1, 2, 4],\n",
    "}\n",
    "\n",
    "\n",
    "# Crea un oggetto GridSearchCV per la ricerca degli iperparametri con cross-validation\n",
    "grid_search = GridSearchCV(regressor, param_grid, cv=5, scoring='neg_mean_squared_error')\n",
    "\n",
    "# Lista per tenere traccia del tempo di esecuzione di ciascun set di iperparametri\n",
    "execution_times = []\n",
    "\n",
    "# Definisci il tempo massimo di esecuzione in secondi (300 secondi = 5 minuti)\n",
    "max_execution_time = 300\n",
    "\n",
    "start_time = time.time()\n",
    "\n",
    "# Esegui la ricerca degli iperparametri\n",
    "grid_search.fit(X_train, y_train.values.ravel())\n",
    "\n",
    "end_time = time.time()\n",
    "training_time = end_time - start_time\n",
    "# iteration = 0\n",
    "\n",
    "# Itera attraverso i parametri iperparametrici\n",
    "# for params in ParameterGrid(param_grid):\n",
    "#     # Misura il tempo di inizio dell'allenamento\n",
    "#     start_time = time.time()\n",
    "# \n",
    "#     # Esegui la ricerca degli iperparametri\n",
    "#     grid_search.fit(X_train, y_train)\n",
    "# \n",
    "#     # Calcola il tempo di fine dell'allenamento\n",
    "#     end_time = time.time()\n",
    "# \n",
    "#     # Calcola il tempo totale di addestramento\n",
    "#     training_time = end_time - start_time\n",
    "#     execution_times.append(training_time)\n",
    "# \n",
    "#     # Incrementa il contatore delle iterazioni\n",
    "#     iteration += 1\n",
    "# \n",
    "#     # Verifica se il tempo massimo è stato superato\n",
    "#     if sum(execution_times) + (training_time * (len(ParameterGrid(param_grid)) - iteration)) > max_execution_time:\n",
    "#         print(f\"Interrotto dopo {iteration} iterazioni (tempo limite raggiunto)\")\n",
    "#         break\n",
    "#     \n",
    "#     # Stampa l'avanzamento\n",
    "#     print(f\"Iterazione {iteration}/{len(ParameterGrid(param_grid))}, Tempo impiegato: {training_time:.2f} secondi\")\n",
    "\n",
    "# Trova il miglior modello\n",
    "best_model = grid_search.best_estimator_\n",
    "\n",
    "# Valuta il modello sul set di test\n",
    "y_pred = best_model.predict(X_test)\n",
    "mse = mean_squared_error(y_test, y_pred)\n",
    "rmse = np.sqrt(mse)\n",
    "r2_bestModel = best_model.score(X_test, y_test)\n",
    "\n",
    "print(\"Best Parameters:\", grid_search.best_params_)\n",
    "print(\"Best MSE Score:\", -grid_search.best_score_)\n",
    "print(\"Mean Squared Error:\", mse)\n",
    "print(\"Root Mean Squared Error:\", rmse)\n",
    "print(\"R^2 Score:\", r2_bestModel)\n",
    "print(\"Training Time (seconds):\", training_time)\n",
    "\n",
    "\n"
   ],
   "metadata": {
    "collapsed": false,
    "ExecuteTime": {
     "end_time": "2023-11-16T17:40:03.145077300Z",
     "start_time": "2023-11-16T17:39:14.379683800Z"
    }
   },
   "id": "2e4b2bca914b0a89"
  },
  {
   "cell_type": "code",
   "execution_count": 78,
   "outputs": [
    {
     "name": "stdout",
     "output_type": "stream",
     "text": [
      "MSE sul set di test: 0.0005365344700008504\n",
      "R2 sul set di test: 0.8936306697373072\n"
     ]
    }
   ],
   "source": [
    "from sklearn.metrics import r2_score\n",
    "\n",
    "#Alleno il modello sulla porzione di training del dataset\n",
    "best_model.fit(X_train, y_train.values.ravel())\n",
    "\n",
    "# Calcola l'MSE e R2\n",
    "predictions = best_model.predict(X_test)\n",
    "mse_rf = mean_squared_error(y_test, predictions)\n",
    "r2_rf = r2_score(y_test, predictions)\n",
    "\n",
    "print(f'MSE sul set di test: {mse_rf}')\n",
    "print(f'R2 sul set di test: {r2_rf}')\n"
   ],
   "metadata": {
    "collapsed": false,
    "ExecuteTime": {
     "end_time": "2023-11-16T17:41:04.715936600Z",
     "start_time": "2023-11-16T17:41:04.600425100Z"
    }
   },
   "id": "1fa8838357826cc3"
  },
  {
   "cell_type": "code",
   "execution_count": 79,
   "outputs": [
    {
     "name": "stdout",
     "output_type": "stream",
     "text": [
      "[array([-0.00558329]), array([-0.00017925]), array([-0.00601634]), array([0.00015593]), array([0.0007986]), array([-0.00375526]), array([-0.08559203]), array([-0.00132833]), array([-0.00648143]), array([-0.00510939]), array([-0.00016905]), array([-0.00464885]), array([-0.02166349]), array([0.00682815]), array([-0.00569263])]\n",
      "--------------------\n"
     ]
    },
    {
     "data": {
      "text/plain": "<Figure size 640x480 with 1 Axes>",
      "image/png": "[encoded data removed]"
     },
     "metadata": {},
     "output_type": "display_data"
    }
   ],
   "source": [
    "# Assicurati che siano array NumPy o serie Pandas\n",
    "y_test = np.array(y_test)\n",
    "predictions_rf = np.array(predictions)\n",
    "# Analisi degli errori\n",
    "errore = []\n",
    "for i in range(len(y_test)):\n",
    "   errore.append(y_test[i] - predictions_rf[i])\n",
    "print(errore)\n",
    "print(\"--------------------\")\n",
    "# Supponendo che errore sia la tua lista di array\n",
    "errore_concatenato = np.concatenate(errore)\n",
    "\n",
    "# Creare un DataFrame pandas con una colonna chiamata 'Errore'\n",
    "df_errore = pd.DataFrame({'Errore': errore_concatenato})\n",
    "\n",
    "# Grafico degli errori\n",
    "plt.scatter(predictions_rf, df_errore)\n",
    "plt.xlabel('Previsioni')\n",
    "plt.ylabel('Errori')\n",
    "plt.title('Analisi degli Errori (RandomForestRegressor)')\n",
    "plt.show()\n"
   ],
   "metadata": {
    "collapsed": false,
    "ExecuteTime": {
     "end_time": "2023-11-16T17:41:47.719430700Z",
     "start_time": "2023-11-16T17:41:47.519023500Z"
    }
   },
   "id": "355081690f660698"
  },
  {
   "cell_type": "code",
   "execution_count": 80,
   "outputs": [
    {
     "name": "stdout",
     "output_type": "stream",
     "text": [
      "Valore reale: 0.003225113566605279 - Valore predetto: 0.008808401065362917 \n",
      "Errore di previsione 0.005583287498757638 \n",
      "\n",
      "Valore reale: 0.004140073664825046 - Valore predetto: 0.004319321990752921 \n",
      "Errore di previsione 0.00017924832592787487 \n",
      "\n",
      "Valore reale: 0.0022233701657458564 - Valore predetto: 0.008239710466397732 \n",
      "Errore di previsione 0.006016340300651875 \n",
      "\n",
      "Valore reale: 0.004064100675260896 - Valore predetto: 0.003908172381683183 \n",
      "Errore di previsione 0.00015592829357771298 \n",
      "\n",
      "Valore reale: 0.009362062615101288 - Valore predetto: 0.008563463765968019 \n",
      "Errore di previsione 0.00079859884913327 \n",
      "\n",
      "Valore reale: 0.0006431000613873541 - Valore predetto: 0.004398361704570922 \n",
      "Errore di previsione 0.0037552616431835682 \n",
      "\n",
      "Valore reale: 0.2896869244935544 - Valore predetto: 0.37527895268788897 \n",
      "Errore di previsione 0.08559202819433459 \n",
      "\n",
      "Valore reale: 0.0025698895027624308 - Valore predetto: 0.0038982194462081118 \n",
      "Errore di previsione 0.001328329943445681 \n",
      "\n",
      "Valore reale: 0.006957826887661142 - Valore predetto: 0.013439256376538335 \n",
      "Errore di previsione 0.006481429488877193 \n",
      "\n",
      "Valore reale: 0.004115107427869859 - Valore predetto: 0.009224500194100963 \n",
      "Errore di previsione 0.005109392766231104 \n",
      "\n",
      "Valore reale: 0.014656476365868632 - Valore predetto: 0.014825527737437512 \n",
      "Errore di previsione 0.00016905137156887975 \n",
      "\n",
      "Valore reale: 0.007324739103744628 - Valore predetto: 0.01197359075871847 \n",
      "Errore di previsione 0.0046488516549738415 \n",
      "\n",
      "Valore reale: 0.0030392817679558005 - Valore predetto: 0.02470277310152299 \n",
      "Errore di previsione 0.021663491333567188 \n",
      "\n",
      "Valore reale: 0.011062922038060157 - Valore predetto: 0.0042347754130979175 \n",
      "Errore di previsione 0.006828146624962239 \n",
      "\n",
      "[[0.00322511]\n",
      " [0.00414007]\n",
      " [0.00222337]\n",
      " [0.0040641 ]\n",
      " [0.00936206]\n",
      " [0.0006431 ]\n",
      " [0.28968692]\n",
      " [0.00256989]\n",
      " [0.00695783]\n",
      " [0.00411511]\n",
      " [0.01465648]\n",
      " [0.00732474]\n",
      " [0.00303928]\n",
      " [0.01106292]\n",
      " [0.00167603]]\n",
      "Residui originali: \n",
      " [7.367092021735716e-13, 2.3651637357857164e-14, 7.938500863307143e-13, 2.0574582409285653e-14, 1.0537431954428585e-13, 4.955030185564287e-13, 1.1293782528214256e-11, 1.7527180770771418e-13, 8.552181396278569e-13, 6.74179266111428e-13, 2.2306159427142115e-14, 6.134113270221434e-13, 2.858476017972857e-12, 9.009671190171426e-13]\n"
     ]
    }
   ],
   "source": [
    "#Codice che mi serve solo per controllare se l'allenamento procede correttamente.\n",
    "#Devo controllare che gli errori non si discostino troppo dai valori reali\n",
    "#Ora controllo dopo averlo allenato col modello migliore utilizzando gli iperparametri migliori\n",
    "\n",
    "errorilist2 = []\n",
    "\n",
    "for a in range(0, len(y_test) - 1):\n",
    "    errorilist2.append(abs(y_ravel[a] - predictions[a]))\n",
    "    print(f\"Valore reale: {y_ravel[a]} - Valore predetto: {predictions[a]} \\n\"\n",
    "         f\"Errore di previsione { abs(y_ravel[a] - predictions[a]) } \\n\")\n",
    "    \n",
    "erroriList2 = np.array(errorilist2)\n",
    "\n",
    "# De-standardizzazione dei residui\n",
    "residui_originali_2 = []\n",
    "print(y_test)\n",
    "for i in range(len(erroriList2)):\n",
    "    residui_originali_2.append(\n",
    "        erroriList2[i] * (k2_max - k2_min) + k2_min\n",
    "    )\n",
    "\n",
    "print(\"Residui originali: \\n\", residui_originali_2)"
   ],
   "metadata": {
    "collapsed": false,
    "ExecuteTime": {
     "end_time": "2023-11-16T17:41:54.337587400Z",
     "start_time": "2023-11-16T17:41:54.335788100Z"
    }
   },
   "id": "d06e754e2deaa5bf"
  },
  {
   "cell_type": "code",
   "execution_count": 81,
   "outputs": [
    {
     "name": "stdout",
     "output_type": "stream",
     "text": [
      "Media MSE sulla LOOCV: 0.009393776035310957\n"
     ]
    },
    {
     "data": {
      "text/plain": "<Figure size 640x480 with 1 Axes>",
      "image/png": "[encoded data removed]"
     },
     "metadata": {},
     "output_type": "display_data"
    }
   ],
   "source": [
    "# from sklearn.ensemble import RandomForestRegressor\n",
    "# import numpy as np\n",
    "# import matplotlib.pyplot as plt\n",
    "# \n",
    "# # Supponiamo che X sia il tuo insieme di dati e y sia l'etichetta associata\n",
    "# # Sostituisci X e y con i tuoi dati effettivi\n",
    "# \n",
    "# # Numero totale di dati\n",
    "# num_dati = len(df_scaled)\n",
    "# # Inizializza il regressore\n",
    "# regressor = RandomForestRegressor()\n",
    "# \n",
    "# # Inizializza un array per tenere traccia delle prestazioni durante l'apprendimento\n",
    "# performance = []\n",
    "# \n",
    "# # Ciclo attraverso le iterazioni\n",
    "# for i in range(num_dati):\n",
    "#     # Seleziona un singolo dato da aggiungere al set di addestramento\n",
    "#     indice_train = i % num_dati\n",
    "# \n",
    "#     # Aggiorna il set di addestramento\n",
    "#     X_train = df_scaled[:indice_train + 1]\n",
    "#     y_train = df_scaled['k_m2'][:indice_train + 1]\n",
    "# \n",
    "#     # Addestra il regressore\n",
    "#     regressor.fit(X_train, y_train)\n",
    "# \n",
    "#     # Valuta le prestazioni sul set di addestramento\n",
    "#     y_pred_train = regressor.predict(X_train)\n",
    "#     mse_train = np.mean((y_train - y_pred_train)**2)\n",
    "# \n",
    "#     performance.append(mse_train)\n",
    "# \n",
    "# # Visualizza come le prestazioni cambiano con l'apprendimento\n",
    "# plt.plot(performance, marker='o')\n",
    "# plt.xlabel('Numero di iterazioni')\n",
    "# plt.ylabel('MSE sul set di addestramento')\n",
    "# plt.title('Apprendimento cumulativo con RandomForestRegressor')\n",
    "# plt.show()\n",
    "\n",
    "from sklearn.metrics import r2_score\n",
    "from sklearn.model_selection import LeaveOneOut\n",
    "from sklearn.ensemble import RandomForestRegressor\n",
    "from sklearn.metrics import mean_squared_error\n",
    "import numpy as np\n",
    "\n",
    "# Supponiamo che X sia il tuo insieme di dati e y sia l'etichetta associata\n",
    "# Sostituisci X e y con i tuoi dati effettivi\n",
    "\n",
    "\n",
    "\n",
    "# Inizializza lo schema LOOCV\n",
    "loo = LeaveOneOut()\n",
    "\n",
    "# Inizializza un array per tenere traccia delle prestazioni\n",
    "performance = []\n",
    "\n",
    "# Ciclo attraverso le iterazioni della LOOCV\n",
    "for train_index, test_index in loo.split(df_scaled):\n",
    "    X_train, X_test = df_scaled.drop('k_m2', axis=1).iloc[train_index], df_scaled.drop('k_m2', axis=1).iloc[test_index]\n",
    "    y_train, y_test = df_scaled['k_m2'].iloc[train_index], df_scaled['k_m2'].iloc[test_index]\n",
    "\n",
    "    # Addestra il regressore\n",
    "    regressor.fit(X_train, y_train)\n",
    "\n",
    "    # Valuta le prestazioni sul set di test\n",
    "    y_pred = regressor.predict(X_test)\n",
    "    mse = mean_squared_error(y_test, y_pred)\n",
    "    \n",
    "    performance.append(mse)\n",
    "\n",
    "# Media degli errori quadratici medi ottenuti in ciascuna iterazione\n",
    "media_performance = np.mean(performance)\n",
    "print(f\"Media MSE sulla LOOCV: {media_performance}\")\n",
    "\n",
    "\n",
    "# Plot delle prestazioni in ciascuna iterazione\n",
    "plt.plot(performance, marker='o')\n",
    "plt.xlabel('Iterazione LOOCV')\n",
    "plt.ylabel('MSE')\n",
    "plt.title('Prestazioni nella LOOCV')\n",
    "plt.show()"
   ],
   "metadata": {
    "collapsed": false,
    "ExecuteTime": {
     "end_time": "2023-11-16T17:42:08.226655300Z",
     "start_time": "2023-11-16T17:42:01.369443Z"
    }
   },
   "id": "d3136f5110d42e20"
  },
  {
   "cell_type": "code",
   "execution_count": 82,
   "outputs": [
    {
     "data": {
      "text/plain": "<Figure size 640x480 with 1 Axes>",
      "image/png": "[encoded data removed]"
     },
     "metadata": {},
     "output_type": "display_data"
    }
   ],
   "source": [
    "# ANALISI DEI RESIDUI\n",
    "\n",
    "#TODO -> Sto provando a completare l'analisi degli errori prima di passare al salvataggio del modello per poi poterlo testare su un dataswet di prova. Prima di quel punto è necessario committare il lavoro effettuato. Creare dunque un database capace di poter essere testabile sul modello appena creato. L'analisi degli errori attualmente è stata svolta per il primo step empirico che considera la differenza tra y e y_pred... gli altri metodi ancora non vengono testati per problemi con 'df_errore' che non viene riconosciuto come un array.. \n",
    "#QQ plot\n",
    "from scipy import stats\n",
    "\n",
    "stats.probplot(erroriList2, plot=plt)\n",
    "plt.title('Q-Q Plot dei Residui')\n",
    "plt.show()\n"
   ],
   "metadata": {
    "collapsed": false,
    "ExecuteTime": {
     "end_time": "2023-11-16T17:42:15.996680100Z",
     "start_time": "2023-11-16T17:42:15.866752600Z"
    }
   },
   "id": "24a15b66c596850a"
  },
  {
   "cell_type": "code",
   "execution_count": 83,
   "outputs": [
    {
     "ename": "ValueError",
     "evalue": "Length of values (15) does not match length of index (1)",
     "output_type": "error",
     "traceback": [
      "\u001B[1;31m---------------------------------------------------------------------------\u001B[0m",
      "\u001B[1;31mValueError\u001B[0m                                Traceback (most recent call last)",
      "Cell \u001B[1;32mIn[83], line 5\u001B[0m\n\u001B[0;32m      1\u001B[0m \u001B[38;5;66;03m#Questo codice aiuta ad identificare i valori anomali nel dataset. \u001B[39;00m\n\u001B[0;32m      2\u001B[0m \n\u001B[0;32m      3\u001B[0m \u001B[38;5;66;03m# Aggiungi i residui al DataFrame originale\u001B[39;00m\n\u001B[0;32m      4\u001B[0m df_with_residui \u001B[38;5;241m=\u001B[39m X_test\u001B[38;5;241m.\u001B[39mcopy()\n\u001B[1;32m----> 5\u001B[0m \u001B[43mdf_with_residui\u001B[49m\u001B[43m[\u001B[49m\u001B[38;5;124;43m'\u001B[39;49m\u001B[38;5;124;43mResidui\u001B[39;49m\u001B[38;5;124;43m'\u001B[39;49m\u001B[43m]\u001B[49m \u001B[38;5;241m=\u001B[39m errore\n\u001B[0;32m      7\u001B[0m \u001B[38;5;28mprint\u001B[39m(df_with_residui\u001B[38;5;241m.\u001B[39msize())\n\u001B[0;32m      8\u001B[0m \u001B[38;5;28mprint\u001B[39m(errore\u001B[38;5;241m.\u001B[39msize())\n",
      "File \u001B[1;32m~\\Desktop\\Loris_WorkSpace\\Permeability_Eval_AI\\venv\\Lib\\site-packages\\pandas\\core\\frame.py:4091\u001B[0m, in \u001B[0;36mDataFrame.__setitem__\u001B[1;34m(self, key, value)\u001B[0m\n\u001B[0;32m   4088\u001B[0m     \u001B[38;5;28mself\u001B[39m\u001B[38;5;241m.\u001B[39m_setitem_array([key], value)\n\u001B[0;32m   4089\u001B[0m \u001B[38;5;28;01melse\u001B[39;00m:\n\u001B[0;32m   4090\u001B[0m     \u001B[38;5;66;03m# set column\u001B[39;00m\n\u001B[1;32m-> 4091\u001B[0m     \u001B[38;5;28;43mself\u001B[39;49m\u001B[38;5;241;43m.\u001B[39;49m\u001B[43m_set_item\u001B[49m\u001B[43m(\u001B[49m\u001B[43mkey\u001B[49m\u001B[43m,\u001B[49m\u001B[43m \u001B[49m\u001B[43mvalue\u001B[49m\u001B[43m)\u001B[49m\n",
      "File \u001B[1;32m~\\Desktop\\Loris_WorkSpace\\Permeability_Eval_AI\\venv\\Lib\\site-packages\\pandas\\core\\frame.py:4300\u001B[0m, in \u001B[0;36mDataFrame._set_item\u001B[1;34m(self, key, value)\u001B[0m\n\u001B[0;32m   4290\u001B[0m \u001B[38;5;28;01mdef\u001B[39;00m \u001B[38;5;21m_set_item\u001B[39m(\u001B[38;5;28mself\u001B[39m, key, value) \u001B[38;5;241m-\u001B[39m\u001B[38;5;241m>\u001B[39m \u001B[38;5;28;01mNone\u001B[39;00m:\n\u001B[0;32m   4291\u001B[0m \u001B[38;5;250m    \u001B[39m\u001B[38;5;124;03m\"\"\"\u001B[39;00m\n\u001B[0;32m   4292\u001B[0m \u001B[38;5;124;03m    Add series to DataFrame in specified column.\u001B[39;00m\n\u001B[0;32m   4293\u001B[0m \n\u001B[1;32m   (...)\u001B[0m\n\u001B[0;32m   4298\u001B[0m \u001B[38;5;124;03m    ensure homogeneity.\u001B[39;00m\n\u001B[0;32m   4299\u001B[0m \u001B[38;5;124;03m    \"\"\"\u001B[39;00m\n\u001B[1;32m-> 4300\u001B[0m     value, refs \u001B[38;5;241m=\u001B[39m \u001B[38;5;28;43mself\u001B[39;49m\u001B[38;5;241;43m.\u001B[39;49m\u001B[43m_sanitize_column\u001B[49m\u001B[43m(\u001B[49m\u001B[43mvalue\u001B[49m\u001B[43m)\u001B[49m\n\u001B[0;32m   4302\u001B[0m     \u001B[38;5;28;01mif\u001B[39;00m (\n\u001B[0;32m   4303\u001B[0m         key \u001B[38;5;129;01min\u001B[39;00m \u001B[38;5;28mself\u001B[39m\u001B[38;5;241m.\u001B[39mcolumns\n\u001B[0;32m   4304\u001B[0m         \u001B[38;5;129;01mand\u001B[39;00m value\u001B[38;5;241m.\u001B[39mndim \u001B[38;5;241m==\u001B[39m \u001B[38;5;241m1\u001B[39m\n\u001B[0;32m   4305\u001B[0m         \u001B[38;5;129;01mand\u001B[39;00m \u001B[38;5;129;01mnot\u001B[39;00m \u001B[38;5;28misinstance\u001B[39m(value\u001B[38;5;241m.\u001B[39mdtype, ExtensionDtype)\n\u001B[0;32m   4306\u001B[0m     ):\n\u001B[0;32m   4307\u001B[0m         \u001B[38;5;66;03m# broadcast across multiple columns if necessary\u001B[39;00m\n\u001B[0;32m   4308\u001B[0m         \u001B[38;5;28;01mif\u001B[39;00m \u001B[38;5;129;01mnot\u001B[39;00m \u001B[38;5;28mself\u001B[39m\u001B[38;5;241m.\u001B[39mcolumns\u001B[38;5;241m.\u001B[39mis_unique \u001B[38;5;129;01mor\u001B[39;00m \u001B[38;5;28misinstance\u001B[39m(\u001B[38;5;28mself\u001B[39m\u001B[38;5;241m.\u001B[39mcolumns, MultiIndex):\n",
      "File \u001B[1;32m~\\Desktop\\Loris_WorkSpace\\Permeability_Eval_AI\\venv\\Lib\\site-packages\\pandas\\core\\frame.py:5039\u001B[0m, in \u001B[0;36mDataFrame._sanitize_column\u001B[1;34m(self, value)\u001B[0m\n\u001B[0;32m   5036\u001B[0m     \u001B[38;5;28;01mreturn\u001B[39;00m _reindex_for_setitem(value, \u001B[38;5;28mself\u001B[39m\u001B[38;5;241m.\u001B[39mindex)\n\u001B[0;32m   5038\u001B[0m \u001B[38;5;28;01mif\u001B[39;00m is_list_like(value):\n\u001B[1;32m-> 5039\u001B[0m     \u001B[43mcom\u001B[49m\u001B[38;5;241;43m.\u001B[39;49m\u001B[43mrequire_length_match\u001B[49m\u001B[43m(\u001B[49m\u001B[43mvalue\u001B[49m\u001B[43m,\u001B[49m\u001B[43m \u001B[49m\u001B[38;5;28;43mself\u001B[39;49m\u001B[38;5;241;43m.\u001B[39;49m\u001B[43mindex\u001B[49m\u001B[43m)\u001B[49m\n\u001B[0;32m   5040\u001B[0m \u001B[38;5;28;01mreturn\u001B[39;00m sanitize_array(value, \u001B[38;5;28mself\u001B[39m\u001B[38;5;241m.\u001B[39mindex, copy\u001B[38;5;241m=\u001B[39m\u001B[38;5;28;01mTrue\u001B[39;00m, allow_2d\u001B[38;5;241m=\u001B[39m\u001B[38;5;28;01mTrue\u001B[39;00m), \u001B[38;5;28;01mNone\u001B[39;00m\n",
      "File \u001B[1;32m~\\Desktop\\Loris_WorkSpace\\Permeability_Eval_AI\\venv\\Lib\\site-packages\\pandas\\core\\common.py:561\u001B[0m, in \u001B[0;36mrequire_length_match\u001B[1;34m(data, index)\u001B[0m\n\u001B[0;32m    557\u001B[0m \u001B[38;5;250m\u001B[39m\u001B[38;5;124;03m\"\"\"\u001B[39;00m\n\u001B[0;32m    558\u001B[0m \u001B[38;5;124;03mCheck the length of data matches the length of the index.\u001B[39;00m\n\u001B[0;32m    559\u001B[0m \u001B[38;5;124;03m\"\"\"\u001B[39;00m\n\u001B[0;32m    560\u001B[0m \u001B[38;5;28;01mif\u001B[39;00m \u001B[38;5;28mlen\u001B[39m(data) \u001B[38;5;241m!=\u001B[39m \u001B[38;5;28mlen\u001B[39m(index):\n\u001B[1;32m--> 561\u001B[0m     \u001B[38;5;28;01mraise\u001B[39;00m \u001B[38;5;167;01mValueError\u001B[39;00m(\n\u001B[0;32m    562\u001B[0m         \u001B[38;5;124m\"\u001B[39m\u001B[38;5;124mLength of values \u001B[39m\u001B[38;5;124m\"\u001B[39m\n\u001B[0;32m    563\u001B[0m         \u001B[38;5;124mf\u001B[39m\u001B[38;5;124m\"\u001B[39m\u001B[38;5;124m(\u001B[39m\u001B[38;5;132;01m{\u001B[39;00m\u001B[38;5;28mlen\u001B[39m(data)\u001B[38;5;132;01m}\u001B[39;00m\u001B[38;5;124m) \u001B[39m\u001B[38;5;124m\"\u001B[39m\n\u001B[0;32m    564\u001B[0m         \u001B[38;5;124m\"\u001B[39m\u001B[38;5;124mdoes not match length of index \u001B[39m\u001B[38;5;124m\"\u001B[39m\n\u001B[0;32m    565\u001B[0m         \u001B[38;5;124mf\u001B[39m\u001B[38;5;124m\"\u001B[39m\u001B[38;5;124m(\u001B[39m\u001B[38;5;132;01m{\u001B[39;00m\u001B[38;5;28mlen\u001B[39m(index)\u001B[38;5;132;01m}\u001B[39;00m\u001B[38;5;124m)\u001B[39m\u001B[38;5;124m\"\u001B[39m\n\u001B[0;32m    566\u001B[0m     )\n",
      "\u001B[1;31mValueError\u001B[0m: Length of values (15) does not match length of index (1)"
     ]
    }
   ],
   "source": [
    "#Questo codice aiuta ad identificare i valori anomali nel dataset. \n",
    "\n",
    "# Aggiungi i residui al DataFrame originale\n",
    "df_with_residui = X_test.copy()\n",
    "df_with_residui['Residui'] = errore\n",
    "\n",
    "print(df_with_residui.size())\n",
    "print(errore.size())\n",
    "\n",
    "# Osservazioni sottostimate (residui negativi)\n",
    "sottostimate = df_with_residui[df_with_residui['Residui'] < 0]\n",
    "\n",
    "# Osservazioni sovrastimate (residui positivi)\n",
    "sovrastimate = df_with_residui[df_with_residui['Residui'] > 0]\n",
    "\n",
    "# Visualizza le prime righe delle osservazioni sottostimate\n",
    "print(\"Osservazioni sottostimate:\")\n",
    "print(sottostimate.head())\n",
    "\n",
    "# Visualizza le prime righe delle osservazioni sovrastimate\n",
    "print(\"\\nOsservazioni sovrastimate:\")\n",
    "print(sovrastimate.head())\n"
   ],
   "metadata": {
    "collapsed": false,
    "ExecuteTime": {
     "end_time": "2023-11-16T17:42:22.273151600Z",
     "start_time": "2023-11-16T17:42:22.220302200Z"
    }
   },
   "id": "bb1d57e9812a2302"
  },
  {
   "cell_type": "code",
   "execution_count": 84,
   "outputs": [
    {
     "data": {
      "text/plain": "<Figure size 640x480 with 1 Axes>",
      "image/png": "[encoded data removed]"
     },
     "metadata": {},
     "output_type": "display_data"
    }
   ],
   "source": [
    "#Grafico dei residui vs valori predetti\n",
    "\n",
    "plt.scatter(predictions_rf, df_errore['Errore'])\n",
    "plt.axhline(y=0, color='r', linestyle='--')\n",
    "plt.xlabel('Previsioni')\n",
    "plt.ylabel('Residui')\n",
    "plt.title('Residui vs Previsioni')\n",
    "plt.show()\n",
    "\n",
    "#In teoria qui andrei a cercare la situazione ideale in cuii miei dati si dispongono casualmente intorno alla linea rossa tratteggiata senza alcun ordine particolare ( y = 0 ). I dati al di sopra della linea rossa indicano che il modello sottostima i valori, mentre i dati al di sotto della linea rossa indicano che il modello sovrastima i valori. Inoltre, se i dati sono disposti in modo non casuale, potrebbe essere necessario utilizzare un modello diverso."
   ],
   "metadata": {
    "collapsed": false,
    "ExecuteTime": {
     "end_time": "2023-11-16T17:42:37.016666700Z",
     "start_time": "2023-11-16T17:42:36.871056900Z"
    }
   },
   "id": "59bf8681af0f8716"
  },
  {
   "cell_type": "code",
   "execution_count": 17,
   "outputs": [
    {
     "name": "stdout",
     "output_type": "stream",
     "text": [
      "Modello salvato come 'RandomForestRegressor_Permeability.pkl'\n"
     ]
    }
   ],
   "source": [
    "# salvare il modello allenato di XGBoost\n",
    "import pickle\n",
    "\n",
    "# Salva il modello su disco\n",
    "with open('RandomForestRegressor_Permeability.pkl', 'wb') as model_file:\n",
    "    pickle.dump(best_model, model_file)\n",
    "\n",
    "print(\"Modello salvato come 'RandomForestRegressor_Permeability.pkl'\")\n",
    "##################################################################\n",
    "\n",
    "# Carica il modello salvato\n",
    "import pickle\n",
    "with open('RandomForestRegressor_Permeability.pkl', 'rb') as model_file:\n",
    "    loaded_model_RFR_Perm = pickle.load(model_file)"
   ],
   "metadata": {
    "collapsed": false,
    "ExecuteTime": {
     "end_time": "2023-11-12T12:07:37.414924200Z",
     "start_time": "2023-11-12T12:07:37.387444700Z"
    }
   },
   "id": "651d1353fcdc867"
  },
  {
   "cell_type": "code",
   "execution_count": 87,
   "outputs": [
    {
     "name": "stderr",
     "output_type": "stream",
     "text": [
      "Testing Algorithms:   0%|          | 0/10 [00:00<?, ?it/s]C:\\Users\\Utente\\Desktop\\Loris_WorkSpace\\Permeability_Eval_AI\\venv\\Lib\\site-packages\\sklearn\\base.py:1152: DataConversionWarning: A column-vector y was passed when a 1d array was expected. Please change the shape of y to (n_samples,), for example using ravel().\n",
      "  return fit_method(estimator, *args, **kwargs)\n",
      "Testing Algorithms:  50%|█████     | 5/10 [00:00<00:00, 24.62it/s]C:\\Users\\Utente\\Desktop\\Loris_WorkSpace\\Permeability_Eval_AI\\venv\\Lib\\site-packages\\sklearn\\utils\\validation.py:1183: DataConversionWarning: A column-vector y was passed when a 1d array was expected. Please change the shape of y to (n_samples, ), for example using ravel().\n",
      "  y = column_or_1d(y, warn=True)\n",
      "C:\\Users\\Utente\\Desktop\\Loris_WorkSpace\\Permeability_Eval_AI\\venv\\Lib\\site-packages\\sklearn\\neural_network\\_multilayer_perceptron.py:1625: DataConversionWarning: A column-vector y was passed when a 1d array was expected. Please change the shape of y to (n_samples, ), for example using ravel().\n",
      "  y = column_or_1d(y, warn=True)\n",
      "Testing Algorithms: 100%|██████████| 10/10 [00:00<00:00, 33.30it/s]"
     ]
    },
    {
     "name": "stdout",
     "output_type": "stream",
     "text": [
      "[LightGBM] [Warning] There are no meaningful features which satisfy the provided configuration. Decreasing Dataset parameters min_data_in_bin or min_data_in_leaf and re-constructing Dataset might resolve this warning.\n",
      "[LightGBM] [Info] Total Bins 0\n",
      "[LightGBM] [Info] Number of data points in the train set: 33, number of used features: 0\n",
      "[LightGBM] [Info] Start training from score 0.085160\n",
      "[LightGBM] [Warning] Stopped training because there are no more leaves that meet the split requirements\n",
      "[LightGBM] [Warning] Stopped training because there are no more leaves that meet the split requirements\n",
      "[LightGBM] [Warning] Stopped training because there are no more leaves that meet the split requirements\n",
      "[LightGBM] [Warning] Stopped training because there are no more leaves that meet the split requirements\n",
      "[LightGBM] [Warning] Stopped training because there are no more leaves that meet the split requirements\n",
      "[LightGBM] [Warning] Stopped training because there are no more leaves that meet the split requirements\n",
      "[LightGBM] [Warning] Stopped training because there are no more leaves that meet the split requirements\n",
      "[LightGBM] [Warning] Stopped training because there are no more leaves that meet the split requirements\n",
      "[LightGBM] [Warning] Stopped training because there are no more leaves that meet the split requirements\n",
      "[LightGBM] [Warning] Stopped training because there are no more leaves that meet the split requirements\n",
      "[LightGBM] [Warning] Stopped training because there are no more leaves that meet the split requirements\n",
      "[LightGBM] [Warning] Stopped training because there are no more leaves that meet the split requirements\n",
      "[LightGBM] [Warning] Stopped training because there are no more leaves that meet the split requirements\n",
      "[LightGBM] [Warning] Stopped training because there are no more leaves that meet the split requirements\n",
      "[LightGBM] [Warning] Stopped training because there are no more leaves that meet the split requirements\n",
      "[LightGBM] [Warning] Stopped training because there are no more leaves that meet the split requirements\n",
      "[LightGBM] [Warning] Stopped training because there are no more leaves that meet the split requirements\n",
      "[LightGBM] [Warning] Stopped training because there are no more leaves that meet the split requirements\n",
      "[LightGBM] [Warning] Stopped training because there are no more leaves that meet the split requirements\n",
      "[LightGBM] [Warning] Stopped training because there are no more leaves that meet the split requirements\n",
      "[LightGBM] [Warning] Stopped training because there are no more leaves that meet the split requirements\n",
      "[LightGBM] [Warning] Stopped training because there are no more leaves that meet the split requirements\n",
      "[LightGBM] [Warning] Stopped training because there are no more leaves that meet the split requirements\n",
      "[LightGBM] [Warning] Stopped training because there are no more leaves that meet the split requirements\n",
      "[LightGBM] [Warning] Stopped training because there are no more leaves that meet the split requirements\n",
      "[LightGBM] [Warning] Stopped training because there are no more leaves that meet the split requirements\n",
      "[LightGBM] [Warning] Stopped training because there are no more leaves that meet the split requirements\n",
      "[LightGBM] [Warning] Stopped training because there are no more leaves that meet the split requirements\n",
      "[LightGBM] [Warning] Stopped training because there are no more leaves that meet the split requirements\n",
      "[LightGBM] [Warning] Stopped training because there are no more leaves that meet the split requirements\n",
      "[LightGBM] [Warning] Stopped training because there are no more leaves that meet the split requirements\n",
      "[LightGBM] [Warning] Stopped training because there are no more leaves that meet the split requirements\n",
      "[LightGBM] [Warning] Stopped training because there are no more leaves that meet the split requirements\n",
      "[LightGBM] [Warning] Stopped training because there are no more leaves that meet the split requirements\n",
      "[LightGBM] [Warning] Stopped training because there are no more leaves that meet the split requirements\n",
      "[LightGBM] [Warning] Stopped training because there are no more leaves that meet the split requirements\n",
      "[LightGBM] [Warning] Stopped training because there are no more leaves that meet the split requirements\n",
      "[LightGBM] [Warning] Stopped training because there are no more leaves that meet the split requirements\n",
      "[LightGBM] [Warning] Stopped training because there are no more leaves that meet the split requirements\n",
      "[LightGBM] [Warning] Stopped training because there are no more leaves that meet the split requirements\n",
      "[LightGBM] [Warning] Stopped training because there are no more leaves that meet the split requirements\n",
      "[LightGBM] [Warning] Stopped training because there are no more leaves that meet the split requirements\n",
      "[LightGBM] [Warning] Stopped training because there are no more leaves that meet the split requirements\n",
      "[LightGBM] [Warning] Stopped training because there are no more leaves that meet the split requirements\n",
      "[LightGBM] [Warning] Stopped training because there are no more leaves that meet the split requirements\n",
      "[LightGBM] [Warning] Stopped training because there are no more leaves that meet the split requirements\n",
      "[LightGBM] [Warning] Stopped training because there are no more leaves that meet the split requirements\n",
      "[LightGBM] [Warning] Stopped training because there are no more leaves that meet the split requirements\n",
      "[LightGBM] [Warning] Stopped training because there are no more leaves that meet the split requirements\n",
      "[LightGBM] [Warning] Stopped training because there are no more leaves that meet the split requirements\n",
      "[LightGBM] [Warning] Stopped training because there are no more leaves that meet the split requirements\n",
      "[LightGBM] [Warning] Stopped training because there are no more leaves that meet the split requirements\n",
      "[LightGBM] [Warning] Stopped training because there are no more leaves that meet the split requirements\n",
      "[LightGBM] [Warning] Stopped training because there are no more leaves that meet the split requirements\n",
      "[LightGBM] [Warning] Stopped training because there are no more leaves that meet the split requirements\n",
      "[LightGBM] [Warning] Stopped training because there are no more leaves that meet the split requirements\n",
      "[LightGBM] [Warning] Stopped training because there are no more leaves that meet the split requirements\n",
      "[LightGBM] [Warning] Stopped training because there are no more leaves that meet the split requirements\n",
      "[LightGBM] [Warning] Stopped training because there are no more leaves that meet the split requirements\n",
      "[LightGBM] [Warning] Stopped training because there are no more leaves that meet the split requirements\n",
      "[LightGBM] [Warning] Stopped training because there are no more leaves that meet the split requirements\n",
      "[LightGBM] [Warning] Stopped training because there are no more leaves that meet the split requirements\n",
      "[LightGBM] [Warning] Stopped training because there are no more leaves that meet the split requirements\n",
      "[LightGBM] [Warning] Stopped training because there are no more leaves that meet the split requirements\n",
      "[LightGBM] [Warning] Stopped training because there are no more leaves that meet the split requirements\n",
      "[LightGBM] [Warning] Stopped training because there are no more leaves that meet the split requirements\n",
      "[LightGBM] [Warning] Stopped training because there are no more leaves that meet the split requirements\n",
      "[LightGBM] [Warning] Stopped training because there are no more leaves that meet the split requirements\n",
      "[LightGBM] [Warning] Stopped training because there are no more leaves that meet the split requirements\n",
      "[LightGBM] [Warning] Stopped training because there are no more leaves that meet the split requirements\n",
      "[LightGBM] [Warning] Stopped training because there are no more leaves that meet the split requirements\n",
      "[LightGBM] [Warning] Stopped training because there are no more leaves that meet the split requirements\n",
      "[LightGBM] [Warning] Stopped training because there are no more leaves that meet the split requirements\n",
      "[LightGBM] [Warning] Stopped training because there are no more leaves that meet the split requirements\n",
      "[LightGBM] [Warning] Stopped training because there are no more leaves that meet the split requirements\n",
      "[LightGBM] [Warning] Stopped training because there are no more leaves that meet the split requirements\n",
      "[LightGBM] [Warning] Stopped training because there are no more leaves that meet the split requirements\n",
      "[LightGBM] [Warning] Stopped training because there are no more leaves that meet the split requirements\n",
      "[LightGBM] [Warning] Stopped training because there are no more leaves that meet the split requirements\n",
      "[LightGBM] [Warning] Stopped training because there are no more leaves that meet the split requirements\n",
      "[LightGBM] [Warning] Stopped training because there are no more leaves that meet the split requirements\n",
      "[LightGBM] [Warning] Stopped training because there are no more leaves that meet the split requirements\n",
      "[LightGBM] [Warning] Stopped training because there are no more leaves that meet the split requirements\n",
      "[LightGBM] [Warning] Stopped training because there are no more leaves that meet the split requirements\n",
      "[LightGBM] [Warning] Stopped training because there are no more leaves that meet the split requirements\n",
      "[LightGBM] [Warning] Stopped training because there are no more leaves that meet the split requirements\n",
      "[LightGBM] [Warning] Stopped training because there are no more leaves that meet the split requirements\n",
      "[LightGBM] [Warning] Stopped training because there are no more leaves that meet the split requirements\n",
      "[LightGBM] [Warning] Stopped training because there are no more leaves that meet the split requirements\n",
      "[LightGBM] [Warning] Stopped training because there are no more leaves that meet the split requirements\n",
      "[LightGBM] [Warning] Stopped training because there are no more leaves that meet the split requirements\n",
      "[LightGBM] [Warning] Stopped training because there are no more leaves that meet the split requirements\n",
      "[LightGBM] [Warning] Stopped training because there are no more leaves that meet the split requirements\n",
      "[LightGBM] [Warning] Stopped training because there are no more leaves that meet the split requirements\n",
      "[LightGBM] [Warning] Stopped training because there are no more leaves that meet the split requirements\n",
      "[LightGBM] [Warning] Stopped training because there are no more leaves that meet the split requirements\n",
      "[LightGBM] [Warning] Stopped training because there are no more leaves that meet the split requirements\n",
      "[LightGBM] [Warning] Stopped training because there are no more leaves that meet the split requirements\n",
      "[LightGBM] [Warning] Stopped training because there are no more leaves that meet the split requirements\n",
      "[LightGBM] [Warning] Stopped training because there are no more leaves that meet the split requirements\n"
     ]
    },
    {
     "name": "stderr",
     "output_type": "stream",
     "text": [
      "\n"
     ]
    }
   ],
   "source": [
    "from sklearn import gaussian_process\n",
    "from sklearn.ensemble import RandomForestClassifier\n",
    "from sklearn.tree import DecisionTreeClassifier\n",
    "from xgboost import XGBRegressor as xgb\n",
    "from sklearn.metrics import mean_squared_error\n",
    "from sklearn.model_selection import train_test_split\n",
    "from sklearn.linear_model import LinearRegression\n",
    "from sklearn.preprocessing import StandardScaler\n",
    "from sklearn.svm import SVC\n",
    "import matplotlib.pyplot as plt\n",
    "\n",
    "\n",
    "\n",
    "\n",
    "# Suddivisione del dataset in set di addestramento e test\n",
    "\n",
    "#TODO provare con 0.7 - 30  o  0.7 - 20\n",
    "X_train, X_test, y_train, y_test = train_test_split(features_X, targets_X, test_size=0.3, random_state=42)\n",
    "from sklearn.linear_model import LinearRegression, Ridge, Lasso\n",
    "from sklearn.tree import DecisionTreeRegressor\n",
    "from sklearn.ensemble import RandomForestRegressor\n",
    "from sklearn.svm import SVR\n",
    "from sklearn.gaussian_process import GaussianProcessRegressor\n",
    "from sklearn.neural_network import MLPRegressor\n",
    "from xgboost import XGBRegressor\n",
    "from lightgbm import LGBMRegressor\n",
    "from sklearn.metrics import mean_squared_error\n",
    "import numpy as np\n",
    "import time\n",
    "from sklearn.model_selection import train_test_split\n",
    "from tqdm import tqdm\n",
    "\n",
    "# Lista degli algoritmi da testare\n",
    "algorithms = [\n",
    "    (\"Linear Regression\", LinearRegression()),\n",
    "    (\"Ridge Regression\", Ridge()),\n",
    "    (\"Lasso Regression\", Lasso()),\n",
    "    (\"Decision Tree Regressor\", DecisionTreeRegressor()),\n",
    "    (\"Random Forest Regressor\", RandomForestRegressor()),\n",
    "    (\"SVR\", SVR()),\n",
    "    (\"Gaussian Process Regressor\", GaussianProcessRegressor()),\n",
    "    (\"MLP Regressor\", MLPRegressor()),\n",
    "    (\"XGBoost Regressor\", XGBRegressor()),\n",
    "    (\"LGBM Regressor\", LGBMRegressor()),\n",
    "]\n",
    "\n",
    "# Definisci un dizionario per raccogliere i risultati\n",
    "results_dict = {\n",
    "    \"Model\": [],\n",
    "    \"Training RMSE\": [],\n",
    "    \"Training MSE\": [],\n",
    "    \"Training R^2\": [],\n",
    "    \"Test RMSE\": [],\n",
    "    \"Test MSE\": [],\n",
    "    \"Test R^2\": [],\n",
    "    \"Training Time (s)\": []\n",
    "}\n",
    "\n",
    "# Ciclo attraverso gli algoritmi e addestra/valuta ciascuno\n",
    "for name, model in tqdm(algorithms, desc=\"Testing Algorithms\"):\n",
    "    \n",
    "    # Misura il tempo di inizio dell'allenamento\n",
    "    start_time = time.time()\n",
    "\n",
    "    # Addestramento del modello\n",
    "    model.fit(X_train, y_train)\n",
    "\n",
    "    # Calcola il tempo di fine dell'allenamento\n",
    "    end_time = time.time()\n",
    "    \n",
    "    # Calcola il tempo totale di addestramento\n",
    "    training_time = end_time - start_time   \n",
    "\n",
    "    # Valutazione del modello sui dati di addestramento\n",
    "    y_train_pred = model.predict(X_train)\n",
    "    mse_train = mean_squared_error(y_train, y_train_pred)\n",
    "    rmse_train = np.sqrt(mse_train)\n",
    "    r2_train = model.score(X_train, y_train)\n",
    "\n",
    "    # Valutazione del modello sui dati di test\n",
    "    y_test_pred = model.predict(X_test)\n",
    "    mse_test = mean_squared_error(y_test, y_test_pred)\n",
    "    rmse_test = np.sqrt(mse_test)\n",
    "    r2_test = model.score(X_test, y_test)\n",
    "\n",
    "    # Aggiungi i risultati al dizionario\n",
    "    results_dict[\"Model\"].append(name)\n",
    "    results_dict[\"Training RMSE\"].append(rmse_train)\n",
    "    results_dict[\"Training MSE\"].append(mse_train)\n",
    "    results_dict[\"Training R^2\"].append(r2_train)\n",
    "    results_dict[\"Test RMSE\"].append(rmse_test)\n",
    "    results_dict[\"Test MSE\"].append(mse_test)\n",
    "    results_dict[\"Test R^2\"].append(r2_test)\n",
    "    results_dict[\"Training Time (s)\"].append(training_time)\n",
    "\n",
    "# Crea un DataFrame da results_dict\n",
    "risultati_alle_mod_K = pd.DataFrame(results_dict)\n",
    "# Esporta il DataFrame in un file Excel\n",
    "risultati_alle_mod_K.to_excel('risultati_alle_mod_K.xlsx', index=False)"
   ],
   "metadata": {
    "collapsed": false,
    "ExecuteTime": {
     "end_time": "2023-11-16T17:49:47.394423400Z",
     "start_time": "2023-11-16T17:49:47.040755Z"
    }
   },
   "id": "bb8debc8adbfc588"
  },
  {
   "cell_type": "markdown",
   "source": [],
   "metadata": {
    "collapsed": false
   },
   "id": "9564d6a60409c6f8"
  },
  {
   "cell_type": "code",
   "execution_count": 9,
   "outputs": [
    {
     "ename": "ValueError",
     "evalue": "The feature names should match those that were passed during fit.\nFeature names unseen at fit time:\n- kz\nFeature names seen at fit time, yet now missing:\n- kx\n",
     "output_type": "error",
     "traceback": [
      "\u001B[1;31m---------------------------------------------------------------------------\u001B[0m",
      "\u001B[1;31mValueError\u001B[0m                                Traceback (most recent call last)",
      "Cell \u001B[1;32mIn[9], line 19\u001B[0m\n\u001B[0;32m     16\u001B[0m elastic_net\u001B[38;5;241m.\u001B[39mfit(features_Z_train, targets_Z_train)\n\u001B[0;32m     18\u001B[0m \u001B[38;5;66;03m# Fai previsioni con il modello\u001B[39;00m\n\u001B[1;32m---> 19\u001B[0m predictions_elastic_X \u001B[38;5;241m=\u001B[39m \u001B[43melastic_net\u001B[49m\u001B[38;5;241;43m.\u001B[39;49m\u001B[43mpredict\u001B[49m\u001B[43m(\u001B[49m\u001B[43mfeatures_X_test\u001B[49m\u001B[43m)\u001B[49m\n\u001B[0;32m     20\u001B[0m predictions_elastic_Y \u001B[38;5;241m=\u001B[39m elastic_net\u001B[38;5;241m.\u001B[39mpredict(features_Y_test)\n\u001B[0;32m     21\u001B[0m predictions_elastic_Z \u001B[38;5;241m=\u001B[39m elastic_net\u001B[38;5;241m.\u001B[39mpredict(features_Z_test)\n",
      "File \u001B[1;32m~\\Desktop\\Python Workspace\\FirstTryMiller\\venv\\Lib\\site-packages\\sklearn\\linear_model\\_base.py:386\u001B[0m, in \u001B[0;36mLinearModel.predict\u001B[1;34m(self, X)\u001B[0m\n\u001B[0;32m    372\u001B[0m \u001B[38;5;28;01mdef\u001B[39;00m \u001B[38;5;21mpredict\u001B[39m(\u001B[38;5;28mself\u001B[39m, X):\n\u001B[0;32m    373\u001B[0m \u001B[38;5;250m    \u001B[39m\u001B[38;5;124;03m\"\"\"\u001B[39;00m\n\u001B[0;32m    374\u001B[0m \u001B[38;5;124;03m    Predict using the linear model.\u001B[39;00m\n\u001B[0;32m    375\u001B[0m \n\u001B[1;32m   (...)\u001B[0m\n\u001B[0;32m    384\u001B[0m \u001B[38;5;124;03m        Returns predicted values.\u001B[39;00m\n\u001B[0;32m    385\u001B[0m \u001B[38;5;124;03m    \"\"\"\u001B[39;00m\n\u001B[1;32m--> 386\u001B[0m     \u001B[38;5;28;01mreturn\u001B[39;00m \u001B[38;5;28;43mself\u001B[39;49m\u001B[38;5;241;43m.\u001B[39;49m\u001B[43m_decision_function\u001B[49m\u001B[43m(\u001B[49m\u001B[43mX\u001B[49m\u001B[43m)\u001B[49m\n",
      "File \u001B[1;32m~\\Desktop\\Python Workspace\\FirstTryMiller\\venv\\Lib\\site-packages\\sklearn\\linear_model\\_coordinate_descent.py:1071\u001B[0m, in \u001B[0;36mElasticNet._decision_function\u001B[1;34m(self, X)\u001B[0m\n\u001B[0;32m   1069\u001B[0m     \u001B[38;5;28;01mreturn\u001B[39;00m safe_sparse_dot(X, \u001B[38;5;28mself\u001B[39m\u001B[38;5;241m.\u001B[39mcoef_\u001B[38;5;241m.\u001B[39mT, dense_output\u001B[38;5;241m=\u001B[39m\u001B[38;5;28;01mTrue\u001B[39;00m) \u001B[38;5;241m+\u001B[39m \u001B[38;5;28mself\u001B[39m\u001B[38;5;241m.\u001B[39mintercept_\n\u001B[0;32m   1070\u001B[0m \u001B[38;5;28;01melse\u001B[39;00m:\n\u001B[1;32m-> 1071\u001B[0m     \u001B[38;5;28;01mreturn\u001B[39;00m \u001B[38;5;28;43msuper\u001B[39;49m\u001B[43m(\u001B[49m\u001B[43m)\u001B[49m\u001B[38;5;241;43m.\u001B[39;49m\u001B[43m_decision_function\u001B[49m\u001B[43m(\u001B[49m\u001B[43mX\u001B[49m\u001B[43m)\u001B[49m\n",
      "File \u001B[1;32m~\\Desktop\\Python Workspace\\FirstTryMiller\\venv\\Lib\\site-packages\\sklearn\\linear_model\\_base.py:369\u001B[0m, in \u001B[0;36mLinearModel._decision_function\u001B[1;34m(self, X)\u001B[0m\n\u001B[0;32m    366\u001B[0m \u001B[38;5;28;01mdef\u001B[39;00m \u001B[38;5;21m_decision_function\u001B[39m(\u001B[38;5;28mself\u001B[39m, X):\n\u001B[0;32m    367\u001B[0m     check_is_fitted(\u001B[38;5;28mself\u001B[39m)\n\u001B[1;32m--> 369\u001B[0m     X \u001B[38;5;241m=\u001B[39m \u001B[38;5;28;43mself\u001B[39;49m\u001B[38;5;241;43m.\u001B[39;49m\u001B[43m_validate_data\u001B[49m\u001B[43m(\u001B[49m\u001B[43mX\u001B[49m\u001B[43m,\u001B[49m\u001B[43m \u001B[49m\u001B[43maccept_sparse\u001B[49m\u001B[38;5;241;43m=\u001B[39;49m\u001B[43m[\u001B[49m\u001B[38;5;124;43m\"\u001B[39;49m\u001B[38;5;124;43mcsr\u001B[39;49m\u001B[38;5;124;43m\"\u001B[39;49m\u001B[43m,\u001B[49m\u001B[43m \u001B[49m\u001B[38;5;124;43m\"\u001B[39;49m\u001B[38;5;124;43mcsc\u001B[39;49m\u001B[38;5;124;43m\"\u001B[39;49m\u001B[43m,\u001B[49m\u001B[43m \u001B[49m\u001B[38;5;124;43m\"\u001B[39;49m\u001B[38;5;124;43mcoo\u001B[39;49m\u001B[38;5;124;43m\"\u001B[39;49m\u001B[43m]\u001B[49m\u001B[43m,\u001B[49m\u001B[43m \u001B[49m\u001B[43mreset\u001B[49m\u001B[38;5;241;43m=\u001B[39;49m\u001B[38;5;28;43;01mFalse\u001B[39;49;00m\u001B[43m)\u001B[49m\n\u001B[0;32m    370\u001B[0m     \u001B[38;5;28;01mreturn\u001B[39;00m safe_sparse_dot(X, \u001B[38;5;28mself\u001B[39m\u001B[38;5;241m.\u001B[39mcoef_\u001B[38;5;241m.\u001B[39mT, dense_output\u001B[38;5;241m=\u001B[39m\u001B[38;5;28;01mTrue\u001B[39;00m) \u001B[38;5;241m+\u001B[39m \u001B[38;5;28mself\u001B[39m\u001B[38;5;241m.\u001B[39mintercept_\n",
      "File \u001B[1;32m~\\Desktop\\Python Workspace\\FirstTryMiller\\venv\\Lib\\site-packages\\sklearn\\base.py:580\u001B[0m, in \u001B[0;36mBaseEstimator._validate_data\u001B[1;34m(self, X, y, reset, validate_separately, cast_to_ndarray, **check_params)\u001B[0m\n\u001B[0;32m    509\u001B[0m \u001B[38;5;28;01mdef\u001B[39;00m \u001B[38;5;21m_validate_data\u001B[39m(\n\u001B[0;32m    510\u001B[0m     \u001B[38;5;28mself\u001B[39m,\n\u001B[0;32m    511\u001B[0m     X\u001B[38;5;241m=\u001B[39m\u001B[38;5;124m\"\u001B[39m\u001B[38;5;124mno_validation\u001B[39m\u001B[38;5;124m\"\u001B[39m,\n\u001B[1;32m   (...)\u001B[0m\n\u001B[0;32m    516\u001B[0m     \u001B[38;5;241m*\u001B[39m\u001B[38;5;241m*\u001B[39mcheck_params,\n\u001B[0;32m    517\u001B[0m ):\n\u001B[0;32m    518\u001B[0m \u001B[38;5;250m    \u001B[39m\u001B[38;5;124;03m\"\"\"Validate input data and set or check the `n_features_in_` attribute.\u001B[39;00m\n\u001B[0;32m    519\u001B[0m \n\u001B[0;32m    520\u001B[0m \u001B[38;5;124;03m    Parameters\u001B[39;00m\n\u001B[1;32m   (...)\u001B[0m\n\u001B[0;32m    578\u001B[0m \u001B[38;5;124;03m        validated.\u001B[39;00m\n\u001B[0;32m    579\u001B[0m \u001B[38;5;124;03m    \"\"\"\u001B[39;00m\n\u001B[1;32m--> 580\u001B[0m     \u001B[38;5;28;43mself\u001B[39;49m\u001B[38;5;241;43m.\u001B[39;49m\u001B[43m_check_feature_names\u001B[49m\u001B[43m(\u001B[49m\u001B[43mX\u001B[49m\u001B[43m,\u001B[49m\u001B[43m \u001B[49m\u001B[43mreset\u001B[49m\u001B[38;5;241;43m=\u001B[39;49m\u001B[43mreset\u001B[49m\u001B[43m)\u001B[49m\n\u001B[0;32m    582\u001B[0m     \u001B[38;5;28;01mif\u001B[39;00m y \u001B[38;5;129;01mis\u001B[39;00m \u001B[38;5;28;01mNone\u001B[39;00m \u001B[38;5;129;01mand\u001B[39;00m \u001B[38;5;28mself\u001B[39m\u001B[38;5;241m.\u001B[39m_get_tags()[\u001B[38;5;124m\"\u001B[39m\u001B[38;5;124mrequires_y\u001B[39m\u001B[38;5;124m\"\u001B[39m]:\n\u001B[0;32m    583\u001B[0m         \u001B[38;5;28;01mraise\u001B[39;00m \u001B[38;5;167;01mValueError\u001B[39;00m(\n\u001B[0;32m    584\u001B[0m             \u001B[38;5;124mf\u001B[39m\u001B[38;5;124m\"\u001B[39m\u001B[38;5;124mThis \u001B[39m\u001B[38;5;132;01m{\u001B[39;00m\u001B[38;5;28mself\u001B[39m\u001B[38;5;241m.\u001B[39m\u001B[38;5;18m__class__\u001B[39m\u001B[38;5;241m.\u001B[39m\u001B[38;5;18m__name__\u001B[39m\u001B[38;5;132;01m}\u001B[39;00m\u001B[38;5;124m estimator \u001B[39m\u001B[38;5;124m\"\u001B[39m\n\u001B[0;32m    585\u001B[0m             \u001B[38;5;124m\"\u001B[39m\u001B[38;5;124mrequires y to be passed, but the target y is None.\u001B[39m\u001B[38;5;124m\"\u001B[39m\n\u001B[0;32m    586\u001B[0m         )\n",
      "File \u001B[1;32m~\\Desktop\\Python Workspace\\FirstTryMiller\\venv\\Lib\\site-packages\\sklearn\\base.py:507\u001B[0m, in \u001B[0;36mBaseEstimator._check_feature_names\u001B[1;34m(self, X, reset)\u001B[0m\n\u001B[0;32m    502\u001B[0m \u001B[38;5;28;01mif\u001B[39;00m \u001B[38;5;129;01mnot\u001B[39;00m missing_names \u001B[38;5;129;01mand\u001B[39;00m \u001B[38;5;129;01mnot\u001B[39;00m unexpected_names:\n\u001B[0;32m    503\u001B[0m     message \u001B[38;5;241m+\u001B[39m\u001B[38;5;241m=\u001B[39m (\n\u001B[0;32m    504\u001B[0m         \u001B[38;5;124m\"\u001B[39m\u001B[38;5;124mFeature names must be in the same order as they were in fit.\u001B[39m\u001B[38;5;130;01m\\n\u001B[39;00m\u001B[38;5;124m\"\u001B[39m\n\u001B[0;32m    505\u001B[0m     )\n\u001B[1;32m--> 507\u001B[0m \u001B[38;5;28;01mraise\u001B[39;00m \u001B[38;5;167;01mValueError\u001B[39;00m(message)\n",
      "\u001B[1;31mValueError\u001B[0m: The feature names should match those that were passed during fit.\nFeature names unseen at fit time:\n- kz\nFeature names seen at fit time, yet now missing:\n- kx\n"
     ]
    }
   ],
   "source": [
    "#Allenamento modello con ElasticNet\n",
    "#TODO: da sistemare -> VOGLIO SEMPLICEMENTE AGGIUNGERE UN MODELLO DI ALLENAMENTO.\n",
    "#PUò ESSERE IMPLEMENTATO SINGOLARMENTE QUI, OPPURE TORNARE NELLA PRIMA FASE DI ALLENAMENTO E GENERARE UN CICLO CHE ALLENA I MODELLI PER LO STESSO DATASET\n",
    "#IN UNA LISTA DI MODELLI, E POI STAMPARE I RISULTATI DI TUTTI I MODELLI IN UN GRAFICO A BARRE\n",
    "\n",
    "\n",
    "from sklearn.linear_model import ElasticNet\n",
    "from sklearn.metrics import r2_score\n",
    "\n",
    "# Crea un'istanza del modello Elastic Net\n",
    "elastic_net = ElasticNet(alpha=1.0, l1_ratio=0.5, random_state=42)  # Iperparametri alpha e l1_ratio possono essere regolati\n",
    "\n",
    "# Addestra il modello sui dati di addestramento\n",
    "elastic_net.fit(features_X_train, targets_X_train)\n",
    "elastic_net.fit(features_Y_train, targets_Y_train)\n",
    "elastic_net.fit(features_Z_train, targets_Z_train)\n",
    "\n",
    "# Fai previsioni con il modello\n",
    "predictions_elastic_X = elastic_net.predict(features_X_test)\n",
    "predictions_elastic_Y = elastic_net.predict(features_Y_test)\n",
    "predictions_elastic_Z = elastic_net.predict(features_Z_test)\n",
    "\n",
    "print(f\"R^2 Kx : {r2_score(targets_X_test, predictions_elastic_X)} \")\n",
    "print(f\"R^2 Ky : {r2_score(targets_Y_test, predictions_elastic_Y)} \")\n",
    "print(f\"R^2 Kz : {r2_score(targets_Z_test, predictions_elastic_Z)} \")\n"
   ],
   "metadata": {
    "collapsed": false,
    "ExecuteTime": {
     "end_time": "2023-11-08T17:06:52.316503200Z",
     "start_time": "2023-11-08T17:06:51.446697100Z"
    }
   },
   "id": "b19e737e445780d6"
  },
  {
   "cell_type": "code",
   "execution_count": 19,
   "outputs": [
    {
     "name": "stdout",
     "output_type": "stream",
     "text": [
      "Using downloaded and verified file: C:\\Users\\Utente\\drd_data\\Berea_2d25um_grayscale.raw\n"
     ]
    },
    {
     "ename": "ValueError",
     "evalue": "A 3-dimensional array was passed to imshow(), but there is no dimension that could be color.  At least one dimension must be of size 3 (RGB) or 4 (RGBA), and not given as x or y.",
     "output_type": "error",
     "traceback": [
      "\u001B[1;31m---------------------------------------------------------------------------\u001B[0m",
      "\u001B[1;31mValueError\u001B[0m                                Traceback (most recent call last)",
      "Cell \u001B[1;32mIn[19], line 20\u001B[0m\n\u001B[0;32m     16\u001B[0m dtype \u001B[38;5;241m=\u001B[39m np\u001B[38;5;241m.\u001B[39muint8\n\u001B[0;32m     19\u001B[0m \u001B[38;5;66;03m# Usa .plot.imshow per visualizzare l'immagine\u001B[39;00m\n\u001B[1;32m---> 20\u001B[0m \u001B[43mimg\u001B[49m\u001B[38;5;241;43m.\u001B[39;49m\u001B[43mplot\u001B[49m\u001B[38;5;241;43m.\u001B[39;49m\u001B[43mimshow\u001B[49m\u001B[43m(\u001B[49m\u001B[43mcmap\u001B[49m\u001B[38;5;241;43m=\u001B[39;49m\u001B[38;5;124;43m'\u001B[39;49m\u001B[38;5;124;43mgray\u001B[39;49m\u001B[38;5;124;43m'\u001B[39;49m\u001B[43m,\u001B[49m\u001B[43m \u001B[49m\u001B[43maspect\u001B[49m\u001B[38;5;241;43m=\u001B[39;49m\u001B[38;5;124;43m'\u001B[39;49m\u001B[38;5;124;43mauto\u001B[39;49m\u001B[38;5;124;43m'\u001B[39;49m\u001B[43m)\u001B[49m\n\u001B[0;32m     21\u001B[0m plt\u001B[38;5;241m.\u001B[39mshow()\n\u001B[0;32m     24\u001B[0m \u001B[38;5;66;03m# Ad esempio, stampa le prime 5 righe di ciascuna dimensione\u001B[39;00m\n\u001B[0;32m     25\u001B[0m \u001B[38;5;66;03m# print(img[:5, :5, :5])\u001B[39;00m\n\u001B[0;32m     26\u001B[0m \u001B[38;5;66;03m# \u001B[39;00m\n\u001B[1;32m   (...)\u001B[0m\n\u001B[0;32m    126\u001B[0m \u001B[38;5;66;03m# # Show the plot\u001B[39;00m\n\u001B[0;32m    127\u001B[0m \u001B[38;5;66;03m# plt.show()\u001B[39;00m\n",
      "File \u001B[1;32m~\\Desktop\\Loris_WorkSpace\\Permeability_Eval_AI\\venv\\Lib\\site-packages\\xarray\\plot\\accessor.py:433\u001B[0m, in \u001B[0;36mDataArrayPlotAccessor.imshow\u001B[1;34m(self, *args, **kwargs)\u001B[0m\n\u001B[0;32m    431\u001B[0m \u001B[38;5;129m@functools\u001B[39m\u001B[38;5;241m.\u001B[39mwraps(dataarray_plot\u001B[38;5;241m.\u001B[39mimshow, assigned\u001B[38;5;241m=\u001B[39m(\u001B[38;5;124m\"\u001B[39m\u001B[38;5;124m__doc__\u001B[39m\u001B[38;5;124m\"\u001B[39m,))\n\u001B[0;32m    432\u001B[0m \u001B[38;5;28;01mdef\u001B[39;00m \u001B[38;5;21mimshow\u001B[39m(\u001B[38;5;28mself\u001B[39m, \u001B[38;5;241m*\u001B[39margs, \u001B[38;5;241m*\u001B[39m\u001B[38;5;241m*\u001B[39mkwargs) \u001B[38;5;241m-\u001B[39m\u001B[38;5;241m>\u001B[39m AxesImage \u001B[38;5;241m|\u001B[39m FacetGrid[DataArray]:\n\u001B[1;32m--> 433\u001B[0m     \u001B[38;5;28;01mreturn\u001B[39;00m \u001B[43mdataarray_plot\u001B[49m\u001B[38;5;241;43m.\u001B[39;49m\u001B[43mimshow\u001B[49m\u001B[43m(\u001B[49m\u001B[38;5;28;43mself\u001B[39;49m\u001B[38;5;241;43m.\u001B[39;49m\u001B[43m_da\u001B[49m\u001B[43m,\u001B[49m\u001B[43m \u001B[49m\u001B[38;5;241;43m*\u001B[39;49m\u001B[43margs\u001B[49m\u001B[43m,\u001B[49m\u001B[43m \u001B[49m\u001B[38;5;241;43m*\u001B[39;49m\u001B[38;5;241;43m*\u001B[39;49m\u001B[43mkwargs\u001B[49m\u001B[43m)\u001B[49m\n",
      "File \u001B[1;32m~\\Desktop\\Loris_WorkSpace\\Permeability_Eval_AI\\venv\\Lib\\site-packages\\xarray\\plot\\dataarray_plot.py:1543\u001B[0m, in \u001B[0;36m_plot2d.<locals>.newplotfunc\u001B[1;34m(***failed resolving arguments***)\u001B[0m\n\u001B[0;32m   1537\u001B[0m \u001B[38;5;28;01melif\u001B[39;00m rgb \u001B[38;5;129;01mis\u001B[39;00m \u001B[38;5;129;01mnot\u001B[39;00m \u001B[38;5;28;01mNone\u001B[39;00m \u001B[38;5;129;01mand\u001B[39;00m \u001B[38;5;129;01mnot\u001B[39;00m imshow_rgb:\n\u001B[0;32m   1538\u001B[0m     \u001B[38;5;28;01mraise\u001B[39;00m \u001B[38;5;167;01mValueError\u001B[39;00m(\n\u001B[0;32m   1539\u001B[0m         \u001B[38;5;124m'\u001B[39m\u001B[38;5;124mThe \u001B[39m\u001B[38;5;124m\"\u001B[39m\u001B[38;5;124mrgb\u001B[39m\u001B[38;5;124m\"\u001B[39m\u001B[38;5;124m keyword is only valid for imshow()\u001B[39m\u001B[38;5;124m'\u001B[39m\n\u001B[0;32m   1540\u001B[0m         \u001B[38;5;124m\"\u001B[39m\u001B[38;5;124mwith a three-dimensional array (per facet)\u001B[39m\u001B[38;5;124m\"\u001B[39m\n\u001B[0;32m   1541\u001B[0m     )\n\u001B[1;32m-> 1543\u001B[0m xlab, ylab \u001B[38;5;241m=\u001B[39m \u001B[43m_infer_xy_labels\u001B[49m\u001B[43m(\u001B[49m\n\u001B[0;32m   1544\u001B[0m \u001B[43m    \u001B[49m\u001B[43mdarray\u001B[49m\u001B[38;5;241;43m=\u001B[39;49m\u001B[43mdarray\u001B[49m\u001B[43m,\u001B[49m\u001B[43m \u001B[49m\u001B[43mx\u001B[49m\u001B[38;5;241;43m=\u001B[39;49m\u001B[43mx\u001B[49m\u001B[43m,\u001B[49m\u001B[43m \u001B[49m\u001B[43my\u001B[49m\u001B[38;5;241;43m=\u001B[39;49m\u001B[43my\u001B[49m\u001B[43m,\u001B[49m\u001B[43m \u001B[49m\u001B[43mimshow\u001B[49m\u001B[38;5;241;43m=\u001B[39;49m\u001B[43mimshow_rgb\u001B[49m\u001B[43m,\u001B[49m\u001B[43m \u001B[49m\u001B[43mrgb\u001B[49m\u001B[38;5;241;43m=\u001B[39;49m\u001B[43mrgb\u001B[49m\n\u001B[0;32m   1545\u001B[0m \u001B[43m\u001B[49m\u001B[43m)\u001B[49m\n\u001B[0;32m   1547\u001B[0m xval \u001B[38;5;241m=\u001B[39m darray[xlab]\n\u001B[0;32m   1548\u001B[0m yval \u001B[38;5;241m=\u001B[39m darray[ylab]\n",
      "File \u001B[1;32m~\\Desktop\\Loris_WorkSpace\\Permeability_Eval_AI\\venv\\Lib\\site-packages\\xarray\\plot\\utils.py:392\u001B[0m, in \u001B[0;36m_infer_xy_labels\u001B[1;34m(darray, x, y, imshow, rgb)\u001B[0m\n\u001B[0;32m    389\u001B[0m     \u001B[38;5;28;01mraise\u001B[39;00m \u001B[38;5;167;01mValueError\u001B[39;00m(\u001B[38;5;124m\"\u001B[39m\u001B[38;5;124mx and y cannot be equal.\u001B[39m\u001B[38;5;124m\"\u001B[39m)\n\u001B[0;32m    391\u001B[0m \u001B[38;5;28;01mif\u001B[39;00m imshow \u001B[38;5;129;01mand\u001B[39;00m darray\u001B[38;5;241m.\u001B[39mndim \u001B[38;5;241m==\u001B[39m \u001B[38;5;241m3\u001B[39m:\n\u001B[1;32m--> 392\u001B[0m     \u001B[38;5;28;01mreturn\u001B[39;00m \u001B[43m_infer_xy_labels_3d\u001B[49m\u001B[43m(\u001B[49m\u001B[43mdarray\u001B[49m\u001B[43m,\u001B[49m\u001B[43m \u001B[49m\u001B[43mx\u001B[49m\u001B[43m,\u001B[49m\u001B[43m \u001B[49m\u001B[43my\u001B[49m\u001B[43m,\u001B[49m\u001B[43m \u001B[49m\u001B[43mrgb\u001B[49m\u001B[43m)\u001B[49m\n\u001B[0;32m    394\u001B[0m \u001B[38;5;28;01mif\u001B[39;00m x \u001B[38;5;129;01mis\u001B[39;00m \u001B[38;5;28;01mNone\u001B[39;00m \u001B[38;5;129;01mand\u001B[39;00m y \u001B[38;5;129;01mis\u001B[39;00m \u001B[38;5;28;01mNone\u001B[39;00m:\n\u001B[0;32m    395\u001B[0m     \u001B[38;5;28;01mif\u001B[39;00m darray\u001B[38;5;241m.\u001B[39mndim \u001B[38;5;241m!=\u001B[39m \u001B[38;5;241m2\u001B[39m:\n",
      "File \u001B[1;32m~\\Desktop\\Loris_WorkSpace\\Permeability_Eval_AI\\venv\\Lib\\site-packages\\xarray\\plot\\utils.py:347\u001B[0m, in \u001B[0;36m_infer_xy_labels_3d\u001B[1;34m(darray, x, y, rgb)\u001B[0m\n\u001B[0;32m    341\u001B[0m could_be_color \u001B[38;5;241m=\u001B[39m [\n\u001B[0;32m    342\u001B[0m     label\n\u001B[0;32m    343\u001B[0m     \u001B[38;5;28;01mfor\u001B[39;00m label \u001B[38;5;129;01min\u001B[39;00m darray\u001B[38;5;241m.\u001B[39mdims\n\u001B[0;32m    344\u001B[0m     \u001B[38;5;28;01mif\u001B[39;00m darray[label]\u001B[38;5;241m.\u001B[39msize \u001B[38;5;129;01min\u001B[39;00m (\u001B[38;5;241m3\u001B[39m, \u001B[38;5;241m4\u001B[39m) \u001B[38;5;129;01mand\u001B[39;00m label \u001B[38;5;129;01mnot\u001B[39;00m \u001B[38;5;129;01min\u001B[39;00m (x, y)\n\u001B[0;32m    345\u001B[0m ]\n\u001B[0;32m    346\u001B[0m \u001B[38;5;28;01mif\u001B[39;00m rgb \u001B[38;5;129;01mis\u001B[39;00m \u001B[38;5;28;01mNone\u001B[39;00m \u001B[38;5;129;01mand\u001B[39;00m \u001B[38;5;129;01mnot\u001B[39;00m could_be_color:\n\u001B[1;32m--> 347\u001B[0m     \u001B[38;5;28;01mraise\u001B[39;00m \u001B[38;5;167;01mValueError\u001B[39;00m(\n\u001B[0;32m    348\u001B[0m         \u001B[38;5;124m\"\u001B[39m\u001B[38;5;124mA 3-dimensional array was passed to imshow(), but there is no \u001B[39m\u001B[38;5;124m\"\u001B[39m\n\u001B[0;32m    349\u001B[0m         \u001B[38;5;124m\"\u001B[39m\u001B[38;5;124mdimension that could be color.  At least one dimension must be \u001B[39m\u001B[38;5;124m\"\u001B[39m\n\u001B[0;32m    350\u001B[0m         \u001B[38;5;124m\"\u001B[39m\u001B[38;5;124mof size 3 (RGB) or 4 (RGBA), and not given as x or y.\u001B[39m\u001B[38;5;124m\"\u001B[39m\n\u001B[0;32m    351\u001B[0m     )\n\u001B[0;32m    352\u001B[0m \u001B[38;5;28;01mif\u001B[39;00m rgb \u001B[38;5;129;01mis\u001B[39;00m \u001B[38;5;28;01mNone\u001B[39;00m \u001B[38;5;129;01mand\u001B[39;00m \u001B[38;5;28mlen\u001B[39m(could_be_color) \u001B[38;5;241m==\u001B[39m \u001B[38;5;241m1\u001B[39m:\n\u001B[0;32m    353\u001B[0m     rgb \u001B[38;5;241m=\u001B[39m could_be_color[\u001B[38;5;241m0\u001B[39m]\n",
      "\u001B[1;31mValueError\u001B[0m: A 3-dimensional array was passed to imshow(), but there is no dimension that could be color.  At least one dimension must be of size 3 (RGB) or 4 (RGBA), and not given as x or y."
     ]
    }
   ],
   "source": [
    "#Qui inizio a caricare il dataset Berea SandStones\n",
    "#Libreria 'drd' by @Lukas Mosser\n",
    "import numpy as np\n",
    "import matplotlib.pyplot as plt\n",
    "from drd.datasets.eleven_sandstones import load_eleven_sandstones\n",
    "\n",
    "# xarray DataArray with image data\n",
    "img = load_eleven_sandstones(\"Berea\", \"Berea_2d25um_grayscale.raw\")\n",
    "\n",
    "data = img.values\n",
    "\n",
    "# Specifica le dimensioni del tuo array (ad esempio, 1000x1000x1000 per il tuo caso)\n",
    "shape = (400, 400, 400)\n",
    "\n",
    "# Specifica il tipo di dato dei tuoi dati (ad esempio, np.uint8 per immagini a scala di grigi)\n",
    "dtype = np.uint8\n",
    "\n",
    "\n",
    "# Usa .plot.imshow per visualizzare l'immagine\n",
    "img.plot.imshow(cmap='gray', aspect='auto')\n",
    "plt.show()\n",
    "\n",
    "\n",
    "# Ad esempio, stampa le prime 5 righe di ciascuna dimensione\n",
    "# print(img[:5, :5, :5])\n",
    "# \n",
    "# \n",
    "# \n",
    "# \n",
    "# import numpy as np\n",
    "# \n",
    "# # Specifica il percorso del file RAW\n",
    "# file_path = \"C:/Users/Utente/Desktop/Berea.raw\"\n",
    "# \n",
    "# \n",
    "# # Specifica le dimensioni del tuo array (ad esempio, 1000x1000x1000 per il tuo caso)\n",
    "# shape = (400, 400, 400)\n",
    "# \n",
    "# # Specifica il tipo di dato dei tuoi dati (ad esempio, np.uint8 per immagini a scala di grigi)\n",
    "# dtype = np.uint8\n",
    "# \n",
    "# \n",
    "# # Carica il file RAW in un array NumPy\n",
    "# raw_data = np.fromfile(file_path, dtype=dtype).reshape(shape)\n",
    "# \n",
    "# \n",
    "# \n",
    "# # Ad esempio, stampa le prime 5 righe di ciascuna dimensione\n",
    "# print(raw_data[:5, :5, :5])\n",
    "\n",
    "\n",
    "# Extract data from the dataset\n",
    "# data = img.values\n",
    "# \n",
    "# print(data)\n",
    "# \n",
    "# # Converte l'oggetto xarray in un DataFrame\n",
    "# df = img.to_dataframe()\n",
    "# \n",
    "# # Aggiunge le coordinate come colonne separate\n",
    "# df['x'] = df.index.get_level_values('x')\n",
    "# df['y'] = df.index.get_level_values('y')\n",
    "# df['z'] = df.index.get_level_values('z')\n",
    "# \n",
    "# # Resetta l'indice per ottenere colonne ordinarie\n",
    "# df.reset_index(drop=True, inplace=True)\n",
    "# \n",
    "# # Ora df è un DataFrame con le colonne 'x', 'y', 'z' e i valori originali\n",
    "# print(df.head())\n",
    "# \n",
    "# df_parts = np.split(df, 4)\n",
    "# df_quart = df_parts[0]\n",
    "# \n",
    "# \n",
    "# \n",
    "# # Dati\n",
    "# x = df_quart['x']\n",
    "# y = df_quart['y']\n",
    "# z = df_quart['z']\n",
    "# intensity = df_quart['Berea_2d25um_grayscale.raw']\n",
    "# \n",
    "# # Crea una figura 3D\n",
    "# fig = plt.figure()\n",
    "# ax = fig.add_subplot(111, projection='3d')\n",
    "# \n",
    "# # Crea uno scatter plot 3D\n",
    "# scatter = ax.scatter(x, y, z, c=intensity, cmap='gray')\n",
    "# \n",
    "# # Aggiungi una barra dei colori\n",
    "# cbar = fig.colorbar(scatter)\n",
    "# \n",
    "# # Aggiungi etichette agli assi\n",
    "# ax.set_xlabel('X')\n",
    "# ax.set_ylabel('Y')\n",
    "# ax.set_zlabel('Z')\n",
    "# ax.set_title('Immagine 3D a scala di grigi')\n",
    "# \n",
    "# # Mostra il grafico\n",
    "# plt.show()\n",
    "# \n",
    "# \n",
    "# \n",
    "# # Create a 3D grid for points (x, y, z)\n",
    "# x, y, z = img.x.values, img.y.values, img.z.values\n",
    "# \n",
    "# # Flatten the data arrays\n",
    "# x_flat, y_flat, z_flat, data_flat = x.flatten(), y.flatten(), z.flatten(), data.flatten()\n",
    "\n",
    "# Create a figure and 3D axes\n",
    "\n",
    "\n",
    "# figure = plt.figure()\n",
    "# ax = figure.add_subplot(111, projection='3d')\n",
    "# \n",
    "# # Plot the data in 3D with the colormap\n",
    "# sc = ax.scatter(x_flat, y_flat, z_flat, c=data_flat, cmap='viridis')\n",
    "# \n",
    "# # Add a color bar\n",
    "# cbar = figure.colorbar(sc)\n",
    "# \n",
    "# # Add labels to the axes\n",
    "# ax.set_xlabel('X')\n",
    "# ax.set_ylabel('Y')\n",
    "# ax.set_zlabel('Z')\n",
    "# \n",
    "# # Show the plot\n",
    "# plt.show()\n"
   ],
   "metadata": {
    "collapsed": false,
    "ExecuteTime": {
     "end_time": "2023-11-15T15:46:39.745795600Z",
     "start_time": "2023-11-15T15:46:38.797030800Z"
    }
   },
   "id": "55fff343f8460ab"
  },
  {
   "cell_type": "code",
   "execution_count": null,
   "outputs": [],
   "source": [
    "#Utilizzo il modello per fare previsioni\n",
    "#Prendo un esempio dal dataset\n",
    "example = df_imputed.iloc[0]\n",
    "\n",
    "#Prendo solo le features\n",
    "example = example.drop(['kx', 'ky', 'kz'])\n",
    "\n",
    "#Prendo solo i valori\n",
    "example = example.values.reshape(1, -1)\n",
    "\n",
    "#Prendo le previsioni\n",
    "prediction = model_kx.predict(example)\n",
    "\n",
    "#Stampo le previsioni\n",
    "print(f\"Previsioni: {prediction}\")\n"
   ],
   "metadata": {
    "collapsed": false,
    "ExecuteTime": {
     "start_time": "2023-11-08T17:06:52.328470500Z"
    }
   },
   "id": "e41a6146a51992aa"
  },
  {
   "cell_type": "code",
   "execution_count": null,
   "outputs": [],
   "source": [],
   "metadata": {
    "collapsed": false,
    "ExecuteTime": {
     "start_time": "2023-11-08T17:06:52.329467800Z"
    }
   },
   "id": "7628bb74946fa984"
  }
 ],
 "metadata": {
  "kernelspec": {
   "display_name": "Python 3",
   "language": "python",
   "name": "python3"
  },
  "language_info": {
   "codemirror_mode": {
    "name": "ipython",
    "version": 2
   },
   "file_extension": ".py",
   "mimetype": "text/x-python",
   "name": "python",
   "nbconvert_exporter": "python",
   "pygments_lexer": "ipython2",
   "version": "2.7.6"
  }
 },
 "nbformat": 4,
 "nbformat_minor": 5
}
