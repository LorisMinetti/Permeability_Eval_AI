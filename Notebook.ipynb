{
 "cells": [
  {
   "cell_type": "code",
   "execution_count": 1,
   "outputs": [
    {
     "name": "stdout",
     "output_type": "stream",
     "text": [
      "    Porosity_Tot    SSA_Tot  Conn.Dens.  Porosity     SSA      Ech  \\\n",
      "0          0.205  45.892683     310.913     0.137   5.065  -25.849   \n",
      "1          0.205  45.892683     310.913     0.147   5.253  -31.002   \n",
      "2          0.205  45.892683     310.913     0.131   4.697  -20.047   \n",
      "3          0.176  54.744318     350.137     0.115   5.583  -50.613   \n",
      "4          0.176  54.744318     350.137     0.139   7.447 -136.737   \n",
      "5          0.176  54.744318     350.137     0.115   5.311  -32.907   \n",
      "6          0.184  53.413043     368.141     0.134   6.990 -115.218   \n",
      "7          0.184  53.413043     368.141     0.138   7.132 -110.411   \n",
      "8          0.184  53.413043     368.141     0.116   5.290  -39.748   \n",
      "9          0.020  45.650000      10.573     0.020   0.791   -3.948   \n",
      "10         0.020  45.650000      10.573     0.020   0.806   -2.017   \n",
      "11         0.274  36.324818     458.436     0.273   7.721 -102.424   \n",
      "12         0.274  36.324818     458.436     0.250   6.870  -76.478   \n",
      "13         0.274  36.324818     458.436     0.265   7.560  -95.050   \n",
      "14         0.293  34.412969     607.796     0.250   7.353 -152.126   \n",
      "15         0.293  34.412969     607.796     0.281   8.363 -258.282   \n",
      "16         0.293  34.412969     607.796     0.297   9.123 -362.849   \n",
      "17         0.056  89.214286     303.129     0.075   4.747 -130.705   \n",
      "18         0.056  89.214286     303.129     0.079   5.065 -156.334   \n",
      "19         0.063  79.507937     288.192     0.075   4.747 -130.705   \n",
      "20         0.063  79.507937     288.192     0.079   5.065 -156.334   \n",
      "21         0.066  74.030303     207.810     0.062   4.227 -132.907   \n",
      "22         0.066  74.030303     207.810     0.066   4.532 -162.178   \n",
      "23         0.143  65.230769     397.271     0.151   7.652 -124.943   \n",
      "24         0.143  65.230769     397.271     0.151   7.653 -132.984   \n",
      "25         0.143  65.230769     397.271     0.148   7.510 -121.665   \n",
      "26         0.149  78.543624     307.044     0.136  10.267 -202.056   \n",
      "27         0.149  78.543624     307.044     0.137  10.300 -202.989   \n",
      "28         0.149  78.543624     307.044     0.124   9.292 -160.839   \n",
      "29         0.149  78.543624     307.044     0.136  10.267 -202.056   \n",
      "30         0.149  78.543624     307.044     0.137  10.300 -202.989   \n",
      "31         0.149  78.543624     307.044     0.124   9.292 -160.839   \n",
      "32         0.146  80.671233     286.157     0.098   8.080 -132.730   \n",
      "33         0.146  80.671233     286.157     0.108   8.765 -160.656   \n",
      "34         0.146  80.671233     286.157     0.103   8.463 -161.984   \n",
      "35         0.116  61.767241     116.198     0.104   6.047  -71.467   \n",
      "36         0.116  61.767241     116.198     0.098   5.923  -70.632   \n",
      "37         0.116  61.767241     116.198     0.096   5.808  -68.413   \n",
      "38         0.112  59.857143      95.679     0.092   5.414  -53.370   \n",
      "39         0.112  59.857143      95.679     0.093   5.443  -53.168   \n",
      "40         0.112  59.857143      95.679     0.092   5.425  -53.456   \n",
      "41         0.088  56.443182      68.701     0.077   4.215  -43.860   \n",
      "42         0.088  56.443182      68.701     0.076   4.240  -44.725   \n",
      "43         0.088  56.443182      68.701     0.073   4.035  -39.278   \n",
      "44         0.029  46.724138      17.118     0.026   1.209  -13.631   \n",
      "45         0.050  58.180000      28.320     0.043   2.511  -28.011   \n",
      "46         0.050  58.180000      28.320     0.041   2.340  -18.740   \n",
      "47         0.050  58.180000      28.320     0.042   2.434  -27.463   \n",
      "\n",
      "    Tortuosity          k_m2  \n",
      "0       2.0340  1.473350e-12  \n",
      "1       2.6650  2.254724e-12  \n",
      "2       2.1090  9.543177e-12  \n",
      "3       4.1830  9.664920e-13  \n",
      "4       2.5950  9.180783e-13  \n",
      "5       4.1010  1.435774e-12  \n",
      "6       2.7740  4.010302e-13  \n",
      "7       2.7790  3.937021e-12  \n",
      "8       3.8680  1.933907e-12  \n",
      "9       3.1000  3.021802e-13  \n",
      "10      2.9000  3.190436e-13  \n",
      "11      1.7170  5.516051e-11  \n",
      "12      1.3530  3.822390e-11  \n",
      "13      1.5730  5.275967e-11  \n",
      "14      1.3400  2.009570e-11  \n",
      "15      1.3720  1.319490e-10  \n",
      "16      1.6750  8.289540e-11  \n",
      "17      2.6210  3.390944e-13  \n",
      "18      3.2380  2.066877e-13  \n",
      "19      3.0175  3.390944e-13  \n",
      "20      3.7225  2.066877e-13  \n",
      "21      3.4140  5.531944e-13  \n",
      "22      4.2070  2.456179e-14  \n",
      "23      3.3133  7.811227e-13  \n",
      "24      3.3900  1.235315e-12  \n",
      "25      3.8000  5.429843e-13  \n",
      "26      3.0870  2.933715e-13  \n",
      "27      2.7950  4.255505e-13  \n",
      "28      3.5850  7.133022e-13  \n",
      "29      3.0870  2.933715e-13  \n",
      "30      2.7950  4.255505e-13  \n",
      "31      3.5850  7.133022e-13  \n",
      "32      3.3400  1.767209e-13  \n",
      "33      3.6090  2.211503e-13  \n",
      "34      4.3490  1.739540e-13  \n",
      "35      4.0070  5.697167e-13  \n",
      "36      2.8180  3.235189e-13  \n",
      "37      3.6460  8.485641e-14  \n",
      "38      4.2200  4.966167e-13  \n",
      "39      4.2260  1.459741e-12  \n",
      "40      4.2200  5.462786e-13  \n",
      "41      4.2780  2.564176e-13  \n",
      "42      4.0340  1.021321e-12  \n",
      "43      4.4590  5.362540e-13  \n",
      "44      2.8210  1.924009e-13  \n",
      "45      3.6000  0.000000e+00  \n",
      "46      3.6040  8.750106e-13  \n",
      "47      3.6000  3.461632e-13  \n"
     ]
    }
   ],
   "source": [
    "import pandas as pd\n",
    "from pandas import DataFrame\n",
    "\n",
    "try:\n",
    "# Carica il tuo file XLSX\n",
    "    xlsx_file = 'dataset/richerDataset.xlsx'  # Sostituisci con il percorso del tuo file\n",
    "\n",
    "# Leggi i dati dal file XLSX e crea un DataFrame\n",
    "    df: DataFrame = pd.read_excel(xlsx_file)\n",
    "\n",
    "# Ora hai un DataFrame con tutti i dati dal tuo file XLSX che puoi utilizzare per l'analisi.\n",
    "except FileNotFoundError as e:\n",
    "    print(\"Il file non è stato trovato.\")\n",
    "# except Exception as e:\n",
    "    print(f\"Si è verificato un errore: {e}\")                                                          \n",
    "    \n",
    "k2_max = df['k_m2'].max()\n",
    "k2_min = df['k_m2'].min()\n",
    "print(df)\n"
   ],
   "metadata": {
    "collapsed": false,
    "ExecuteTime": {
     "end_time": "2023-11-23T10:49:50.478965200Z",
     "start_time": "2023-11-23T10:49:48.544584900Z"
    }
   },
   "id": "8c9606e282a2fd88"
  },
  {
   "cell_type": "code",
   "execution_count": 2,
   "outputs": [
    {
     "data": {
      "text/plain": "       Porosity_Tot    SSA_Tot  Conn.Dens.   Porosity        SSA         Ech  \\\ncount     48.000000  48.000000   48.000000  48.000000  48.000000   48.000000   \nmean       0.139458  60.741732  265.459104   0.120208   6.096313 -104.954437   \nstd        0.074606  15.549278  161.555747   0.067272   2.480017   74.521722   \nmin        0.020000  34.412969   10.573000   0.020000   0.791000 -362.849000   \n25%        0.082500  51.740817  111.068250   0.076750   4.734500 -156.334000   \n50%        0.144500  59.018571  305.086500   0.111500   5.695500 -106.417500   \n75%        0.178000  78.543624  354.638000   0.137250   7.670000  -42.832000   \nmax        0.293000  89.214286  607.796000   0.297000  10.300000   -2.017000   \n\n       Tortuosity          k_m2  \ncount   48.000000  4.800000e+01  \nmean     3.179715  8.727964e-12  \nstd      0.871756  2.460269e-11  \nmin      1.340000  0.000000e+00  \n25%      2.777750  2.999780e-13  \n50%      3.326650  5.446314e-13  \n75%      3.817000  1.441766e-12  \nmax      4.459000  1.319490e-10  ",
      "text/html": "<div>\n<style scoped>\n    .dataframe tbody tr th:only-of-type {\n        vertical-align: middle;\n    }\n\n    .dataframe tbody tr th {\n        vertical-align: top;\n    }\n\n    .dataframe thead th {\n        text-align: right;\n    }\n</style>\n<table border=\"1\" class=\"dataframe\">\n  <thead>\n    <tr style=\"text-align: right;\">\n      <th></th>\n      <th>Porosity_Tot</th>\n      <th>SSA_Tot</th>\n      <th>Conn.Dens.</th>\n      <th>Porosity</th>\n      <th>SSA</th>\n      <th>Ech</th>\n      <th>Tortuosity</th>\n      <th>k_m2</th>\n    </tr>\n  </thead>\n  <tbody>\n    <tr>\n      <th>count</th>\n      <td>48.000000</td>\n      <td>48.000000</td>\n      <td>48.000000</td>\n      <td>48.000000</td>\n      <td>48.000000</td>\n      <td>48.000000</td>\n      <td>48.000000</td>\n      <td>4.800000e+01</td>\n    </tr>\n    <tr>\n      <th>mean</th>\n      <td>0.139458</td>\n      <td>60.741732</td>\n      <td>265.459104</td>\n      <td>0.120208</td>\n      <td>6.096313</td>\n      <td>-104.954437</td>\n      <td>3.179715</td>\n      <td>8.727964e-12</td>\n    </tr>\n    <tr>\n      <th>std</th>\n      <td>0.074606</td>\n      <td>15.549278</td>\n      <td>161.555747</td>\n      <td>0.067272</td>\n      <td>2.480017</td>\n      <td>74.521722</td>\n      <td>0.871756</td>\n      <td>2.460269e-11</td>\n    </tr>\n    <tr>\n      <th>min</th>\n      <td>0.020000</td>\n      <td>34.412969</td>\n      <td>10.573000</td>\n      <td>0.020000</td>\n      <td>0.791000</td>\n      <td>-362.849000</td>\n      <td>1.340000</td>\n      <td>0.000000e+00</td>\n    </tr>\n    <tr>\n      <th>25%</th>\n      <td>0.082500</td>\n      <td>51.740817</td>\n      <td>111.068250</td>\n      <td>0.076750</td>\n      <td>4.734500</td>\n      <td>-156.334000</td>\n      <td>2.777750</td>\n      <td>2.999780e-13</td>\n    </tr>\n    <tr>\n      <th>50%</th>\n      <td>0.144500</td>\n      <td>59.018571</td>\n      <td>305.086500</td>\n      <td>0.111500</td>\n      <td>5.695500</td>\n      <td>-106.417500</td>\n      <td>3.326650</td>\n      <td>5.446314e-13</td>\n    </tr>\n    <tr>\n      <th>75%</th>\n      <td>0.178000</td>\n      <td>78.543624</td>\n      <td>354.638000</td>\n      <td>0.137250</td>\n      <td>7.670000</td>\n      <td>-42.832000</td>\n      <td>3.817000</td>\n      <td>1.441766e-12</td>\n    </tr>\n    <tr>\n      <th>max</th>\n      <td>0.293000</td>\n      <td>89.214286</td>\n      <td>607.796000</td>\n      <td>0.297000</td>\n      <td>10.300000</td>\n      <td>-2.017000</td>\n      <td>4.459000</td>\n      <td>1.319490e-10</td>\n    </tr>\n  </tbody>\n</table>\n</div>"
     },
     "execution_count": 2,
     "metadata": {},
     "output_type": "execute_result"
    }
   ],
   "source": [
    "df.describe()\n"
   ],
   "metadata": {
    "collapsed": false,
    "ExecuteTime": {
     "end_time": "2023-11-23T10:50:43.487533200Z",
     "start_time": "2023-11-23T10:50:43.455859Z"
    }
   },
   "id": "811090587197d416"
  },
  {
   "cell_type": "code",
   "execution_count": 3,
   "outputs": [
    {
     "data": {
      "text/plain": "       Porosity_Tot    SSA_Tot  Conn.Dens.   Porosity        SSA        Ech  \\\ncount     48.000000  48.000000   48.000000  48.000000  48.000000  48.000000   \nmean       0.437576   0.480440    0.426785   0.361763   0.557925   0.714722   \nstd        0.273284   0.283739    0.270512   0.242861   0.260807   0.206527   \nmin        0.000000   0.000000    0.000000   0.000000   0.000000   0.000000   \n25%        0.228938   0.316194    0.168271   0.204874   0.414712   0.572330   \n50%        0.456044   0.448997    0.493138   0.330325   0.515775   0.710667   \n75%        0.578755   0.805285    0.576108   0.423285   0.723420   0.886886   \nmax        1.000000   1.000000    1.000000   1.000000   1.000000   1.000000   \n\n       Tortuosity       k_m2  \ncount   48.000000  48.000000  \nmean     0.589841   0.066146  \nstd      0.279499   0.186456  \nmin      0.000000   0.000000  \n25%      0.460965   0.002273  \n50%      0.636951   0.004128  \n75%      0.794165   0.010927  \nmax      1.000000   1.000000  ",
      "text/html": "<div>\n<style scoped>\n    .dataframe tbody tr th:only-of-type {\n        vertical-align: middle;\n    }\n\n    .dataframe tbody tr th {\n        vertical-align: top;\n    }\n\n    .dataframe thead th {\n        text-align: right;\n    }\n</style>\n<table border=\"1\" class=\"dataframe\">\n  <thead>\n    <tr style=\"text-align: right;\">\n      <th></th>\n      <th>Porosity_Tot</th>\n      <th>SSA_Tot</th>\n      <th>Conn.Dens.</th>\n      <th>Porosity</th>\n      <th>SSA</th>\n      <th>Ech</th>\n      <th>Tortuosity</th>\n      <th>k_m2</th>\n    </tr>\n  </thead>\n  <tbody>\n    <tr>\n      <th>count</th>\n      <td>48.000000</td>\n      <td>48.000000</td>\n      <td>48.000000</td>\n      <td>48.000000</td>\n      <td>48.000000</td>\n      <td>48.000000</td>\n      <td>48.000000</td>\n      <td>48.000000</td>\n    </tr>\n    <tr>\n      <th>mean</th>\n      <td>0.437576</td>\n      <td>0.480440</td>\n      <td>0.426785</td>\n      <td>0.361763</td>\n      <td>0.557925</td>\n      <td>0.714722</td>\n      <td>0.589841</td>\n      <td>0.066146</td>\n    </tr>\n    <tr>\n      <th>std</th>\n      <td>0.273284</td>\n      <td>0.283739</td>\n      <td>0.270512</td>\n      <td>0.242861</td>\n      <td>0.260807</td>\n      <td>0.206527</td>\n      <td>0.279499</td>\n      <td>0.186456</td>\n    </tr>\n    <tr>\n      <th>min</th>\n      <td>0.000000</td>\n      <td>0.000000</td>\n      <td>0.000000</td>\n      <td>0.000000</td>\n      <td>0.000000</td>\n      <td>0.000000</td>\n      <td>0.000000</td>\n      <td>0.000000</td>\n    </tr>\n    <tr>\n      <th>25%</th>\n      <td>0.228938</td>\n      <td>0.316194</td>\n      <td>0.168271</td>\n      <td>0.204874</td>\n      <td>0.414712</td>\n      <td>0.572330</td>\n      <td>0.460965</td>\n      <td>0.002273</td>\n    </tr>\n    <tr>\n      <th>50%</th>\n      <td>0.456044</td>\n      <td>0.448997</td>\n      <td>0.493138</td>\n      <td>0.330325</td>\n      <td>0.515775</td>\n      <td>0.710667</td>\n      <td>0.636951</td>\n      <td>0.004128</td>\n    </tr>\n    <tr>\n      <th>75%</th>\n      <td>0.578755</td>\n      <td>0.805285</td>\n      <td>0.576108</td>\n      <td>0.423285</td>\n      <td>0.723420</td>\n      <td>0.886886</td>\n      <td>0.794165</td>\n      <td>0.010927</td>\n    </tr>\n    <tr>\n      <th>max</th>\n      <td>1.000000</td>\n      <td>1.000000</td>\n      <td>1.000000</td>\n      <td>1.000000</td>\n      <td>1.000000</td>\n      <td>1.000000</td>\n      <td>1.000000</td>\n      <td>1.000000</td>\n    </tr>\n  </tbody>\n</table>\n</div>"
     },
     "execution_count": 3,
     "metadata": {},
     "output_type": "execute_result"
    }
   ],
   "source": [
    "from sklearn.metrics import mean_squared_error\n",
    "from sklearn.model_selection import train_test_split\n",
    "from sklearn.linear_model import LinearRegression\n",
    "from sklearn.preprocessing import StandardScaler, MinMaxScaler\n",
    "from sklearn.ensemble import RandomForestRegressor\n",
    "import matplotlib.pyplot as plt\n",
    "import numpy as np\n",
    "from numpy import real\n",
    "\n",
    "\n",
    "#Standardizza i dati con lo scaler\n",
    "scaler = MinMaxScaler()  \n",
    "\n",
    "scaled_data = scaler.fit_transform(df)\n",
    "\n",
    "df_scaled = pd.DataFrame(scaled_data, columns=df.columns)\n",
    "\n",
    "df_scaled.describe()"
   ],
   "metadata": {
    "collapsed": false,
    "ExecuteTime": {
     "end_time": "2023-11-23T10:50:48.452477300Z",
     "start_time": "2023-11-23T10:50:44.389848100Z"
    }
   },
   "id": "741d2a5e82bc4343"
  },
  {
   "cell_type": "code",
   "execution_count": 6,
   "outputs": [
    {
     "name": "stdout",
     "output_type": "stream",
     "text": [
      "R 2 : 0.9875913989135229\n"
     ]
    },
    {
     "data": {
      "text/plain": "<Figure size 600x600 with 1 Axes>",
      "image/png": "[encoded data removed]"
     },
     "metadata": {},
     "output_type": "display_data"
    }
   ],
   "source": [
    "# In questo esempio, consideriamo k sia la colonna target\n",
    "features_X = df_scaled.drop(['k_m2'], axis=1)  # Colonne features\n",
    "targets_X = df_scaled[['k_m2']]  # Colonne target\n",
    "\n",
    "# Suddivisione del dataset in set di addestramento e test\n",
    "\n",
    "#TODO provare con 0.7 - 30  o  0.7 - 20\n",
    "X_train, X_test, y_train, y_test = train_test_split(features_X, targets_X, test_size=0.3, random_state=42)\n",
    "# \n",
    "# classifiers = {\n",
    "#     'Decision Tree': DecisionTreeClassifier(),\n",
    "#     'Random Forest': RandomForestClassifier(),\n",
    "#     'Support Vector Machine': SVC(),\n",
    "# }  # Lista dei modelli di classificazione\n",
    "\n",
    "regressor =  RandomForestRegressor()\n",
    "regressor. fit(X_train, y_train.values.ravel())\n",
    "predict_k = regressor. predict(X_test)\n",
    "print(f\"R 2 : {regressor.score(X_test, y_test)}\" )\n",
    "mse_k = mean_squared_error(y_test, predict_k)\n",
    "\n",
    "# Real vs. Predicted Values\n",
    "plt.figure(figsize=(6, 6))\n",
    "plt.scatter(y_test, predict_k)\n",
    "# inserisci una linea bisettrice che rappresenta landamento ottimale dei valori\n",
    "plt.plot([y_test.min(), y_test.max()], [y_test.min(), y_test.max()], 'k--', lw=4)\n",
    "plt.xlabel('Real Values')\n",
    "plt.ylabel('Predicted Values')\n",
    "plt.title('Real vs. Predicted Values')\n",
    "plt.grid(True)\n",
    "plt.show()\n",
    "#Itera sulla lista dei modelli da provare\n",
    "# for name, classifier in classifiers.items():\n",
    "#         #Addestro il modello\n",
    "#     classifier.fit(features_X_train, targets_X_train)\n",
    "#     #Calcolo l'accuratezza del modello\n",
    "#     predict = classifier.predict(features_X_test)\n",
    "#         \n",
    "#     #Stampo i risultati\n",
    "#     print(f\"Modello: {name}\")\n",
    "# print(f'Classification Report: \\n {classification_report(targets_X_test, predict)}\\n')KNeighborsClassifier()"
   ],
   "metadata": {
    "collapsed": false,
    "ExecuteTime": {
     "end_time": "2023-11-23T10:51:33.833163400Z",
     "start_time": "2023-11-23T10:51:33.592540500Z"
    }
   },
   "id": "7bf36eff9123c949"
  },
  {
   "cell_type": "code",
   "execution_count": 7,
   "outputs": [
    {
     "data": {
      "text/plain": "(array([14.,  0.,  0.,  0.,  0.,  0.,  0.,  0.,  0.,  0.,  0.,  0.,  0.,\n         0.,  0.,  0.,  0.,  0.,  0.,  1.]),\n array([0.0006431 , 0.01509529, 0.02954748, 0.04399967, 0.05845186,\n        0.07290406, 0.08735625, 0.10180844, 0.11626063, 0.13071282,\n        0.14516501, 0.1596172 , 0.17406939, 0.18852159, 0.20297378,\n        0.21742597, 0.23187816, 0.24633035, 0.26078254, 0.27523473,\n        0.28968692]),\n <BarContainer object of 20 artists>)"
     },
     "execution_count": 7,
     "metadata": {},
     "output_type": "execute_result"
    },
    {
     "data": {
      "text/plain": "<Figure size 640x480 with 1 Axes>",
      "image/png": "[encoded data removed]"
     },
     "metadata": {},
     "output_type": "display_data"
    }
   ],
   "source": [
    "plt.hist(y_test, bins=20)"
   ],
   "metadata": {
    "collapsed": false,
    "ExecuteTime": {
     "end_time": "2023-11-23T10:51:36.526008100Z",
     "start_time": "2023-11-23T10:51:36.441029800Z"
    }
   },
   "id": "73bf57722b2607b8"
  },
  {
   "cell_type": "code",
   "execution_count": 8,
   "outputs": [
    {
     "name": "stdout",
     "output_type": "stream",
     "text": [
      "Valore reale: 0.003225113566605279 - Valore predetto: 0.0038409988459177412 \n",
      "Errore di previsione 0.0006158852793124621 \n",
      "\n",
      "Valore reale: 0.004140073664825046 - Valore predetto: 0.003459232314303251 \n",
      "Errore di previsione 0.0006808413505217949 \n",
      "\n",
      "Valore reale: 0.0022233701657458564 - Valore predetto: 0.0029106327931246183 \n",
      "Errore di previsione 0.0006872626273787619 \n",
      "\n",
      "Valore reale: 0.004064100675260896 - Valore predetto: 0.00420453251074279 \n",
      "Errore di previsione 0.00014043183548189363 \n",
      "\n",
      "Valore reale: 0.009362062615101288 - Valore predetto: 0.008703091160221001 \n",
      "Errore di previsione 0.0006589714548802875 \n",
      "\n",
      "Valore reale: 0.0006431000613873541 - Valore predetto: 0.003954121080417432 \n",
      "Errore di previsione 0.003311021019030078 \n",
      "\n",
      "Valore reale: 0.2896869244935544 - Valore predetto: 0.2998341442602823 \n",
      "Errore di previsione 0.010147219766727944 \n",
      "\n",
      "Valore reale: 0.0025698895027624308 - Valore predetto: 0.002082911565377532 \n",
      "Errore di previsione 0.00048697793738489885 \n",
      "\n",
      "Valore reale: 0.006957826887661142 - Valore predetto: 0.017433937323511374 \n",
      "Errore di previsione 0.010476110435850231 \n",
      "\n",
      "Valore reale: 0.004115107427869859 - Valore predetto: 0.008645435543278093 \n",
      "Errore di previsione 0.0045303281154082334 \n",
      "\n",
      "Valore reale: 0.014656476365868632 - Valore predetto: 0.02192886052793126 \n",
      "Errore di previsione 0.007272384162062627 \n",
      "\n",
      "Valore reale: 0.007324739103744628 - Valore predetto: 0.015480050276243114 \n",
      "Errore di previsione 0.008155311172498486 \n",
      "\n",
      "Valore reale: 0.0030392817679558005 - Valore predetto: 0.025653490914671596 \n",
      "Errore di previsione 0.022614209146715795 \n",
      "\n",
      "Valore reale: 0.011062922038060157 - Valore predetto: 0.003459232314303251 \n",
      "Errore di previsione 0.007603689723756905 \n",
      "\n",
      "Valore reale: 0.0016760282381829343 - Valore predetto: 0.003682214511970537 \n",
      "Errore di previsione 0.002006186273787603 \n"
     ]
    },
    {
     "data": {
      "text/plain": "<Figure size 640x480 with 1 Axes>",
      "image/png": "[encoded data removed]"
     },
     "metadata": {},
     "output_type": "display_data"
    }
   ],
   "source": [
    "plt.hist(predict_k, bins=20)\n",
    "\n",
    "y_ravel = y_test.values.ravel()\n",
    "\n",
    "errori_list = []\n",
    "\n",
    "for a in range(0, len(y_test)):\n",
    "    errori_list.append(abs(y_ravel[a] - predict_k[a]))\n",
    "    print(f\"Valore reale: {y_ravel[a]} - Valore predetto: {predict_k[a]} \\n\"\n",
    "         f\"Errore di previsione { abs(y_ravel[a] - predict_k[a]) } \\n\")"
   ],
   "metadata": {
    "collapsed": false,
    "ExecuteTime": {
     "end_time": "2023-11-23T10:51:41.041090300Z",
     "start_time": "2023-11-23T10:51:40.959841900Z"
    }
   },
   "id": "7ffb943a1fb468b0"
  },
  {
   "cell_type": "code",
   "execution_count": 9,
   "outputs": [
    {
     "name": "stdout",
     "output_type": "stream",
     "text": [
      "Dimensioni di errori_array: (15,)\n",
      "\n",
      "\n",
      "---------\n",
      "Residui originali: \n",
      " [8.126544672000007e-14, 8.983633536000033e-14, 9.068361642000027e-14, 1.8529840260000383e-14, 8.695062449999906e-14, 4.3688591243999975e-13, 1.3389155009999856e-12, 6.425625186000002e-14, 1.3823122959000023e-12, 5.97772264500001e-13, 9.595838178000017e-13, 1.0760851539000028e-12, 2.9839222827000028e-12, 1.00329925536e-12, 2.6471427264000043e-13]\n"
     ]
    }
   ],
   "source": [
    "# Supponiamo che predict_k sia il tuo array di previsioni standardizzate\n",
    "# e che scaler sia un'istanza di MinMaxScaler già addestrata sul tuo dataset originale\n",
    "\n",
    "errori_List = np.array(errori_list)\n",
    "print(\"Dimensioni di errori_array:\", errori_List.shape)\n",
    "\n",
    "# De-standardizzazione dei residui\n",
    "residui_originali = []\n",
    "\n",
    "for i in range(len(errori_List)):\n",
    "    residui_originali.append(\n",
    "        errori_List[i] * (k2_max - k2_min) + k2_min\n",
    "    )\n",
    "\n",
    "print(\"\\n\\n---------\\nResidui originali: \\n\", residui_originali)\n",
    "# Ora residui_originali contiene i residui de-standardizzati\n"
   ],
   "metadata": {
    "collapsed": false,
    "ExecuteTime": {
     "end_time": "2023-11-23T10:51:47.098166400Z",
     "start_time": "2023-11-23T10:51:47.082172300Z"
    }
   },
   "id": "fd6962845159b4bf"
  },
  {
   "cell_type": "code",
   "execution_count": 10,
   "outputs": [
    {
     "name": "stdout",
     "output_type": "stream",
     "text": [
      "Tutti gli errori rientrano nel range di accettabilità\n"
     ]
    }
   ],
   "source": [
    "# In questa sezione devo verificare se il range di errore destandardizzato è accettabile\n",
    "# L'errore può essere accettabile se non supera il range di un'ordine di grandezza\n",
    "\n",
    "sentinella = 0\n",
    "# Il rapporto che governerà questo range sarà il seguente:\n",
    "# 0.7 < (y_test[i] / residui_originali[i]) < 1.3         -->     controllo del (+/-) 30% di errore\n",
    "for i in range(len(y_test)):\n",
    "    if 1.05 > (np.log10(y_ravel[i]) / np.log10(residui_originali[i])) > 0.95:\n",
    "        print(f\"Errore di previsione del dato {i} superiore al range ammissibile di un'ordine di grandezza\")\n",
    "        sentinella = 1\n",
    "\n",
    "if sentinella == 0: \n",
    "    print(\"Tutti gli errori rientrano nel range di accettabilità\")\n",
    "        "
   ],
   "metadata": {
    "collapsed": false,
    "ExecuteTime": {
     "end_time": "2023-11-23T10:51:54.319781700Z",
     "start_time": "2023-11-23T10:51:54.316780600Z"
    }
   },
   "id": "65bf596e7e59ab9"
  },
  {
   "cell_type": "code",
   "execution_count": 12,
   "outputs": [
    {
     "name": "stdout",
     "output_type": "stream",
     "text": [
      "Best Parameters: {'criterion': 'absolute_error', 'max_features': 1, 'min_samples_leaf': 1, 'min_samples_split': 5, 'n_estimators': 200, 'n_jobs': -1, 'random_state': 42}\n",
      "Best MSE Score: 0.025522288359461597\n",
      "Mean Squared Error: 0.0006424040518675247\n",
      "Root Mean Squared Error: 0.025345690992109975\n",
      "R^2 Score: 0.8726417544895476\n",
      "Training Time (seconds): 151.40863418579102\n"
     ]
    }
   ],
   "source": [
    "#### test iperparametri più veloce...meno valori da provare....codice funzionante e veloce!!!\n",
    "\n",
    "from sklearn.model_selection import GridSearchCV\n",
    "from sklearn.metrics import mean_squared_error\n",
    "import time\n",
    "\n",
    "# Definisci gli iperparametri da cercare\n",
    "param_grid = {\n",
    "    'n_estimators': [50,100,200],\n",
    "    'criterion': ['absolute_error', 'poisson', 'squared_error', 'friedman_mse'],\n",
    "    'max_features': [0.1, 1],\n",
    "    'n_jobs': [-1],\n",
    "    'min_samples_split': [2, 3, 5, 10],\n",
    "    'min_samples_leaf': [1, 2, 4],\n",
    "    'random_state': [42]\n",
    "}\n",
    "\n",
    "\n",
    "# Crea un oggetto GridSearchCV per la ricerca degli iperparametri con cross-validation\n",
    "grid_search = GridSearchCV(regressor, param_grid, cv=5, scoring='neg_mean_squared_error')\n",
    "\n",
    "# Lista per tenere traccia del tempo di esecuzione di ciascun set di iperparametri\n",
    "execution_times = []\n",
    "\n",
    "# Definisci il tempo massimo di esecuzione in secondi (300 secondi = 5 minuti)\n",
    "max_execution_time = 300\n",
    "\n",
    "start_time = time.time()\n",
    "\n",
    "# Esegui la ricerca degli iperparametri\n",
    "grid_search.fit(X_train, y_train.values.ravel())\n",
    "\n",
    "end_time = time.time()\n",
    "training_time = end_time - start_time\n",
    "# iteration = 0\n",
    "\n",
    "# Itera attraverso i parametri iperparametrici\n",
    "# for params in ParameterGrid(param_grid):\n",
    "#     # Misura il tempo di inizio dell'allenamento\n",
    "#     start_time = time.time()\n",
    "# \n",
    "#     # Esegui la ricerca degli iperparametri\n",
    "#     grid_search.fit(X_train, y_train)\n",
    "# \n",
    "#     # Calcola il tempo di fine dell'allenamento\n",
    "#     end_time = time.time()\n",
    "# \n",
    "#     # Calcola il tempo totale di addestramento\n",
    "#     training_time = end_time - start_time\n",
    "#     execution_times.append(training_time)\n",
    "# \n",
    "#     # Incrementa il contatore delle iterazioni\n",
    "#     iteration += 1\n",
    "# \n",
    "#     # Verifica se il tempo massimo è stato superato\n",
    "#     if sum(execution_times) + (training_time * (len(ParameterGrid(param_grid)) - iteration)) > max_execution_time:\n",
    "#         print(f\"Interrotto dopo {iteration} iterazioni (tempo limite raggiunto)\")\n",
    "#         break\n",
    "#     \n",
    "#     # Stampa l'avanzamento\n",
    "#     print(f\"Iterazione {iteration}/{len(ParameterGrid(param_grid))}, Tempo impiegato: {training_time:.2f} secondi\")\n",
    "\n",
    "# Trova il miglior modello\n",
    "best_model = grid_search.best_estimator_\n",
    "\n",
    "# Valuta il modello sul set di test\n",
    "y_pred = best_model.predict(X_test)\n",
    "mse = mean_squared_error(y_test, y_pred)\n",
    "rmse = np.sqrt(mse)\n",
    "r2_bestModel = best_model.score(X_test, y_test)\n",
    "\n",
    "print(\"Best Parameters:\", grid_search.best_params_)\n",
    "print(\"Best MSE Score:\", -grid_search.best_score_)\n",
    "print(\"Mean Squared Error:\", mse)\n",
    "print(\"Root Mean Squared Error:\", rmse)\n",
    "print(\"R^2 Score:\", r2_bestModel)\n",
    "print(\"Training Time (seconds):\", training_time)\n",
    "\n",
    "\n"
   ],
   "metadata": {
    "collapsed": false,
    "ExecuteTime": {
     "end_time": "2023-11-23T10:56:12.048336900Z",
     "start_time": "2023-11-23T10:53:40.604365600Z"
    }
   },
   "id": "2e4b2bca914b0a89"
  },
  {
   "cell_type": "code",
   "execution_count": 13,
   "outputs": [
    {
     "name": "stdout",
     "output_type": "stream",
     "text": [
      "Media MSE: 0.0006424040518675242\n",
      "Media R2: 0.872641754489548\n"
     ]
    }
   ],
   "source": [
    "from sklearn.metrics import r2_score\n",
    "\n",
    "# Calcola l'R2 e il mse per il modello ottimo appena trovato, grazie alla grid search.\n",
    "# Poichè ogni volta che viene effettuato l'allenamento i valori di r2 e mse cambiano, è necessario effettuare una media su un numero di iterazioni sufficientemente alto\n",
    "# e valutare i valori medi di r2 e mse per il modello ottimo trovato.\n",
    "\n",
    "valori_R2 = []\n",
    "valori_mse = []\n",
    "\n",
    "#Faccio l'allenamento più volte per ricavare una media dei valori di r2 e mse  ((1000 volte))\n",
    "for a in range(1000):\n",
    "    #Alleno il modello sulla porzione di training del dataset\n",
    "    best_model.fit(X_train, y_train.values.ravel())\n",
    "\n",
    "    # Calcola l'MSE e R2\n",
    "    predictions = best_model.predict(X_test)\n",
    "    mse_rf = mean_squared_error(y_test, predictions)\n",
    "    r2_rf = r2_score(y_test, predictions)\n",
    "\n",
    "    # print(f'MSE sul set di test: {mse_rf}')\n",
    "    # print(f'R2 sul set di test: {r2_rf}')\n",
    "    valori_R2.append(r2_rf)\n",
    "    valori_mse.append(mse_rf)\n",
    "\n",
    "print(f\"Media MSE: {np.mean(valori_mse)}\")\n",
    "print(f\"Media R2: {np.mean(valori_R2)}\")\n",
    "\n",
    "\n"
   ],
   "metadata": {
    "collapsed": false,
    "ExecuteTime": {
     "end_time": "2023-11-23T11:15:54.161380400Z",
     "start_time": "2023-11-23T11:12:53.480085400Z"
    }
   },
   "id": "1fa8838357826cc3"
  },
  {
   "cell_type": "code",
   "execution_count": 14,
   "outputs": [
    {
     "name": "stdout",
     "output_type": "stream",
     "text": [
      "[array([-0.00434582]), array([0.00049483]), array([-0.0049161]), array([0.00029477]), array([-0.01179854]), array([-0.00283289]), array([-0.09174698]), array([-0.00059603]), array([-0.01297264]), array([-0.01922655]), array([-0.00067712]), array([-0.00638604]), array([-0.01844183]), array([0.00741768]), array([-0.00729847])]\n",
      "--------------------\n"
     ]
    },
    {
     "data": {
      "text/plain": "<Figure size 640x480 with 1 Axes>",
      "image/png": "[encoded data removed]"
     },
     "metadata": {},
     "output_type": "display_data"
    }
   ],
   "source": [
    "# Assicurati che siano array NumPy o serie Pandas\n",
    "y_test = np.array(y_test)\n",
    "predictions_rf = np.array(predictions)\n",
    "# Analisi degli errori\n",
    "errore = []\n",
    "for i in range(len(y_test)):\n",
    "   errore.append(y_test[i] - predictions_rf[i])\n",
    "print(errore)\n",
    "print(\"--------------------\")\n",
    "# Supponendo che errore sia la tua lista di array\n",
    "errore_concatenato = np.concatenate(errore)\n",
    "\n",
    "# Creare un DataFrame pandas con una colonna chiamata 'Errore'\n",
    "df_errore = pd.DataFrame({'Errore': errore_concatenato})\n",
    "\n",
    "# Grafico degli errori\n",
    "plt.scatter(predictions_rf, df_errore)\n",
    "plt.xlabel('Previsioni')\n",
    "plt.ylabel('Errori')\n",
    "plt.title('Analisi degli Errori (RandomForestRegressor)')\n",
    "plt.show()\n"
   ],
   "metadata": {
    "collapsed": false,
    "ExecuteTime": {
     "end_time": "2023-11-23T11:26:36.286199600Z",
     "start_time": "2023-11-23T11:26:36.201904100Z"
    }
   },
   "id": "355081690f660698"
  },
  {
   "cell_type": "code",
   "execution_count": 15,
   "outputs": [
    {
     "name": "stdout",
     "output_type": "stream",
     "text": [
      "Valore reale: 0.003225113566605279 - Valore predetto: 0.007570933207489265 \n",
      "Errore di previsione 0.0043458196408839855 \n",
      "\n",
      "Valore reale: 0.004140073664825046 - Valore predetto: 0.003645242326580721 \n",
      "Errore di previsione 0.0004948313382443247 \n",
      "\n",
      "Valore reale: 0.0022233701657458564 - Valore predetto: 0.007139471037446294 \n",
      "Errore di previsione 0.004916100871700437 \n",
      "\n",
      "Valore reale: 0.004064100675260896 - Valore predetto: 0.003769330880908533 \n",
      "Errore di previsione 0.0002947697943523628 \n",
      "\n",
      "Valore reale: 0.009362062615101288 - Valore predetto: 0.021160601163290358 \n",
      "Errore di previsione 0.01179853854818907 \n",
      "\n",
      "Valore reale: 0.0006431000613873541 - Valore predetto: 0.003475991758747696 \n",
      "Errore di previsione 0.002832891697360342 \n",
      "\n",
      "Valore reale: 0.2896869244935544 - Valore predetto: 0.381433905233272 \n",
      "Errore di previsione 0.0917469807397176 \n",
      "\n",
      "Valore reale: 0.0025698895027624308 - Valore predetto: 0.003165916485573969 \n",
      "Errore di previsione 0.0005960269828115383 \n",
      "\n",
      "Valore reale: 0.006957826887661142 - Valore predetto: 0.019930467363413154 \n",
      "Errore di previsione 0.012972640475752011 \n",
      "\n",
      "Valore reale: 0.004115107427869859 - Valore predetto: 0.023341654647022696 \n",
      "Errore di previsione 0.01922654721915284 \n",
      "\n",
      "Valore reale: 0.014656476365868632 - Valore predetto: 0.015333596869244952 \n",
      "Errore di previsione 0.0006771205033763196 \n",
      "\n",
      "Valore reale: 0.007324739103744628 - Valore predetto: 0.013710781553100066 \n",
      "Errore di previsione 0.006386042449355438 \n",
      "\n",
      "Valore reale: 0.0030392817679558005 - Valore predetto: 0.021481113842848388 \n",
      "Errore di previsione 0.018441832074892587 \n",
      "\n",
      "Valore reale: 0.011062922038060157 - Valore predetto: 0.003645242326580721 \n",
      "Errore di previsione 0.007417679711479436 \n",
      "\n",
      "[[0.00322511]\n",
      " [0.00414007]\n",
      " [0.00222337]\n",
      " [0.0040641 ]\n",
      " [0.00936206]\n",
      " [0.0006431 ]\n",
      " [0.28968692]\n",
      " [0.00256989]\n",
      " [0.00695783]\n",
      " [0.00411511]\n",
      " [0.01465648]\n",
      " [0.00732474]\n",
      " [0.00303928]\n",
      " [0.01106292]\n",
      " [0.00167603]]\n",
      "Residui originali: \n",
      " [5.73426555795001e-13, 6.52925002500004e-14, 6.48674593920001e-13, 3.889457959499992e-14, 1.5568053628949996e-12, 3.737972265749998e-13, 1.2105922361624998e-11, 7.864516435499967e-14, 1.7117269381350023e-12, 2.536923679019998e-12, 8.9345373300002e-14, 8.426319151500007e-13, 2.4333813004500022e-12, 9.7875542025e-13]\n"
     ]
    }
   ],
   "source": [
    "#Codice che mi serve solo per controllare se l'allenamento procede correttamente.\n",
    "#Devo controllare che gli errori non si discostino troppo dai valori reali\n",
    "#Ora controllo dopo averlo allenato col modello migliore utilizzando gli iperparametri migliori\n",
    "\n",
    "errorilist2 = []\n",
    "\n",
    "for a in range(0, len(y_test) - 1):\n",
    "    errorilist2.append(abs(y_ravel[a] - predictions[a]))\n",
    "    print(f\"Valore reale: {y_ravel[a]} - Valore predetto: {predictions[a]} \\n\"\n",
    "         f\"Errore di previsione { abs(y_ravel[a] - predictions[a]) } \\n\")\n",
    "    \n",
    "erroriList2 = np.array(errorilist2)\n",
    "\n",
    "# De-standardizzazione dei residui\n",
    "residui_originali_2 = []\n",
    "print(y_test)\n",
    "for i in range(len(erroriList2)):\n",
    "    residui_originali_2.append(\n",
    "        erroriList2[i] * (k2_max - k2_min) + k2_min\n",
    "    )\n",
    "\n",
    "print(\"Residui originali: \\n\", residui_originali_2)"
   ],
   "metadata": {
    "collapsed": false,
    "ExecuteTime": {
     "end_time": "2023-11-23T11:26:38.989615200Z",
     "start_time": "2023-11-23T11:26:38.981704400Z"
    }
   },
   "id": "d06e754e2deaa5bf"
  },
  {
   "cell_type": "code",
   "execution_count": 16,
   "outputs": [
    {
     "name": "stdout",
     "output_type": "stream",
     "text": [
      "Media MSE sulla LOOCV: 0.009902591037188652\n"
     ]
    },
    {
     "data": {
      "text/plain": "<Figure size 640x480 with 1 Axes>",
      "image/png": "[encoded data removed]"
     },
     "metadata": {},
     "output_type": "display_data"
    }
   ],
   "source": [
    "# from sklearn.ensemble import RandomForestRegressor\n",
    "# import numpy as np\n",
    "# import matplotlib.pyplot as plt\n",
    "# \n",
    "# # Supponiamo che X sia il tuo insieme di dati e y sia l'etichetta associata\n",
    "# # Sostituisci X e y con i tuoi dati effettivi\n",
    "# \n",
    "# # Numero totale di dati\n",
    "# num_dati = len(df_scaled)\n",
    "# # Inizializza il regressore\n",
    "# regressor = RandomForestRegressor()\n",
    "# \n",
    "# # Inizializza un array per tenere traccia delle prestazioni durante l'apprendimento\n",
    "# performance = []\n",
    "# \n",
    "# # Ciclo attraverso le iterazioni\n",
    "# for i in range(num_dati):\n",
    "#     # Seleziona un singolo dato da aggiungere al set di addestramento\n",
    "#     indice_train = i % num_dati\n",
    "# \n",
    "#     # Aggiorna il set di addestramento\n",
    "#     X_train = df_scaled[:indice_train + 1]\n",
    "#     y_train = df_scaled['k_m2'][:indice_train + 1]\n",
    "# \n",
    "#     # Addestra il regressore\n",
    "#     regressor.fit(X_train, y_train)\n",
    "# \n",
    "#     # Valuta le prestazioni sul set di addestramento\n",
    "#     y_pred_train = regressor.predict(X_train)\n",
    "#     mse_train = np.mean((y_train - y_pred_train)**2)\n",
    "# \n",
    "#     performance.append(mse_train)\n",
    "# \n",
    "# # Visualizza come le prestazioni cambiano con l'apprendimento\n",
    "# plt.plot(performance, marker='o')\n",
    "# plt.xlabel('Numero di iterazioni')\n",
    "# plt.ylabel('MSE sul set di addestramento')\n",
    "# plt.title('Apprendimento cumulativo con RandomForestRegressor')\n",
    "# plt.show()\n",
    "\n",
    "from sklearn.metrics import r2_score\n",
    "from sklearn.model_selection import LeaveOneOut\n",
    "from sklearn.ensemble import RandomForestRegressor\n",
    "from sklearn.metrics import mean_squared_error\n",
    "import numpy as np\n",
    "\n",
    "# Supponiamo che X sia il tuo insieme di dati e y sia l'etichetta associata\n",
    "# Sostituisci X e y con i tuoi dati effettivi\n",
    "\n",
    "\n",
    "\n",
    "# Inizializza lo schema LOOCV\n",
    "loo = LeaveOneOut()\n",
    "\n",
    "# Inizializza un array per tenere traccia delle prestazioni\n",
    "performance = []\n",
    "\n",
    "# Ciclo attraverso le iterazioni della LOOCV\n",
    "for train_index, test_index in loo.split(df_scaled):\n",
    "    X_train, X_test = df_scaled.drop('k_m2', axis=1).iloc[train_index], df_scaled.drop('k_m2', axis=1).iloc[test_index]\n",
    "    y_train, y_test = df_scaled['k_m2'].iloc[train_index], df_scaled['k_m2'].iloc[test_index]\n",
    "\n",
    "    # Addestra il regressore\n",
    "    regressor.fit(X_train, y_train)\n",
    "\n",
    "    # Valuta le prestazioni sul set di test\n",
    "    y_pred = regressor.predict(X_test)\n",
    "    mse = mean_squared_error(y_test, y_pred)\n",
    "    \n",
    "    performance.append(mse)\n",
    "\n",
    "# Media degli errori quadratici medi ottenuti in ciascuna iterazione\n",
    "media_performance = np.mean(performance)\n",
    "print(f\"Media MSE sulla LOOCV: {media_performance}\")\n",
    "\n",
    "\n",
    "# Plot delle prestazioni in ciascuna iterazione\n",
    "plt.plot(performance, marker='o')\n",
    "plt.xlabel('Iterazione LOOCV')\n",
    "plt.ylabel('MSE')\n",
    "plt.title('Prestazioni nella LOOCV')\n",
    "plt.show()"
   ],
   "metadata": {
    "collapsed": false,
    "ExecuteTime": {
     "end_time": "2023-11-23T11:26:45.531784200Z",
     "start_time": "2023-11-23T11:26:41.281896200Z"
    }
   },
   "id": "d3136f5110d42e20"
  },
  {
   "cell_type": "code",
   "execution_count": 17,
   "outputs": [
    {
     "data": {
      "text/plain": "<Figure size 640x480 with 1 Axes>",
      "image/png": "[encoded data removed]"
     },
     "metadata": {},
     "output_type": "display_data"
    }
   ],
   "source": [
    "# ANALISI DEI RESIDUI\n",
    "\n",
    "#QQ plot\n",
    "from scipy import stats\n",
    "\n",
    "stats.probplot(erroriList2, plot=plt)\n",
    "plt.title('Q-Q Plot dei Residui')\n",
    "plt.show()\n"
   ],
   "metadata": {
    "collapsed": false,
    "ExecuteTime": {
     "end_time": "2023-11-23T11:26:49.008650600Z",
     "start_time": "2023-11-23T11:26:48.921887700Z"
    }
   },
   "id": "24a15b66c596850a"
  },
  {
   "cell_type": "code",
   "execution_count": 18,
   "outputs": [
    {
     "ename": "ValueError",
     "evalue": "Length of values (15) does not match length of index (1)",
     "output_type": "error",
     "traceback": [
      "\u001B[1;31m---------------------------------------------------------------------------\u001B[0m",
      "\u001B[1;31mValueError\u001B[0m                                Traceback (most recent call last)",
      "Cell \u001B[1;32mIn[18], line 5\u001B[0m\n\u001B[0;32m      1\u001B[0m \u001B[38;5;66;03m#Questo codice aiuta ad identificare i valori anomali nel dataset. \u001B[39;00m\n\u001B[0;32m      2\u001B[0m \n\u001B[0;32m      3\u001B[0m \u001B[38;5;66;03m# Aggiungi i residui al DataFrame originale\u001B[39;00m\n\u001B[0;32m      4\u001B[0m df_with_residui \u001B[38;5;241m=\u001B[39m X_test\u001B[38;5;241m.\u001B[39mcopy()\n\u001B[1;32m----> 5\u001B[0m \u001B[43mdf_with_residui\u001B[49m\u001B[43m[\u001B[49m\u001B[38;5;124;43m'\u001B[39;49m\u001B[38;5;124;43mResidui\u001B[39;49m\u001B[38;5;124;43m'\u001B[39;49m\u001B[43m]\u001B[49m \u001B[38;5;241m=\u001B[39m errore\n\u001B[0;32m      7\u001B[0m \u001B[38;5;28mprint\u001B[39m(df_with_residui\u001B[38;5;241m.\u001B[39msize())\n\u001B[0;32m      8\u001B[0m \u001B[38;5;28mprint\u001B[39m(errore\u001B[38;5;241m.\u001B[39msize())\n",
      "File \u001B[1;32m~\\Desktop\\Loris_WorkSpace\\Permeability_Eval_AI\\venv\\Lib\\site-packages\\pandas\\core\\frame.py:4091\u001B[0m, in \u001B[0;36mDataFrame.__setitem__\u001B[1;34m(self, key, value)\u001B[0m\n\u001B[0;32m   4088\u001B[0m     \u001B[38;5;28mself\u001B[39m\u001B[38;5;241m.\u001B[39m_setitem_array([key], value)\n\u001B[0;32m   4089\u001B[0m \u001B[38;5;28;01melse\u001B[39;00m:\n\u001B[0;32m   4090\u001B[0m     \u001B[38;5;66;03m# set column\u001B[39;00m\n\u001B[1;32m-> 4091\u001B[0m     \u001B[38;5;28;43mself\u001B[39;49m\u001B[38;5;241;43m.\u001B[39;49m\u001B[43m_set_item\u001B[49m\u001B[43m(\u001B[49m\u001B[43mkey\u001B[49m\u001B[43m,\u001B[49m\u001B[43m \u001B[49m\u001B[43mvalue\u001B[49m\u001B[43m)\u001B[49m\n",
      "File \u001B[1;32m~\\Desktop\\Loris_WorkSpace\\Permeability_Eval_AI\\venv\\Lib\\site-packages\\pandas\\core\\frame.py:4300\u001B[0m, in \u001B[0;36mDataFrame._set_item\u001B[1;34m(self, key, value)\u001B[0m\n\u001B[0;32m   4290\u001B[0m \u001B[38;5;28;01mdef\u001B[39;00m \u001B[38;5;21m_set_item\u001B[39m(\u001B[38;5;28mself\u001B[39m, key, value) \u001B[38;5;241m-\u001B[39m\u001B[38;5;241m>\u001B[39m \u001B[38;5;28;01mNone\u001B[39;00m:\n\u001B[0;32m   4291\u001B[0m \u001B[38;5;250m    \u001B[39m\u001B[38;5;124;03m\"\"\"\u001B[39;00m\n\u001B[0;32m   4292\u001B[0m \u001B[38;5;124;03m    Add series to DataFrame in specified column.\u001B[39;00m\n\u001B[0;32m   4293\u001B[0m \n\u001B[1;32m   (...)\u001B[0m\n\u001B[0;32m   4298\u001B[0m \u001B[38;5;124;03m    ensure homogeneity.\u001B[39;00m\n\u001B[0;32m   4299\u001B[0m \u001B[38;5;124;03m    \"\"\"\u001B[39;00m\n\u001B[1;32m-> 4300\u001B[0m     value, refs \u001B[38;5;241m=\u001B[39m \u001B[38;5;28;43mself\u001B[39;49m\u001B[38;5;241;43m.\u001B[39;49m\u001B[43m_sanitize_column\u001B[49m\u001B[43m(\u001B[49m\u001B[43mvalue\u001B[49m\u001B[43m)\u001B[49m\n\u001B[0;32m   4302\u001B[0m     \u001B[38;5;28;01mif\u001B[39;00m (\n\u001B[0;32m   4303\u001B[0m         key \u001B[38;5;129;01min\u001B[39;00m \u001B[38;5;28mself\u001B[39m\u001B[38;5;241m.\u001B[39mcolumns\n\u001B[0;32m   4304\u001B[0m         \u001B[38;5;129;01mand\u001B[39;00m value\u001B[38;5;241m.\u001B[39mndim \u001B[38;5;241m==\u001B[39m \u001B[38;5;241m1\u001B[39m\n\u001B[0;32m   4305\u001B[0m         \u001B[38;5;129;01mand\u001B[39;00m \u001B[38;5;129;01mnot\u001B[39;00m \u001B[38;5;28misinstance\u001B[39m(value\u001B[38;5;241m.\u001B[39mdtype, ExtensionDtype)\n\u001B[0;32m   4306\u001B[0m     ):\n\u001B[0;32m   4307\u001B[0m         \u001B[38;5;66;03m# broadcast across multiple columns if necessary\u001B[39;00m\n\u001B[0;32m   4308\u001B[0m         \u001B[38;5;28;01mif\u001B[39;00m \u001B[38;5;129;01mnot\u001B[39;00m \u001B[38;5;28mself\u001B[39m\u001B[38;5;241m.\u001B[39mcolumns\u001B[38;5;241m.\u001B[39mis_unique \u001B[38;5;129;01mor\u001B[39;00m \u001B[38;5;28misinstance\u001B[39m(\u001B[38;5;28mself\u001B[39m\u001B[38;5;241m.\u001B[39mcolumns, MultiIndex):\n",
      "File \u001B[1;32m~\\Desktop\\Loris_WorkSpace\\Permeability_Eval_AI\\venv\\Lib\\site-packages\\pandas\\core\\frame.py:5039\u001B[0m, in \u001B[0;36mDataFrame._sanitize_column\u001B[1;34m(self, value)\u001B[0m\n\u001B[0;32m   5036\u001B[0m     \u001B[38;5;28;01mreturn\u001B[39;00m _reindex_for_setitem(value, \u001B[38;5;28mself\u001B[39m\u001B[38;5;241m.\u001B[39mindex)\n\u001B[0;32m   5038\u001B[0m \u001B[38;5;28;01mif\u001B[39;00m is_list_like(value):\n\u001B[1;32m-> 5039\u001B[0m     \u001B[43mcom\u001B[49m\u001B[38;5;241;43m.\u001B[39;49m\u001B[43mrequire_length_match\u001B[49m\u001B[43m(\u001B[49m\u001B[43mvalue\u001B[49m\u001B[43m,\u001B[49m\u001B[43m \u001B[49m\u001B[38;5;28;43mself\u001B[39;49m\u001B[38;5;241;43m.\u001B[39;49m\u001B[43mindex\u001B[49m\u001B[43m)\u001B[49m\n\u001B[0;32m   5040\u001B[0m \u001B[38;5;28;01mreturn\u001B[39;00m sanitize_array(value, \u001B[38;5;28mself\u001B[39m\u001B[38;5;241m.\u001B[39mindex, copy\u001B[38;5;241m=\u001B[39m\u001B[38;5;28;01mTrue\u001B[39;00m, allow_2d\u001B[38;5;241m=\u001B[39m\u001B[38;5;28;01mTrue\u001B[39;00m), \u001B[38;5;28;01mNone\u001B[39;00m\n",
      "File \u001B[1;32m~\\Desktop\\Loris_WorkSpace\\Permeability_Eval_AI\\venv\\Lib\\site-packages\\pandas\\core\\common.py:561\u001B[0m, in \u001B[0;36mrequire_length_match\u001B[1;34m(data, index)\u001B[0m\n\u001B[0;32m    557\u001B[0m \u001B[38;5;250m\u001B[39m\u001B[38;5;124;03m\"\"\"\u001B[39;00m\n\u001B[0;32m    558\u001B[0m \u001B[38;5;124;03mCheck the length of data matches the length of the index.\u001B[39;00m\n\u001B[0;32m    559\u001B[0m \u001B[38;5;124;03m\"\"\"\u001B[39;00m\n\u001B[0;32m    560\u001B[0m \u001B[38;5;28;01mif\u001B[39;00m \u001B[38;5;28mlen\u001B[39m(data) \u001B[38;5;241m!=\u001B[39m \u001B[38;5;28mlen\u001B[39m(index):\n\u001B[1;32m--> 561\u001B[0m     \u001B[38;5;28;01mraise\u001B[39;00m \u001B[38;5;167;01mValueError\u001B[39;00m(\n\u001B[0;32m    562\u001B[0m         \u001B[38;5;124m\"\u001B[39m\u001B[38;5;124mLength of values \u001B[39m\u001B[38;5;124m\"\u001B[39m\n\u001B[0;32m    563\u001B[0m         \u001B[38;5;124mf\u001B[39m\u001B[38;5;124m\"\u001B[39m\u001B[38;5;124m(\u001B[39m\u001B[38;5;132;01m{\u001B[39;00m\u001B[38;5;28mlen\u001B[39m(data)\u001B[38;5;132;01m}\u001B[39;00m\u001B[38;5;124m) \u001B[39m\u001B[38;5;124m\"\u001B[39m\n\u001B[0;32m    564\u001B[0m         \u001B[38;5;124m\"\u001B[39m\u001B[38;5;124mdoes not match length of index \u001B[39m\u001B[38;5;124m\"\u001B[39m\n\u001B[0;32m    565\u001B[0m         \u001B[38;5;124mf\u001B[39m\u001B[38;5;124m\"\u001B[39m\u001B[38;5;124m(\u001B[39m\u001B[38;5;132;01m{\u001B[39;00m\u001B[38;5;28mlen\u001B[39m(index)\u001B[38;5;132;01m}\u001B[39;00m\u001B[38;5;124m)\u001B[39m\u001B[38;5;124m\"\u001B[39m\n\u001B[0;32m    566\u001B[0m     )\n",
      "\u001B[1;31mValueError\u001B[0m: Length of values (15) does not match length of index (1)"
     ]
    }
   ],
   "source": [
    "#Questo codice aiuta ad identificare i valori anomali nel dataset. \n",
    "\n",
    "# Aggiungi i residui al DataFrame originali\n",
    "df_with_residui = X_test.copy()\n",
    "df_with_residui['Residui'] = errore\n",
    "\n",
    "print(df_with_residui.size())\n",
    "print(errore.size())\n",
    "\n",
    "# Osservazioni sottostimate (residui negativi)\n",
    "sottostimate = df_with_residui[df_with_residui['Residui'] < 0]\n",
    "\n",
    "# Osservazioni sovrastimate (residui positivi)\n",
    "sovrastimate = df_with_residui[df_with_residui['Residui'] > 0]\n",
    "\n",
    "# Visualizza le prime righe delle osservazioni sottostimate\n",
    "print(\"Osservazioni sottostimate:\")\n",
    "print(sottostimate.head())\n",
    "\n",
    "# Visualizza le prime righe delle osservazioni sovrastimate\n",
    "print(\"\\nOsservazioni sovrastimate:\")\n",
    "print(sovrastimate.head())\n"
   ],
   "metadata": {
    "collapsed": false,
    "ExecuteTime": {
     "end_time": "2023-11-23T11:26:52.765140400Z",
     "start_time": "2023-11-23T11:26:52.501886300Z"
    }
   },
   "id": "bb1d57e9812a2302"
  },
  {
   "cell_type": "code",
   "execution_count": 17,
   "outputs": [
    {
     "name": "stdout",
     "output_type": "stream",
     "text": [
      "Modello salvato come 'RandomForestRegressor_Permeability.pkl'\n"
     ]
    }
   ],
   "source": [
    "# salvare il modello allenato di XGBoost\n",
    "import pickle\n",
    "\n",
    "# Salva il modello su disco\n",
    "with open('RandomForestRegressor_Permeability.pkl', 'wb') as model_file:\n",
    "    pickle.dump(best_model, model_file)\n",
    "\n",
    "print(\"Modello salvato come 'RandomForestRegressor_Permeability.pkl'\")\n",
    "##################################################################\n",
    "\n",
    "# Carica il modello salvato\n",
    "import pickle\n",
    "with open('RandomForestRegressor_Permeability.pkl', 'rb') as model_file:\n",
    "    loaded_model_RFR_Perm = pickle.load(model_file)"
   ],
   "metadata": {
    "collapsed": false,
    "ExecuteTime": {
     "end_time": "2023-11-12T12:07:37.414924200Z",
     "start_time": "2023-11-12T12:07:37.387444700Z"
    }
   },
   "id": "651d1353fcdc867"
  },
  {
   "cell_type": "code",
   "execution_count": 87,
   "outputs": [
    {
     "name": "stderr",
     "output_type": "stream",
     "text": [
      "Testing Algorithms:   0%|          | 0/10 [00:00<?, ?it/s]C:\\Users\\Utente\\Desktop\\Loris_WorkSpace\\Permeability_Eval_AI\\venv\\Lib\\site-packages\\sklearn\\base.py:1152: DataConversionWarning: A column-vector y was passed when a 1d array was expected. Please change the shape of y to (n_samples,), for example using ravel().\n",
      "  return fit_method(estimator, *args, **kwargs)\n",
      "Testing Algorithms:  50%|█████     | 5/10 [00:00<00:00, 24.62it/s]C:\\Users\\Utente\\Desktop\\Loris_WorkSpace\\Permeability_Eval_AI\\venv\\Lib\\site-packages\\sklearn\\utils\\validation.py:1183: DataConversionWarning: A column-vector y was passed when a 1d array was expected. Please change the shape of y to (n_samples, ), for example using ravel().\n",
      "  y = column_or_1d(y, warn=True)\n",
      "C:\\Users\\Utente\\Desktop\\Loris_WorkSpace\\Permeability_Eval_AI\\venv\\Lib\\site-packages\\sklearn\\neural_network\\_multilayer_perceptron.py:1625: DataConversionWarning: A column-vector y was passed when a 1d array was expected. Please change the shape of y to (n_samples, ), for example using ravel().\n",
      "  y = column_or_1d(y, warn=True)\n",
      "Testing Algorithms: 100%|██████████| 10/10 [00:00<00:00, 33.30it/s]"
     ]
    },
    {
     "name": "stdout",
     "output_type": "stream",
     "text": [
      "[LightGBM] [Warning] There are no meaningful features which satisfy the provided configuration. Decreasing Dataset parameters min_data_in_bin or min_data_in_leaf and re-constructing Dataset might resolve this warning.\n",
      "[LightGBM] [Info] Total Bins 0\n",
      "[LightGBM] [Info] Number of data points in the train set: 33, number of used features: 0\n",
      "[LightGBM] [Info] Start training from score 0.085160\n",
      "[LightGBM] [Warning] Stopped training because there are no more leaves that meet the split requirements\n",
      "[LightGBM] [Warning] Stopped training because there are no more leaves that meet the split requirements\n",
      "[LightGBM] [Warning] Stopped training because there are no more leaves that meet the split requirements\n",
      "[LightGBM] [Warning] Stopped training because there are no more leaves that meet the split requirements\n",
      "[LightGBM] [Warning] Stopped training because there are no more leaves that meet the split requirements\n",
      "[LightGBM] [Warning] Stopped training because there are no more leaves that meet the split requirements\n",
      "[LightGBM] [Warning] Stopped training because there are no more leaves that meet the split requirements\n",
      "[LightGBM] [Warning] Stopped training because there are no more leaves that meet the split requirements\n",
      "[LightGBM] [Warning] Stopped training because there are no more leaves that meet the split requirements\n",
      "[LightGBM] [Warning] Stopped training because there are no more leaves that meet the split requirements\n",
      "[LightGBM] [Warning] Stopped training because there are no more leaves that meet the split requirements\n",
      "[LightGBM] [Warning] Stopped training because there are no more leaves that meet the split requirements\n",
      "[LightGBM] [Warning] Stopped training because there are no more leaves that meet the split requirements\n",
      "[LightGBM] [Warning] Stopped training because there are no more leaves that meet the split requirements\n",
      "[LightGBM] [Warning] Stopped training because there are no more leaves that meet the split requirements\n",
      "[LightGBM] [Warning] Stopped training because there are no more leaves that meet the split requirements\n",
      "[LightGBM] [Warning] Stopped training because there are no more leaves that meet the split requirements\n",
      "[LightGBM] [Warning] Stopped training because there are no more leaves that meet the split requirements\n",
      "[LightGBM] [Warning] Stopped training because there are no more leaves that meet the split requirements\n",
      "[LightGBM] [Warning] Stopped training because there are no more leaves that meet the split requirements\n",
      "[LightGBM] [Warning] Stopped training because there are no more leaves that meet the split requirements\n",
      "[LightGBM] [Warning] Stopped training because there are no more leaves that meet the split requirements\n",
      "[LightGBM] [Warning] Stopped training because there are no more leaves that meet the split requirements\n",
      "[LightGBM] [Warning] Stopped training because there are no more leaves that meet the split requirements\n",
      "[LightGBM] [Warning] Stopped training because there are no more leaves that meet the split requirements\n",
      "[LightGBM] [Warning] Stopped training because there are no more leaves that meet the split requirements\n",
      "[LightGBM] [Warning] Stopped training because there are no more leaves that meet the split requirements\n",
      "[LightGBM] [Warning] Stopped training because there are no more leaves that meet the split requirements\n",
      "[LightGBM] [Warning] Stopped training because there are no more leaves that meet the split requirements\n",
      "[LightGBM] [Warning] Stopped training because there are no more leaves that meet the split requirements\n",
      "[LightGBM] [Warning] Stopped training because there are no more leaves that meet the split requirements\n",
      "[LightGBM] [Warning] Stopped training because there are no more leaves that meet the split requirements\n",
      "[LightGBM] [Warning] Stopped training because there are no more leaves that meet the split requirements\n",
      "[LightGBM] [Warning] Stopped training because there are no more leaves that meet the split requirements\n",
      "[LightGBM] [Warning] Stopped training because there are no more leaves that meet the split requirements\n",
      "[LightGBM] [Warning] Stopped training because there are no more leaves that meet the split requirements\n",
      "[LightGBM] [Warning] Stopped training because there are no more leaves that meet the split requirements\n",
      "[LightGBM] [Warning] Stopped training because there are no more leaves that meet the split requirements\n",
      "[LightGBM] [Warning] Stopped training because there are no more leaves that meet the split requirements\n",
      "[LightGBM] [Warning] Stopped training because there are no more leaves that meet the split requirements\n",
      "[LightGBM] [Warning] Stopped training because there are no more leaves that meet the split requirements\n",
      "[LightGBM] [Warning] Stopped training because there are no more leaves that meet the split requirements\n",
      "[LightGBM] [Warning] Stopped training because there are no more leaves that meet the split requirements\n",
      "[LightGBM] [Warning] Stopped training because there are no more leaves that meet the split requirements\n",
      "[LightGBM] [Warning] Stopped training because there are no more leaves that meet the split requirements\n",
      "[LightGBM] [Warning] Stopped training because there are no more leaves that meet the split requirements\n",
      "[LightGBM] [Warning] Stopped training because there are no more leaves that meet the split requirements\n",
      "[LightGBM] [Warning] Stopped training because there are no more leaves that meet the split requirements\n",
      "[LightGBM] [Warning] Stopped training because there are no more leaves that meet the split requirements\n",
      "[LightGBM] [Warning] Stopped training because there are no more leaves that meet the split requirements\n",
      "[LightGBM] [Warning] Stopped training because there are no more leaves that meet the split requirements\n",
      "[LightGBM] [Warning] Stopped training because there are no more leaves that meet the split requirements\n",
      "[LightGBM] [Warning] Stopped training because there are no more leaves that meet the split requirements\n",
      "[LightGBM] [Warning] Stopped training because there are no more leaves that meet the split requirements\n",
      "[LightGBM] [Warning] Stopped training because there are no more leaves that meet the split requirements\n",
      "[LightGBM] [Warning] Stopped training because there are no more leaves that meet the split requirements\n",
      "[LightGBM] [Warning] Stopped training because there are no more leaves that meet the split requirements\n",
      "[LightGBM] [Warning] Stopped training because there are no more leaves that meet the split requirements\n",
      "[LightGBM] [Warning] Stopped training because there are no more leaves that meet the split requirements\n",
      "[LightGBM] [Warning] Stopped training because there are no more leaves that meet the split requirements\n",
      "[LightGBM] [Warning] Stopped training because there are no more leaves that meet the split requirements\n",
      "[LightGBM] [Warning] Stopped training because there are no more leaves that meet the split requirements\n",
      "[LightGBM] [Warning] Stopped training because there are no more leaves that meet the split requirements\n",
      "[LightGBM] [Warning] Stopped training because there are no more leaves that meet the split requirements\n",
      "[LightGBM] [Warning] Stopped training because there are no more leaves that meet the split requirements\n",
      "[LightGBM] [Warning] Stopped training because there are no more leaves that meet the split requirements\n",
      "[LightGBM] [Warning] Stopped training because there are no more leaves that meet the split requirements\n",
      "[LightGBM] [Warning] Stopped training because there are no more leaves that meet the split requirements\n",
      "[LightGBM] [Warning] Stopped training because there are no more leaves that meet the split requirements\n",
      "[LightGBM] [Warning] Stopped training because there are no more leaves that meet the split requirements\n",
      "[LightGBM] [Warning] Stopped training because there are no more leaves that meet the split requirements\n",
      "[LightGBM] [Warning] Stopped training because there are no more leaves that meet the split requirements\n",
      "[LightGBM] [Warning] Stopped training because there are no more leaves that meet the split requirements\n",
      "[LightGBM] [Warning] Stopped training because there are no more leaves that meet the split requirements\n",
      "[LightGBM] [Warning] Stopped training because there are no more leaves that meet the split requirements\n",
      "[LightGBM] [Warning] Stopped training because there are no more leaves that meet the split requirements\n",
      "[LightGBM] [Warning] Stopped training because there are no more leaves that meet the split requirements\n",
      "[LightGBM] [Warning] Stopped training because there are no more leaves that meet the split requirements\n",
      "[LightGBM] [Warning] Stopped training because there are no more leaves that meet the split requirements\n",
      "[LightGBM] [Warning] Stopped training because there are no more leaves that meet the split requirements\n",
      "[LightGBM] [Warning] Stopped training because there are no more leaves that meet the split requirements\n",
      "[LightGBM] [Warning] Stopped training because there are no more leaves that meet the split requirements\n",
      "[LightGBM] [Warning] Stopped training because there are no more leaves that meet the split requirements\n",
      "[LightGBM] [Warning] Stopped training because there are no more leaves that meet the split requirements\n",
      "[LightGBM] [Warning] Stopped training because there are no more leaves that meet the split requirements\n",
      "[LightGBM] [Warning] Stopped training because there are no more leaves that meet the split requirements\n",
      "[LightGBM] [Warning] Stopped training because there are no more leaves that meet the split requirements\n",
      "[LightGBM] [Warning] Stopped training because there are no more leaves that meet the split requirements\n",
      "[LightGBM] [Warning] Stopped training because there are no more leaves that meet the split requirements\n",
      "[LightGBM] [Warning] Stopped training because there are no more leaves that meet the split requirements\n",
      "[LightGBM] [Warning] Stopped training because there are no more leaves that meet the split requirements\n",
      "[LightGBM] [Warning] Stopped training because there are no more leaves that meet the split requirements\n",
      "[LightGBM] [Warning] Stopped training because there are no more leaves that meet the split requirements\n",
      "[LightGBM] [Warning] Stopped training because there are no more leaves that meet the split requirements\n",
      "[LightGBM] [Warning] Stopped training because there are no more leaves that meet the split requirements\n",
      "[LightGBM] [Warning] Stopped training because there are no more leaves that meet the split requirements\n",
      "[LightGBM] [Warning] Stopped training because there are no more leaves that meet the split requirements\n",
      "[LightGBM] [Warning] Stopped training because there are no more leaves that meet the split requirements\n",
      "[LightGBM] [Warning] Stopped training because there are no more leaves that meet the split requirements\n",
      "[LightGBM] [Warning] Stopped training because there are no more leaves that meet the split requirements\n"
     ]
    },
    {
     "name": "stderr",
     "output_type": "stream",
     "text": [
      "\n"
     ]
    }
   ],
   "source": [
    "\n",
    "from sklearn.model_selection import train_test_split\n",
    "\n",
    "\n",
    "# Suddivisione del dataset in set di addestramento e test\n",
    "\n",
    "X_train, X_test, y_train, y_test = train_test_split(features_X, targets_X, test_size=0.3, random_state=42)\n",
    "from sklearn.linear_model import LinearRegression, Ridge, Lasso\n",
    "from sklearn.tree import DecisionTreeRegressor\n",
    "from sklearn.ensemble import RandomForestRegressor\n",
    "from sklearn.svm import SVR\n",
    "from sklearn.gaussian_process import GaussianProcessRegressor\n",
    "from sklearn.neural_network import MLPRegressor\n",
    "from xgboost import XGBRegressor\n",
    "from lightgbm import LGBMRegressor\n",
    "from sklearn.metrics import mean_squared_error\n",
    "import numpy as np\n",
    "import time\n",
    "from tqdm import tqdm\n",
    "\n",
    "# Lista degli algoritmi da testare\n",
    "algorithms = [\n",
    "    (\"Linear Regression\", LinearRegression()),\n",
    "    (\"Ridge Regression\", Ridge()),\n",
    "    (\"Lasso Regression\", Lasso()),\n",
    "    (\"Decision Tree Regressor\", DecisionTreeRegressor()),\n",
    "    (\"Random Forest Regressor\", RandomForestRegressor()),\n",
    "    (\"SVR\", SVR()),\n",
    "    (\"Gaussian Process Regressor\", GaussianProcessRegressor()),\n",
    "    (\"MLP Regressor\", MLPRegressor()),\n",
    "    (\"XGBoost Regressor\", XGBRegressor()),\n",
    "    (\"LGBM Regressor\", LGBMRegressor()),\n",
    "]\n",
    "\n",
    "# Definisci un dizionario per raccogliere i risultati\n",
    "results_dict = {\n",
    "    \"Model\": [],\n",
    "    \"Training RMSE\": [],\n",
    "    \"Training MSE\": [],\n",
    "    \"Training R^2\": [],\n",
    "    \"Test RMSE\": [],\n",
    "    \"Test MSE\": [],\n",
    "    \"Test R^2\": [],\n",
    "    \"Training Time (s)\": []\n",
    "}\n",
    "\n",
    "# Ciclo attraverso gli algoritmi e addestra/valuta ciascuno\n",
    "for name, model in tqdm(algorithms, desc=\"Testing Algorithms\"):\n",
    "    \n",
    "    # Misura il tempo di inizio dell'allenamento\n",
    "    start_time = time.time()\n",
    "\n",
    "    # Addestramento del modello\n",
    "    model.fit(X_train, y_train)\n",
    "\n",
    "    # Calcola il tempo di fine dell'allenamento\n",
    "    end_time = time.time()\n",
    "    \n",
    "    # Calcola il tempo totale di addestramento\n",
    "    training_time = end_time - start_time   \n",
    "\n",
    "    # Valutazione del modello sui dati di addestramento\n",
    "    y_train_pred = model.predict(X_train)\n",
    "    mse_train = mean_squared_error(y_train, y_train_pred)\n",
    "    rmse_train = np.sqrt(mse_train)\n",
    "    r2_train = model.score(X_train, y_train)\n",
    "\n",
    "    # Valutazione del modello sui dati di test\n",
    "    y_test_pred = model.predict(X_test)\n",
    "    mse_test = mean_squared_error(y_test, y_test_pred)\n",
    "    rmse_test = np.sqrt(mse_test)\n",
    "    r2_test = model.score(X_test, y_test)\n",
    "\n",
    "    # Aggiungi i risultati al dizionario\n",
    "    results_dict[\"Model\"].append(name)\n",
    "    results_dict[\"Training RMSE\"].append(rmse_train)\n",
    "    results_dict[\"Training MSE\"].append(mse_train)\n",
    "    results_dict[\"Training R^2\"].append(r2_train)\n",
    "    results_dict[\"Test RMSE\"].append(rmse_test)\n",
    "    results_dict[\"Test MSE\"].append(mse_test)\n",
    "    results_dict[\"Test R^2\"].append(r2_test)\n",
    "    results_dict[\"Training Time (s)\"].append(training_time)\n",
    "\n",
    "# Crea un DataFrame da results_dict\n",
    "risultati_alle_mod_K = pd.DataFrame(results_dict)\n",
    "# Esporta il DataFrame in un file Excel\n",
    "risultati_alle_mod_K.to_excel('risultati_alle_mod_K.xlsx', index=False)"
   ],
   "metadata": {
    "collapsed": false,
    "ExecuteTime": {
     "end_time": "2023-11-16T17:49:47.394423400Z",
     "start_time": "2023-11-16T17:49:47.040755Z"
    }
   },
   "id": "bb8debc8adbfc588"
  },
  {
   "cell_type": "markdown",
   "source": [],
   "metadata": {
    "collapsed": false
   },
   "id": "9564d6a60409c6f8"
  },
  {
   "cell_type": "code",
   "execution_count": null,
   "outputs": [],
   "source": [
    "#Utilizzo il modello per fare previsioni\n",
    "#Prendo un esempio dal dataset\n",
    "example = df_imputed.iloc[0]\n",
    "\n",
    "#Prendo solo le features\n",
    "example = example.drop(['kx', 'ky', 'kz'])\n",
    "\n",
    "#Prendo solo i valori\n",
    "example = example.values.reshape(1, -1)\n",
    "\n",
    "#Prendo le previsioni\n",
    "prediction = model_kx.predict(example)\n",
    "\n",
    "#Stampo le previsioni\n",
    "print(f\"Previsioni: {prediction}\")\n"
   ],
   "metadata": {
    "collapsed": false,
    "ExecuteTime": {
     "start_time": "2023-11-08T17:06:52.328470500Z"
    }
   },
   "id": "e41a6146a51992aa"
  },
  {
   "cell_type": "code",
   "execution_count": null,
   "outputs": [],
   "source": [],
   "metadata": {
    "collapsed": false,
    "ExecuteTime": {
     "start_time": "2023-11-08T17:06:52.329467800Z"
    }
   },
   "id": "7628bb74946fa984"
  }
 ],
 "metadata": {
  "kernelspec": {
   "display_name": "Python 3",
   "language": "python",
   "name": "python3"
  },
  "language_info": {
   "codemirror_mode": {
    "name": "ipython",
    "version": 2
   },
   "file_extension": ".py",
   "mimetype": "text/x-python",
   "name": "python",
   "nbconvert_exporter": "python",
   "pygments_lexer": "ipython2",
   "version": "2.7.6"
  }
 },
 "nbformat": 4,
 "nbformat_minor": 5
}
