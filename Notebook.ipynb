{
 "cells": [
  {
   "cell_type": "code",
   "execution_count": 2,
   "outputs": [
    {
     "name": "stdout",
     "output_type": "stream",
     "text": [
      "    Porosity     SSA      Ech  Tortuosity          k_m2\n",
      "0      0.137   5.065  -25.849      2.0340  1.473350e-12\n",
      "1      0.147   5.253  -31.002      2.6650  2.254724e-12\n",
      "2      0.131   4.697  -20.047      2.1090  9.543177e-12\n",
      "3      0.115   5.583  -50.613      4.1830  9.664920e-13\n",
      "4      0.139   7.447 -136.737      2.5950  9.180783e-13\n",
      "5      0.115   5.311  -32.907      4.1010  1.435774e-12\n",
      "6      0.134   6.990 -115.218      2.7740  4.010302e-13\n",
      "7      0.138   7.132 -110.411      2.7790  3.937021e-12\n",
      "8      0.116   5.290  -39.748      3.8680  1.933907e-12\n",
      "9      0.020   0.791   -3.948      3.1000  3.021802e-13\n",
      "10     0.020   0.806   -2.017      2.9000  3.190436e-13\n",
      "11     0.273   7.721 -102.424      1.7170  5.516051e-11\n",
      "12     0.250   6.870  -76.478      1.3530  3.822390e-11\n",
      "13     0.265   7.560  -95.050      1.5730  5.275967e-11\n",
      "14     0.250   7.353 -152.126      1.3400  2.009570e-11\n",
      "15     0.281   8.363 -258.282      1.3720  1.319490e-10\n",
      "16     0.297   9.123 -362.849      1.6750  8.289540e-11\n",
      "17     0.075   4.747 -130.705      2.6210  3.390944e-13\n",
      "18     0.079   5.065 -156.334      3.2380  2.066877e-13\n",
      "19     0.075   4.747 -130.705      3.0175  3.390944e-13\n",
      "20     0.079   5.065 -156.334      3.7225  2.066877e-13\n",
      "21     0.062   4.227 -132.907      3.4140  5.531944e-13\n",
      "22     0.066   4.532 -162.178      4.2070  2.456179e-14\n",
      "23     0.151   7.652 -124.943      3.3133  7.811227e-13\n",
      "24     0.151   7.653 -132.984      3.3900  1.235315e-12\n",
      "25     0.148   7.510 -121.665      3.8000  5.429843e-13\n",
      "26     0.136  10.267 -202.056      3.0870  2.933715e-13\n",
      "27     0.137  10.300 -202.989      2.7950  4.255505e-13\n",
      "28     0.124   9.292 -160.839      3.5850  7.133022e-13\n",
      "29     0.136  10.267 -202.056      3.0870  2.933715e-13\n",
      "30     0.137  10.300 -202.989      2.7950  4.255505e-13\n",
      "31     0.124   9.292 -160.839      3.5850  7.133022e-13\n",
      "32     0.098   8.080 -132.730      3.3400  1.767209e-13\n",
      "33     0.108   8.765 -160.656      3.6090  2.211503e-13\n",
      "34     0.103   8.463 -161.984      4.3490  1.739540e-13\n",
      "35     0.129  10.246 -216.625      3.3400  8.270667e-13\n",
      "36     0.125   9.798 -192.679      4.3490  9.647262e-13\n",
      "37     0.104   6.047  -71.467      4.0070  5.697167e-13\n",
      "38     0.098   5.923  -70.632      2.8180  3.235189e-13\n",
      "39     0.096   5.808  -68.413      3.6460  8.485641e-14\n",
      "40     0.092   5.414  -53.370      4.2200  4.966167e-13\n",
      "41     0.093   5.443  -53.168      4.2260  1.459741e-12\n",
      "42     0.092   5.425  -53.456      4.2200  5.462786e-13\n",
      "43     0.077   4.215  -43.860      4.2780  2.564176e-13\n",
      "44     0.076   4.240  -44.725      4.0340  1.021321e-12\n",
      "45     0.073   4.035  -39.278      4.4590  5.362540e-13\n",
      "46     0.026   1.209  -13.631      2.8210  1.924009e-13\n",
      "47     0.043   2.511  -28.011      3.6000  0.000000e+00\n",
      "48     0.041   2.340  -18.740      3.6040  8.750106e-13\n",
      "49     0.042   2.434  -27.463      3.6000  3.461632e-13\n"
     ]
    }
   ],
   "source": [
    "import numpy as num\n",
    "\n",
    "#TODO: provare nel branch principale il dataset che riprende tutto in tre dimensione x y z\n",
    "\n",
    "\n",
    "# import openpyxl\n",
    "# \n",
    "# try:\n",
    "#     workbook = openpyxl.load_workbook(\"dataset/Graphs_August_ADWR_cleaned.xlsx\")\n",
    "#     sheet = workbook.active\n",
    "#     # Fai qualcosa con il tuo foglio Excel\n",
    "# except FileNotFoundError:\n",
    "#     print(\"Il file non è stato trovato.\")\n",
    "# except Exception as e:\n",
    "#     print(f\"Si è verificato un errore: {e}\")\n",
    "# \n",
    "\n",
    "import pandas as pd\n",
    "from pandas import DataFrame\n",
    "\n",
    "try:\n",
    "# Carica il tuo file XLSX\n",
    "    xlsx_file = 'dataset/Data.xlsx'  # Sostituisci con il percorso del tuo file\n",
    "\n",
    "# Leggi i dati dal file XLSX e crea un DataFrame\n",
    "    df: DataFrame = pd.read_excel(xlsx_file)\n",
    "\n",
    "# Ora hai un DataFrame con tutti i dati dal tuo file XLSX che puoi utilizzare per l'analisi.\n",
    "except FileNotFoundError as e:\n",
    "    print(\"Il file non è stato trovato.\")\n",
    "# except Exception as e:\n",
    "    print(f\"Si è verificato un errore: {e}\")                                                          \n",
    "    \n",
    "k2_max = df['k_m2'].max()\n",
    "k2_min = df['k_m2'].min()\n",
    "print(df)\n"
   ],
   "metadata": {
    "collapsed": false,
    "ExecuteTime": {
     "end_time": "2023-11-15T12:07:58.325879700Z",
     "start_time": "2023-11-15T12:07:57.969569500Z"
    }
   },
   "id": "8c9606e282a2fd88"
  },
  {
   "cell_type": "code",
   "execution_count": 3,
   "outputs": [
    {
     "data": {
      "text/plain": "       Porosity        SSA         Ech  Tortuosity          k_m2\ncount  50.00000  50.000000   50.000000   50.000000  5.000000e+01\nmean    0.12048   6.253340 -108.942340    3.206306  8.414681e-12\nstd     0.06590   2.550559   75.644798    0.869853  2.414520e-11\nmin     0.02000   0.791000 -362.849000    1.340000  0.000000e+00\n25%     0.07750   4.747000 -159.575500    2.783000  3.063961e-13\n50%     0.11500   5.865500 -112.814500    3.340000  5.497365e-13\n75%     0.13700   7.990250  -44.076250    3.851000  1.385659e-12\nmax     0.29700  10.300000   -2.017000    4.459000  1.319490e-10",
      "text/html": "<div>\n<style scoped>\n    .dataframe tbody tr th:only-of-type {\n        vertical-align: middle;\n    }\n\n    .dataframe tbody tr th {\n        vertical-align: top;\n    }\n\n    .dataframe thead th {\n        text-align: right;\n    }\n</style>\n<table border=\"1\" class=\"dataframe\">\n  <thead>\n    <tr style=\"text-align: right;\">\n      <th></th>\n      <th>Porosity</th>\n      <th>SSA</th>\n      <th>Ech</th>\n      <th>Tortuosity</th>\n      <th>k_m2</th>\n    </tr>\n  </thead>\n  <tbody>\n    <tr>\n      <th>count</th>\n      <td>50.00000</td>\n      <td>50.000000</td>\n      <td>50.000000</td>\n      <td>50.000000</td>\n      <td>5.000000e+01</td>\n    </tr>\n    <tr>\n      <th>mean</th>\n      <td>0.12048</td>\n      <td>6.253340</td>\n      <td>-108.942340</td>\n      <td>3.206306</td>\n      <td>8.414681e-12</td>\n    </tr>\n    <tr>\n      <th>std</th>\n      <td>0.06590</td>\n      <td>2.550559</td>\n      <td>75.644798</td>\n      <td>0.869853</td>\n      <td>2.414520e-11</td>\n    </tr>\n    <tr>\n      <th>min</th>\n      <td>0.02000</td>\n      <td>0.791000</td>\n      <td>-362.849000</td>\n      <td>1.340000</td>\n      <td>0.000000e+00</td>\n    </tr>\n    <tr>\n      <th>25%</th>\n      <td>0.07750</td>\n      <td>4.747000</td>\n      <td>-159.575500</td>\n      <td>2.783000</td>\n      <td>3.063961e-13</td>\n    </tr>\n    <tr>\n      <th>50%</th>\n      <td>0.11500</td>\n      <td>5.865500</td>\n      <td>-112.814500</td>\n      <td>3.340000</td>\n      <td>5.497365e-13</td>\n    </tr>\n    <tr>\n      <th>75%</th>\n      <td>0.13700</td>\n      <td>7.990250</td>\n      <td>-44.076250</td>\n      <td>3.851000</td>\n      <td>1.385659e-12</td>\n    </tr>\n    <tr>\n      <th>max</th>\n      <td>0.29700</td>\n      <td>10.300000</td>\n      <td>-2.017000</td>\n      <td>4.459000</td>\n      <td>1.319490e-10</td>\n    </tr>\n  </tbody>\n</table>\n</div>"
     },
     "execution_count": 3,
     "metadata": {},
     "output_type": "execute_result"
    }
   ],
   "source": [
    "df.describe()\n"
   ],
   "metadata": {
    "collapsed": false,
    "ExecuteTime": {
     "end_time": "2023-11-15T12:08:06.715615900Z",
     "start_time": "2023-11-15T12:08:06.697767600Z"
    }
   },
   "id": "811090587197d416"
  },
  {
   "cell_type": "code",
   "execution_count": 4,
   "outputs": [
    {
     "data": {
      "text/plain": "        Porosity        SSA        Ech  Tortuosity       k_m2\ncount  50.000000  50.000000  50.000000   50.000000  50.000000\nmean    0.362744   0.574439   0.703670    0.598367   0.063772\nstd     0.237907   0.268226   0.209640    0.278889   0.182989\nmin     0.000000   0.000000   0.000000    0.000000   0.000000\n25%     0.207581   0.416027   0.563347    0.462648   0.002322\n50%     0.342960   0.533652   0.692939    0.641231   0.004166\n75%     0.422383   0.757099   0.883438    0.805066   0.010501\nmax     1.000000   1.000000   1.000000    1.000000   1.000000",
      "text/html": "<div>\n<style scoped>\n    .dataframe tbody tr th:only-of-type {\n        vertical-align: middle;\n    }\n\n    .dataframe tbody tr th {\n        vertical-align: top;\n    }\n\n    .dataframe thead th {\n        text-align: right;\n    }\n</style>\n<table border=\"1\" class=\"dataframe\">\n  <thead>\n    <tr style=\"text-align: right;\">\n      <th></th>\n      <th>Porosity</th>\n      <th>SSA</th>\n      <th>Ech</th>\n      <th>Tortuosity</th>\n      <th>k_m2</th>\n    </tr>\n  </thead>\n  <tbody>\n    <tr>\n      <th>count</th>\n      <td>50.000000</td>\n      <td>50.000000</td>\n      <td>50.000000</td>\n      <td>50.000000</td>\n      <td>50.000000</td>\n    </tr>\n    <tr>\n      <th>mean</th>\n      <td>0.362744</td>\n      <td>0.574439</td>\n      <td>0.703670</td>\n      <td>0.598367</td>\n      <td>0.063772</td>\n    </tr>\n    <tr>\n      <th>std</th>\n      <td>0.237907</td>\n      <td>0.268226</td>\n      <td>0.209640</td>\n      <td>0.278889</td>\n      <td>0.182989</td>\n    </tr>\n    <tr>\n      <th>min</th>\n      <td>0.000000</td>\n      <td>0.000000</td>\n      <td>0.000000</td>\n      <td>0.000000</td>\n      <td>0.000000</td>\n    </tr>\n    <tr>\n      <th>25%</th>\n      <td>0.207581</td>\n      <td>0.416027</td>\n      <td>0.563347</td>\n      <td>0.462648</td>\n      <td>0.002322</td>\n    </tr>\n    <tr>\n      <th>50%</th>\n      <td>0.342960</td>\n      <td>0.533652</td>\n      <td>0.692939</td>\n      <td>0.641231</td>\n      <td>0.004166</td>\n    </tr>\n    <tr>\n      <th>75%</th>\n      <td>0.422383</td>\n      <td>0.757099</td>\n      <td>0.883438</td>\n      <td>0.805066</td>\n      <td>0.010501</td>\n    </tr>\n    <tr>\n      <th>max</th>\n      <td>1.000000</td>\n      <td>1.000000</td>\n      <td>1.000000</td>\n      <td>1.000000</td>\n      <td>1.000000</td>\n    </tr>\n  </tbody>\n</table>\n</div>"
     },
     "execution_count": 4,
     "metadata": {},
     "output_type": "execute_result"
    }
   ],
   "source": [
    "from sklearn.metrics import mean_squared_error\n",
    "from sklearn.model_selection import train_test_split\n",
    "from sklearn.linear_model import LinearRegression\n",
    "from sklearn.preprocessing import StandardScaler, MinMaxScaler\n",
    "from sklearn.ensemble import RandomForestRegressor\n",
    "import matplotlib.pyplot as plt\n",
    "import numpy as np\n",
    "from numpy import real\n",
    "\n",
    "\n",
    "#Standardizza i dati con lo scaler\n",
    "scaler = MinMaxScaler()  \n",
    "\n",
    "scaled_data = scaler.fit_transform(df)\n",
    "\n",
    "df_scaled = pd.DataFrame(scaled_data, columns=df.columns)\n",
    "\n",
    "df_scaled.describe()"
   ],
   "metadata": {
    "collapsed": false,
    "ExecuteTime": {
     "end_time": "2023-11-15T12:08:10.583892700Z",
     "start_time": "2023-11-15T12:08:08.166598800Z"
    }
   },
   "id": "741d2a5e82bc4343"
  },
  {
   "cell_type": "code",
   "execution_count": 5,
   "outputs": [
    {
     "data": {
      "text/plain": "<Figure size 600x600 with 1 Axes>",
      "image/png": "[encoded data removed]"
     },
     "metadata": {},
     "output_type": "display_data"
    }
   ],
   "source": [
    "# In questo esempio, consideriamo k sia la colonna target\n",
    "features_X = df_scaled.drop(['k_m2'], axis=1)  # Colonne features\n",
    "targets_X = df_scaled[['k_m2']]  # Colonne target\n",
    "\n",
    "# Suddivisione del dataset in set di addestramento e test\n",
    "\n",
    "#TODO provare con 0.7 - 30  o  0.7 - 20\n",
    "X_train, X_test, y_train, y_test = train_test_split(features_X, targets_X, test_size=0.3, random_state=42)\n",
    "# \n",
    "# classifiers = {\n",
    "#     'Decision Tree': DecisionTreeClassifier(),\n",
    "#     'Random Forest': RandomForestClassifier(),\n",
    "#     'Support Vector Machine': SVC(),\n",
    "# }  # Lista dei modelli di classificazione\n",
    "\n",
    "regressor =  RandomForestRegressor()\n",
    "regressor. fit(X_train, y_train.values.ravel())\n",
    "predict_k = regressor. predict(X_test)\n",
    "mse_k = mean_squared_error(y_test, predict_k)\n",
    "\n",
    "# Real vs. Predicted Values\n",
    "plt.figure(figsize=(6, 6))\n",
    "plt.scatter(y_test, predict_k)\n",
    "# inserisci una linea bisettrice che rappresenta landamento ottimale dei valori\n",
    "plt.plot([y_test.min(), y_test.max()], [y_test.min(), y_test.max()], 'k--', lw=4)\n",
    "plt.xlabel('Real Values')\n",
    "plt.ylabel('Predicted Values')\n",
    "plt.title('Real vs. Predicted Values')\n",
    "plt.grid(True)\n",
    "plt.show()\n",
    "#Itera sulla lista dei modelli da provare\n",
    "# for name, classifier in classifiers.items():\n",
    "#         #Addestro il modello\n",
    "#     classifier.fit(features_X_train, targets_X_train)\n",
    "#     #Calcolo l'accuratezza del modello\n",
    "#     predict = classifier.predict(features_X_test)\n",
    "#         \n",
    "#     #Stampo i risultati\n",
    "#     print(f\"Modello: {name}\")\n",
    "# print(f'Classification Report: \\n {classification_report(targets_X_test, predict)}\\n')KNeighborsClassifier()"
   ],
   "metadata": {
    "collapsed": false,
    "ExecuteTime": {
     "end_time": "2023-11-15T12:08:11.749370500Z",
     "start_time": "2023-11-15T12:08:11.472135500Z"
    }
   },
   "id": "7bf36eff9123c949"
  },
  {
   "cell_type": "code",
   "execution_count": 6,
   "outputs": [
    {
     "data": {
      "text/plain": "(array([13.,  0.,  0.,  0.,  0.,  0.,  0.,  0.,  0.,  0.,  0.,  0.,  0.,\n         0.,  1.,  0.,  0.,  0.,  0.,  1.]),\n array([0.0006431 , 0.02060339, 0.04056369, 0.06052398, 0.08048428,\n        0.10044457, 0.12040487, 0.14036516, 0.16032545, 0.18028575,\n        0.20024604, 0.22020634, 0.24016663, 0.26012693, 0.28008722,\n        0.30004752, 0.32000781, 0.3399681 , 0.3599284 , 0.37988869,\n        0.39984899]),\n <BarContainer object of 20 artists>)"
     },
     "execution_count": 6,
     "metadata": {},
     "output_type": "execute_result"
    },
    {
     "data": {
      "text/plain": "<Figure size 640x480 with 1 Axes>",
      "image/png": "[encoded data removed]"
     },
     "metadata": {},
     "output_type": "display_data"
    }
   ],
   "source": [
    "plt.hist(y_test, bins=20)"
   ],
   "metadata": {
    "collapsed": false,
    "ExecuteTime": {
     "end_time": "2023-11-15T12:08:12.856188200Z",
     "start_time": "2023-11-15T12:08:12.772345500Z"
    }
   },
   "id": "73bf57722b2607b8"
  },
  {
   "cell_type": "code",
   "execution_count": 40,
   "outputs": [
    {
     "name": "stdout",
     "output_type": "stream",
     "text": [
      "Valore reale: 0.39984898710865563 - Valore predetto: 0.41897365862492314 \n",
      "Errore di previsione 0.01912467151626751 \n",
      "\n",
      "Valore reale: 0.0006431000613873541 - Valore predetto: 0.003880626089625539 \n",
      "Errore di previsione 0.003237526028238185 \n",
      "\n",
      "Valore reale: 0.003225113566605279 - Valore predetto: 0.00825785930018416 \n",
      "Errore di previsione 0.005032745733578881 \n",
      "\n",
      "Valore reale: 0.004064100675260896 - Valore predetto: 0.0041574645303867445 \n",
      "Errore di previsione 9.336385512584856e-05 \n",
      "\n",
      "Valore reale: 0.0025698895027624308 - Valore predetto: 0.013358307341927557 \n",
      "Errore di previsione 0.010788417839165126 \n",
      "\n",
      "Valore reale: 0.006631430325352977 - Valore predetto: 0.0034669857581338267 \n",
      "Errore di previsione 0.0031644445672191503 \n",
      "\n",
      "Valore reale: 0.0022233701657458564 - Valore predetto: 0.003659933087783921 \n",
      "Errore di previsione 0.0014365629220380646 \n",
      "\n",
      "Valore reale: 0.004115107427869859 - Valore predetto: 0.009246801473296512 \n",
      "Errore di previsione 0.005131694045426653 \n",
      "\n",
      "Valore reale: 0.0013393124616329036 - Valore predetto: 0.003077326273787601 \n",
      "Errore di previsione 0.0017380138121546975 \n",
      "\n",
      "Valore reale: 0.0025698895027624308 - Valore predetto: 0.00283216963781461 \n",
      "Errore di previsione 0.00026228013505217923 \n",
      "\n",
      "Valore reale: 0.2896869244935544 - Valore predetto: 0.3975170349294046 \n",
      "Errore di previsione 0.10783011043585022 \n",
      "\n",
      "Valore reale: 0.006957826887661142 - Valore predetto: 0.018518404358502164 \n",
      "Errore di previsione 0.011560577470841021 \n",
      "\n",
      "Valore reale: 0.004317704112952732 - Valore predetto: 0.004976216881522409 \n",
      "Errore di previsione 0.0006585127685696775 \n",
      "\n",
      "Valore reale: 0.014656476365868632 - Valore predetto: 0.008190452608962562 \n",
      "Errore di previsione 0.00646602375690607 \n"
     ]
    },
    {
     "data": {
      "text/plain": "<Figure size 640x480 with 1 Axes>",
      "image/png": "[encoded data removed]"
     },
     "metadata": {},
     "output_type": "display_data"
    }
   ],
   "source": [
    "plt.hist(predict_k, bins=20)\n",
    "\n",
    "y_ravel = y_test.values.ravel()\n",
    "\n",
    "errori_list = []\n",
    "\n",
    "for a in range(0, len(y_test) - 1):\n",
    "    errori_list.append(abs(y_ravel[a] - predict_k[a]))\n",
    "    print(f\"Valore reale: {y_ravel[a]} - Valore predetto: {predict_k[a]} \\n\"\n",
    "         f\"Errore di previsione { abs(y_ravel[a] - predict_k[a]) } \\n\")"
   ],
   "metadata": {
    "collapsed": false,
    "ExecuteTime": {
     "end_time": "2023-11-13T23:26:52.463664300Z",
     "start_time": "2023-11-13T23:26:52.292779400Z"
    }
   },
   "id": "7ffb943a1fb468b0"
  },
  {
   "cell_type": "code",
   "execution_count": 41,
   "outputs": [
    {
     "name": "stdout",
     "output_type": "stream",
     "text": [
      "Dimensioni di errori_array: (14,)\n",
      "        k_m2\n",
      "13  0.399849\n",
      "39  0.000643\n",
      "30  0.003225\n",
      "45  0.004064\n",
      "17  0.002570\n",
      "48  0.006631\n",
      "26  0.002223\n",
      "25  0.004115\n",
      "32  0.001339\n",
      "19  0.002570\n",
      "12  0.289687\n",
      "4   0.006958\n",
      "37  0.004318\n",
      "8   0.014656\n",
      "3   0.007325\n",
      "Residui originali: \n",
      " [2.523481281899982e-12, 4.271883219000003e-13, 6.640657667999998e-13, 1.2319267320000592e-14, 1.4235209454599993e-12, 4.175452961999997e-13, 1.895530410000006e-13, 6.771218976000015e-13, 2.293291845000002e-13, 3.4607601539999997e-14, 1.4228075241900003e-11, 1.525406636700002e-12, 8.689010130000038e-14, 8.531853686999992e-13]\n"
     ]
    }
   ],
   "source": [
    "# Supponiamo che predict_k sia il tuo array di previsioni standardizzate\n",
    "# e che scaler sia un'istanza di MinMaxScaler già addestrata sul tuo dataset originale\n",
    "\n",
    "errori_List = np.array(errori_list)\n",
    "print(\"Dimensioni di errori_array:\", errori_List.shape)\n",
    "\n",
    "# De-standardizzazione dei residui\n",
    "residui_originali = []\n",
    "print(y_test)\n",
    "for i in range(len(errori_List)):\n",
    "    residui_originali.append(\n",
    "        errori_List[i] * (k2_max - k2_min) + k2_min\n",
    "    )\n",
    "\n",
    "print(\"Residui originali: \\n\", residui_originali)\n",
    "# Ora residui_originali contiene i residui de-standardizzati\n"
   ],
   "metadata": {
    "collapsed": false,
    "ExecuteTime": {
     "end_time": "2023-11-13T23:27:06.053638700Z",
     "start_time": "2023-11-13T23:27:06.025317700Z"
    }
   },
   "id": "fd6962845159b4bf"
  },
  {
   "cell_type": "code",
   "execution_count": 46,
   "outputs": [
    {
     "name": "stdout",
     "output_type": "stream",
     "text": [
      "Best Parameters: {'criterion': 'absolute_error', 'max_features': 0.1, 'min_samples_leaf': 1, 'min_samples_split': 5, 'n_estimators': 50, 'n_jobs': -1}\n",
      "Best MSE Score: 0.024267389223930687\n",
      "Mean Squared Error: 0.0002504336532936847\n",
      "Root Mean Squared Error: 0.015825095680395893\n",
      "R^2 Score: 0.9818284079417591\n",
      "Training Time (seconds): 56.254456996917725\n"
     ]
    }
   ],
   "source": [
    "#### test iperparametri più veloce...meno valori da provare....codice funzionante e veloce!!!\n",
    "\n",
    "from sklearn.model_selection import GridSearchCV\n",
    "from sklearn.metrics import mean_squared_error\n",
    "import time\n",
    "\n",
    "# Definisci gli iperparametri da cercare\n",
    "param_grid = {\n",
    "    'n_estimators': [50],\n",
    "    'criterion': ['absolute_error', 'poisson', 'squared_error', 'friedman_mse'],\n",
    "    'max_features': [0.1, 1],\n",
    "    'n_jobs': [-1],\n",
    "    'min_samples_split': [2, 3, 5, 10],\n",
    "    'min_samples_leaf': [1, 2, 4],\n",
    "}\n",
    "\n",
    "\n",
    "# Crea un oggetto GridSearchCV per la ricerca degli iperparametri con cross-validation\n",
    "grid_search = GridSearchCV(regressor, param_grid, cv=5, scoring='neg_mean_squared_error')\n",
    "\n",
    "# Lista per tenere traccia del tempo di esecuzione di ciascun set di iperparametri\n",
    "execution_times = []\n",
    "\n",
    "# Definisci il tempo massimo di esecuzione in secondi (300 secondi = 5 minuti)\n",
    "max_execution_time = 300\n",
    "\n",
    "start_time = time.time()\n",
    "\n",
    "# Esegui la ricerca degli iperparametri\n",
    "grid_search.fit(X_train, y_train.values.ravel())\n",
    "\n",
    "end_time = time.time()\n",
    "training_time = end_time - start_time\n",
    "# iteration = 0\n",
    "\n",
    "# Itera attraverso i parametri iperparametrici\n",
    "# for params in ParameterGrid(param_grid):\n",
    "#     # Misura il tempo di inizio dell'allenamento\n",
    "#     start_time = time.time()\n",
    "# \n",
    "#     # Esegui la ricerca degli iperparametri\n",
    "#     grid_search.fit(X_train, y_train)\n",
    "# \n",
    "#     # Calcola il tempo di fine dell'allenamento\n",
    "#     end_time = time.time()\n",
    "# \n",
    "#     # Calcola il tempo totale di addestramento\n",
    "#     training_time = end_time - start_time\n",
    "#     execution_times.append(training_time)\n",
    "# \n",
    "#     # Incrementa il contatore delle iterazioni\n",
    "#     iteration += 1\n",
    "# \n",
    "#     # Verifica se il tempo massimo è stato superato\n",
    "#     if sum(execution_times) + (training_time * (len(ParameterGrid(param_grid)) - iteration)) > max_execution_time:\n",
    "#         print(f\"Interrotto dopo {iteration} iterazioni (tempo limite raggiunto)\")\n",
    "#         break\n",
    "#     \n",
    "#     # Stampa l'avanzamento\n",
    "#     print(f\"Iterazione {iteration}/{len(ParameterGrid(param_grid))}, Tempo impiegato: {training_time:.2f} secondi\")\n",
    "\n",
    "# Trova il miglior modello\n",
    "best_model = grid_search.best_estimator_\n",
    "\n",
    "# Valuta il modello sul set di test\n",
    "y_pred = best_model.predict(X_test)\n",
    "mse = mean_squared_error(y_test, y_pred)\n",
    "rmse = np.sqrt(mse)\n",
    "r2_bestModel = best_model.score(X_test, y_test)\n",
    "\n",
    "print(\"Best Parameters:\", grid_search.best_params_)\n",
    "print(\"Best MSE Score:\", -grid_search.best_score_)\n",
    "print(\"Mean Squared Error:\", mse)\n",
    "print(\"Root Mean Squared Error:\", rmse)\n",
    "print(\"R^2 Score:\", r2_bestModel)\n",
    "print(\"Training Time (seconds):\", training_time)\n",
    "\n",
    "\n"
   ],
   "metadata": {
    "collapsed": false,
    "ExecuteTime": {
     "end_time": "2023-11-13T23:40:37.274052100Z",
     "start_time": "2023-11-13T23:39:41.012471Z"
    }
   },
   "id": "2e4b2bca914b0a89"
  },
  {
   "cell_type": "code",
   "execution_count": 47,
   "outputs": [
    {
     "name": "stdout",
     "output_type": "stream",
     "text": [
      "MSE sul set di test: 0.0001068222946309793\n",
      "R2 sul set di test: 0.9922489204816135\n"
     ]
    }
   ],
   "source": [
    "from sklearn.metrics import r2_score\n",
    "\n",
    "#Alleno il modello sulla porzione di training del dataset\n",
    "best_model.fit(X_train, y_train.values.ravel())\n",
    "\n",
    "# Calcola l'MSE e R2\n",
    "predictions = best_model.predict(X_test)\n",
    "mse_rf = mean_squared_error(y_test, predictions)\n",
    "r2_rf = r2_score(y_test, predictions)\n",
    "\n",
    "print(f'MSE sul set di test: {mse_rf}')\n",
    "print(f'R2 sul set di test: {r2_rf}')\n"
   ],
   "metadata": {
    "collapsed": false,
    "ExecuteTime": {
     "end_time": "2023-11-13T23:40:57.952404400Z",
     "start_time": "2023-11-13T23:40:57.826917500Z"
    }
   },
   "id": "1fa8838357826cc3"
  },
  {
   "cell_type": "code",
   "execution_count": 49,
   "outputs": [
    {
     "name": "stdout",
     "output_type": "stream",
     "text": [
      "[array([0.02885767]), array([-0.00601252]), array([-0.00266146]), array([0.00019679]), array([-0.0041874]), array([5.62713567e-05]), array([-0.00262897]), array([-0.00837273]), array([-0.01212046]), array([-0.00115383]), array([0.01660727]), array([-0.01326944]), array([-0.00236239]), array([0.00453274]), array([-0.00234567])]\n",
      "--------------------\n",
      "[0.37099132 0.00665562 0.00588657 0.00386732 0.00675728 0.00657516\n",
      " 0.00485234 0.01248784 0.01345977 0.00372372 0.27307965 0.02022727\n",
      " 0.00668009 0.01012374 0.00967041]\n",
      "--------------------\n",
      "[0.37099132 0.00665562 0.00588657 0.00386732 0.00675728 0.00657516\n",
      " 0.00485234 0.01248784 0.01345977 0.00372372 0.27307965 0.02022727\n",
      " 0.00668009 0.01012374 0.00967041]\n",
      "--------------------\n"
     ]
    },
    {
     "data": {
      "text/plain": "<Figure size 640x480 with 1 Axes>",
      "image/png": "[encoded data removed]"
     },
     "metadata": {},
     "output_type": "display_data"
    }
   ],
   "source": [
    "# Assicurati che siano array NumPy o serie Pandas\n",
    "y_test = np.array(y_test)\n",
    "predictions_rf = np.array(predictions)\n",
    "# Analisi degli errori\n",
    "errore = []\n",
    "for i in range(len(y_test)):\n",
    "   errore.append(y_test[i] - predictions_rf[i])\n",
    "print(errore)\n",
    "print(\"--------------------\")\n",
    "# Supponendo che errore sia la tua lista di array\n",
    "errore_concatenato = np.concatenate(errore)\n",
    "\n",
    "# Creare un DataFrame pandas con una colonna chiamata 'Errore'\n",
    "df_errore = pd.DataFrame({'Errore': errore_concatenato})\n",
    "\n",
    "# Grafico degli errori\n",
    "plt.scatter(predictions_rf, df_errore)\n",
    "plt.xlabel('Previsioni')\n",
    "plt.ylabel('Errori')\n",
    "plt.title('Analisi degli Errori (RandomForestRegressor)')\n",
    "plt.show()\n"
   ],
   "metadata": {
    "collapsed": false,
    "ExecuteTime": {
     "end_time": "2023-11-13T23:41:56.331988200Z",
     "start_time": "2023-11-13T23:41:56.147358700Z"
    }
   },
   "id": "355081690f660698"
  },
  {
   "cell_type": "code",
   "execution_count": 50,
   "outputs": [
    {
     "name": "stdout",
     "output_type": "stream",
     "text": [
      "Valore reale: 0.39984898710865563 - Valore predetto: 0.37099131553100057 \n",
      "Errore di previsione 0.028857671577655064 \n",
      "\n",
      "Valore reale: 0.0006431000613873541 - Valore predetto: 0.006655617249846534 \n",
      "Errore di previsione 0.00601251718845918 \n",
      "\n",
      "Valore reale: 0.003225113566605279 - Valore predetto: 0.0058865686924493565 \n",
      "Errore di previsione 0.0026614551258440774 \n",
      "\n",
      "Valore reale: 0.004064100675260896 - Valore predetto: 0.003867315531000615 \n",
      "Errore di previsione 0.0001967851442602809 \n",
      "\n",
      "Valore reale: 0.0025698895027624308 - Valore predetto: 0.006757284960098218 \n",
      "Errore di previsione 0.004187395457335787 \n",
      "\n",
      "Valore reale: 0.006631430325352977 - Valore predetto: 0.006575158968692453 \n",
      "Errore di previsione 5.627135666052413e-05 \n",
      "\n",
      "Valore reale: 0.0022233701657458564 - Valore predetto: 0.004852340024554941 \n",
      "Errore di previsione 0.0026289698588090843 \n",
      "\n",
      "Valore reale: 0.004115107427869859 - Valore predetto: 0.012487840883977908 \n",
      "Errore di previsione 0.00837273345610805 \n",
      "\n",
      "Valore reale: 0.0013393124616329036 - Valore predetto: 0.01345976942909761 \n",
      "Errore di previsione 0.012120456967464706 \n",
      "\n",
      "Valore reale: 0.0025698895027624308 - Valore predetto: 0.003723717249846532 \n",
      "Errore di previsione 0.0011538277470841012 \n",
      "\n",
      "Valore reale: 0.2896869244935544 - Valore predetto: 0.2730796509515041 \n",
      "Errore di previsione 0.01660727354205027 \n",
      "\n",
      "Valore reale: 0.006957826887661142 - Valore predetto: 0.02022726813996317 \n",
      "Errore di previsione 0.013269441252302026 \n",
      "\n",
      "Valore reale: 0.004317704112952732 - Valore predetto: 0.0066800941682013506 \n",
      "Errore di previsione 0.002362390055248619 \n",
      "\n",
      "Valore reale: 0.014656476365868632 - Valore predetto: 0.010123735481890732 \n",
      "Errore di previsione 0.0045327408839779 \n",
      "\n",
      "Dimensioni di errori_array: (14,)\n",
      "[[0.39984899]\n",
      " [0.0006431 ]\n",
      " [0.00322511]\n",
      " [0.0040641 ]\n",
      " [0.00256989]\n",
      " [0.00663143]\n",
      " [0.00222337]\n",
      " [0.00411511]\n",
      " [0.00133931]\n",
      " [0.00256989]\n",
      " [0.28968692]\n",
      " [0.00695783]\n",
      " [0.0043177 ]\n",
      " [0.01465648]\n",
      " [0.00732474]]\n",
      "Residui originali: \n",
      " [3.8077409070000085e-12, 7.933456305000004e-13, 3.511763424000002e-13, 2.596560299999981e-14, 5.525226431999999e-13, 7.424949239999499e-15, 3.468899438999999e-13, 1.1047738068000011e-12, 1.5992821764000006e-12, 1.5224641740000008e-13, 2.1913131365999916e-12, 1.7508895038000002e-12, 3.1171500540000003e-13, 5.980906268999999e-13]\n"
     ]
    }
   ],
   "source": [
    "#Codice che mi serve solo per controllare se l'allenamento procede correttamente.\n",
    "#Devo controllare che gli errori non si discostino troppo dai valori reali\n",
    "#Ora controllo dopo averlo allenato col modello migliore utilizzando gli iperparametri migliori\n",
    "\n",
    "errorilist2 = []\n",
    "\n",
    "for a in range(0, len(y_test) - 1):\n",
    "    errorilist2.append(abs(y_ravel[a] - predictions[a]))\n",
    "    print(f\"Valore reale: {y_ravel[a]} - Valore predetto: {predictions[a]} \\n\"\n",
    "         f\"Errore di previsione { abs(y_ravel[a] - predictions[a]) } \\n\")\n",
    "    \n",
    "erroriList2 = np.array(errorilist2)\n",
    "\n",
    "# De-standardizzazione dei residui\n",
    "residui_originali_2 = []\n",
    "print(y_test)\n",
    "for i in range(len(erroriList2)):\n",
    "    residui_originali_2.append(\n",
    "        erroriList2[i] * (k2_max - k2_min) + k2_min\n",
    "    )\n",
    "\n",
    "print(\"Residui originali: \\n\", residui_originali_2)"
   ],
   "metadata": {
    "collapsed": false,
    "ExecuteTime": {
     "end_time": "2023-11-13T23:43:56.541242500Z",
     "start_time": "2023-11-13T23:43:56.510223200Z"
    }
   },
   "id": "d06e754e2deaa5bf"
  },
  {
   "cell_type": "code",
   "execution_count": 70,
   "outputs": [
    {
     "name": "stdout",
     "output_type": "stream",
     "text": [
      "Media MSE sulla LOOCV: 0.008408371952519\n"
     ]
    },
    {
     "data": {
      "text/plain": "<Figure size 640x480 with 1 Axes>",
      "image/png": "[encoded data removed]"
     },
     "metadata": {},
     "output_type": "display_data"
    }
   ],
   "source": [
    "# from sklearn.ensemble import RandomForestRegressor\n",
    "# import numpy as np\n",
    "# import matplotlib.pyplot as plt\n",
    "# \n",
    "# # Supponiamo che X sia il tuo insieme di dati e y sia l'etichetta associata\n",
    "# # Sostituisci X e y con i tuoi dati effettivi\n",
    "# \n",
    "# # Numero totale di dati\n",
    "# num_dati = len(df_scaled)\n",
    "# # Inizializza il regressore\n",
    "# regressor = RandomForestRegressor()\n",
    "# \n",
    "# # Inizializza un array per tenere traccia delle prestazioni durante l'apprendimento\n",
    "# performance = []\n",
    "# \n",
    "# # Ciclo attraverso le iterazioni\n",
    "# for i in range(num_dati):\n",
    "#     # Seleziona un singolo dato da aggiungere al set di addestramento\n",
    "#     indice_train = i % num_dati\n",
    "# \n",
    "#     # Aggiorna il set di addestramento\n",
    "#     X_train = df_scaled[:indice_train + 1]\n",
    "#     y_train = df_scaled['k_m2'][:indice_train + 1]\n",
    "# \n",
    "#     # Addestra il regressore\n",
    "#     regressor.fit(X_train, y_train)\n",
    "# \n",
    "#     # Valuta le prestazioni sul set di addestramento\n",
    "#     y_pred_train = regressor.predict(X_train)\n",
    "#     mse_train = np.mean((y_train - y_pred_train)**2)\n",
    "# \n",
    "#     performance.append(mse_train)\n",
    "# \n",
    "# # Visualizza come le prestazioni cambiano con l'apprendimento\n",
    "# plt.plot(performance, marker='o')\n",
    "# plt.xlabel('Numero di iterazioni')\n",
    "# plt.ylabel('MSE sul set di addestramento')\n",
    "# plt.title('Apprendimento cumulativo con RandomForestRegressor')\n",
    "# plt.show()\n",
    "\n",
    "\n",
    "from sklearn.model_selection import LeaveOneOut\n",
    "from sklearn.ensemble import RandomForestRegressor\n",
    "from sklearn.metrics import mean_squared_error\n",
    "import numpy as np\n",
    "\n",
    "# Supponiamo che X sia il tuo insieme di dati e y sia l'etichetta associata\n",
    "# Sostituisci X e y con i tuoi dati effettivi\n",
    "\n",
    "\n",
    "\n",
    "# Inizializza lo schema LOOCV\n",
    "loo = LeaveOneOut()\n",
    "\n",
    "# Inizializza un array per tenere traccia delle prestazioni\n",
    "performance = []\n",
    "\n",
    "# Ciclo attraverso le iterazioni della LOOCV\n",
    "for train_index, test_index in loo.split(df_scaled):\n",
    "    X_train, X_test = df_scaled.drop('k_m2', axis=1).iloc[train_index], df_scaled.drop('k_m2', axis=1).iloc[test_index]\n",
    "    y_train, y_test = df_scaled['k_m2'].iloc[train_index], df_scaled['k_m2'].iloc[test_index]\n",
    "\n",
    "    # Addestra il regressore\n",
    "    regressor.fit(X_train, y_train)\n",
    "\n",
    "    # Valuta le prestazioni sul set di test\n",
    "    y_pred = regressor.predict(X_test)\n",
    "    mse = mean_squared_error(y_test, y_pred)\n",
    "\n",
    "    performance.append(mse)\n",
    "\n",
    "# Media degli errori quadratici medi ottenuti in ciascuna iterazione\n",
    "media_performance = np.mean(performance)\n",
    "print(f\"Media MSE sulla LOOCV: {media_performance}\")\n",
    "\n",
    "\n",
    "# Plot delle prestazioni in ciascuna iterazione\n",
    "plt.plot(performance, marker='o')\n",
    "plt.xlabel('Iterazione LOOCV')\n",
    "plt.ylabel('MSE')\n",
    "plt.title('Prestazioni nella LOOCV')\n",
    "plt.show()"
   ],
   "metadata": {
    "collapsed": false,
    "ExecuteTime": {
     "end_time": "2023-11-14T00:38:09.003157100Z",
     "start_time": "2023-11-14T00:38:01.695714300Z"
    }
   },
   "id": "d3136f5110d42e20"
  },
  {
   "cell_type": "code",
   "execution_count": 71,
   "outputs": [
    {
     "data": {
      "text/plain": "<Figure size 640x480 with 1 Axes>",
      "image/png": "[encoded data removed]"
     },
     "metadata": {},
     "output_type": "display_data"
    }
   ],
   "source": [
    "# ANALISI DEI RESIDUI\n",
    "\n",
    "#TODO -> Sto provando a completare l'analisi degli errori prima di passare al salvataggio del modello per poi poterlo testare su un dataswet di prova. Prima di quel punto è necessario committare il lavoro effettuato. Creare dunque un database capace di poter essere testabile sul modello appena creato. L'analisi degli errori attualmente è stata svolta per il primo step empirico che considera la differenza tra y e y_pred... gli altri metodi ancora non vengono testati per problemi con 'df_errore' che non viene riconosciuto come un array.. \n",
    "#QQ plot\n",
    "from scipy import stats\n",
    "\n",
    "stats.probplot(erroriList2, plot=plt)\n",
    "plt.title('Q-Q Plot dei Residui')\n",
    "plt.show()\n"
   ],
   "metadata": {
    "collapsed": false,
    "ExecuteTime": {
     "end_time": "2023-11-14T00:40:00.481584300Z",
     "start_time": "2023-11-14T00:40:00.289630700Z"
    }
   },
   "id": "24a15b66c596850a"
  },
  {
   "cell_type": "code",
   "execution_count": 57,
   "outputs": [
    {
     "ename": "ValueError",
     "evalue": "x and y must be the same size",
     "output_type": "error",
     "traceback": [
      "\u001B[1;31m---------------------------------------------------------------------------\u001B[0m",
      "\u001B[1;31mValueError\u001B[0m                                Traceback (most recent call last)",
      "Cell \u001B[1;32mIn[57], line 3\u001B[0m\n\u001B[0;32m      1\u001B[0m \u001B[38;5;66;03m#Scatter plot dei residui rispetto alle features indipendenti\u001B[39;00m\n\u001B[0;32m      2\u001B[0m \u001B[38;5;28;01mfor\u001B[39;00m col \u001B[38;5;129;01min\u001B[39;00m X_test\u001B[38;5;241m.\u001B[39mcolumns:\n\u001B[1;32m----> 3\u001B[0m     \u001B[43mplt\u001B[49m\u001B[38;5;241;43m.\u001B[39;49m\u001B[43mscatter\u001B[49m\u001B[43m(\u001B[49m\u001B[43mX_test\u001B[49m\u001B[43m[\u001B[49m\u001B[43mcol\u001B[49m\u001B[43m]\u001B[49m\u001B[43m,\u001B[49m\u001B[43m \u001B[49m\u001B[43merroriList2\u001B[49m\u001B[43m)\u001B[49m\n\u001B[0;32m      4\u001B[0m     plt\u001B[38;5;241m.\u001B[39mxlabel(col)\n\u001B[0;32m      5\u001B[0m     plt\u001B[38;5;241m.\u001B[39mylabel(\u001B[38;5;124m'\u001B[39m\u001B[38;5;124mResidui\u001B[39m\u001B[38;5;124m'\u001B[39m)\n",
      "File \u001B[1;32m~\\Desktop\\Python Workspace\\FirstTryMiller\\venv\\Lib\\site-packages\\matplotlib\\pyplot.py:3687\u001B[0m, in \u001B[0;36mscatter\u001B[1;34m(x, y, s, c, marker, cmap, norm, vmin, vmax, alpha, linewidths, edgecolors, plotnonfinite, data, **kwargs)\u001B[0m\n\u001B[0;32m   3668\u001B[0m \u001B[38;5;129m@_copy_docstring_and_deprecators\u001B[39m(Axes\u001B[38;5;241m.\u001B[39mscatter)\n\u001B[0;32m   3669\u001B[0m \u001B[38;5;28;01mdef\u001B[39;00m \u001B[38;5;21mscatter\u001B[39m(\n\u001B[0;32m   3670\u001B[0m     x: \u001B[38;5;28mfloat\u001B[39m \u001B[38;5;241m|\u001B[39m ArrayLike,\n\u001B[1;32m   (...)\u001B[0m\n\u001B[0;32m   3685\u001B[0m     \u001B[38;5;241m*\u001B[39m\u001B[38;5;241m*\u001B[39mkwargs,\n\u001B[0;32m   3686\u001B[0m ) \u001B[38;5;241m-\u001B[39m\u001B[38;5;241m>\u001B[39m PathCollection:\n\u001B[1;32m-> 3687\u001B[0m     __ret \u001B[38;5;241m=\u001B[39m \u001B[43mgca\u001B[49m\u001B[43m(\u001B[49m\u001B[43m)\u001B[49m\u001B[38;5;241;43m.\u001B[39;49m\u001B[43mscatter\u001B[49m\u001B[43m(\u001B[49m\n\u001B[0;32m   3688\u001B[0m \u001B[43m        \u001B[49m\u001B[43mx\u001B[49m\u001B[43m,\u001B[49m\n\u001B[0;32m   3689\u001B[0m \u001B[43m        \u001B[49m\u001B[43my\u001B[49m\u001B[43m,\u001B[49m\n\u001B[0;32m   3690\u001B[0m \u001B[43m        \u001B[49m\u001B[43ms\u001B[49m\u001B[38;5;241;43m=\u001B[39;49m\u001B[43ms\u001B[49m\u001B[43m,\u001B[49m\n\u001B[0;32m   3691\u001B[0m \u001B[43m        \u001B[49m\u001B[43mc\u001B[49m\u001B[38;5;241;43m=\u001B[39;49m\u001B[43mc\u001B[49m\u001B[43m,\u001B[49m\n\u001B[0;32m   3692\u001B[0m \u001B[43m        \u001B[49m\u001B[43mmarker\u001B[49m\u001B[38;5;241;43m=\u001B[39;49m\u001B[43mmarker\u001B[49m\u001B[43m,\u001B[49m\n\u001B[0;32m   3693\u001B[0m \u001B[43m        \u001B[49m\u001B[43mcmap\u001B[49m\u001B[38;5;241;43m=\u001B[39;49m\u001B[43mcmap\u001B[49m\u001B[43m,\u001B[49m\n\u001B[0;32m   3694\u001B[0m \u001B[43m        \u001B[49m\u001B[43mnorm\u001B[49m\u001B[38;5;241;43m=\u001B[39;49m\u001B[43mnorm\u001B[49m\u001B[43m,\u001B[49m\n\u001B[0;32m   3695\u001B[0m \u001B[43m        \u001B[49m\u001B[43mvmin\u001B[49m\u001B[38;5;241;43m=\u001B[39;49m\u001B[43mvmin\u001B[49m\u001B[43m,\u001B[49m\n\u001B[0;32m   3696\u001B[0m \u001B[43m        \u001B[49m\u001B[43mvmax\u001B[49m\u001B[38;5;241;43m=\u001B[39;49m\u001B[43mvmax\u001B[49m\u001B[43m,\u001B[49m\n\u001B[0;32m   3697\u001B[0m \u001B[43m        \u001B[49m\u001B[43malpha\u001B[49m\u001B[38;5;241;43m=\u001B[39;49m\u001B[43malpha\u001B[49m\u001B[43m,\u001B[49m\n\u001B[0;32m   3698\u001B[0m \u001B[43m        \u001B[49m\u001B[43mlinewidths\u001B[49m\u001B[38;5;241;43m=\u001B[39;49m\u001B[43mlinewidths\u001B[49m\u001B[43m,\u001B[49m\n\u001B[0;32m   3699\u001B[0m \u001B[43m        \u001B[49m\u001B[43medgecolors\u001B[49m\u001B[38;5;241;43m=\u001B[39;49m\u001B[43medgecolors\u001B[49m\u001B[43m,\u001B[49m\n\u001B[0;32m   3700\u001B[0m \u001B[43m        \u001B[49m\u001B[43mplotnonfinite\u001B[49m\u001B[38;5;241;43m=\u001B[39;49m\u001B[43mplotnonfinite\u001B[49m\u001B[43m,\u001B[49m\n\u001B[0;32m   3701\u001B[0m \u001B[43m        \u001B[49m\u001B[38;5;241;43m*\u001B[39;49m\u001B[38;5;241;43m*\u001B[39;49m\u001B[43m(\u001B[49m\u001B[43m{\u001B[49m\u001B[38;5;124;43m\"\u001B[39;49m\u001B[38;5;124;43mdata\u001B[39;49m\u001B[38;5;124;43m\"\u001B[39;49m\u001B[43m:\u001B[49m\u001B[43m \u001B[49m\u001B[43mdata\u001B[49m\u001B[43m}\u001B[49m\u001B[43m \u001B[49m\u001B[38;5;28;43;01mif\u001B[39;49;00m\u001B[43m \u001B[49m\u001B[43mdata\u001B[49m\u001B[43m \u001B[49m\u001B[38;5;129;43;01mis\u001B[39;49;00m\u001B[43m \u001B[49m\u001B[38;5;129;43;01mnot\u001B[39;49;00m\u001B[43m \u001B[49m\u001B[38;5;28;43;01mNone\u001B[39;49;00m\u001B[43m \u001B[49m\u001B[38;5;28;43;01melse\u001B[39;49;00m\u001B[43m \u001B[49m\u001B[43m{\u001B[49m\u001B[43m}\u001B[49m\u001B[43m)\u001B[49m\u001B[43m,\u001B[49m\n\u001B[0;32m   3702\u001B[0m \u001B[43m        \u001B[49m\u001B[38;5;241;43m*\u001B[39;49m\u001B[38;5;241;43m*\u001B[39;49m\u001B[43mkwargs\u001B[49m\u001B[43m,\u001B[49m\n\u001B[0;32m   3703\u001B[0m \u001B[43m    \u001B[49m\u001B[43m)\u001B[49m\n\u001B[0;32m   3704\u001B[0m     sci(__ret)\n\u001B[0;32m   3705\u001B[0m     \u001B[38;5;28;01mreturn\u001B[39;00m __ret\n",
      "File \u001B[1;32m~\\Desktop\\Python Workspace\\FirstTryMiller\\venv\\Lib\\site-packages\\matplotlib\\__init__.py:1478\u001B[0m, in \u001B[0;36m_preprocess_data.<locals>.inner\u001B[1;34m(ax, data, *args, **kwargs)\u001B[0m\n\u001B[0;32m   1475\u001B[0m \u001B[38;5;129m@functools\u001B[39m\u001B[38;5;241m.\u001B[39mwraps(func)\n\u001B[0;32m   1476\u001B[0m \u001B[38;5;28;01mdef\u001B[39;00m \u001B[38;5;21minner\u001B[39m(ax, \u001B[38;5;241m*\u001B[39margs, data\u001B[38;5;241m=\u001B[39m\u001B[38;5;28;01mNone\u001B[39;00m, \u001B[38;5;241m*\u001B[39m\u001B[38;5;241m*\u001B[39mkwargs):\n\u001B[0;32m   1477\u001B[0m     \u001B[38;5;28;01mif\u001B[39;00m data \u001B[38;5;129;01mis\u001B[39;00m \u001B[38;5;28;01mNone\u001B[39;00m:\n\u001B[1;32m-> 1478\u001B[0m         \u001B[38;5;28;01mreturn\u001B[39;00m \u001B[43mfunc\u001B[49m\u001B[43m(\u001B[49m\u001B[43max\u001B[49m\u001B[43m,\u001B[49m\u001B[43m \u001B[49m\u001B[38;5;241;43m*\u001B[39;49m\u001B[38;5;28;43mmap\u001B[39;49m\u001B[43m(\u001B[49m\u001B[43msanitize_sequence\u001B[49m\u001B[43m,\u001B[49m\u001B[43m \u001B[49m\u001B[43margs\u001B[49m\u001B[43m)\u001B[49m\u001B[43m,\u001B[49m\u001B[43m \u001B[49m\u001B[38;5;241;43m*\u001B[39;49m\u001B[38;5;241;43m*\u001B[39;49m\u001B[43mkwargs\u001B[49m\u001B[43m)\u001B[49m\n\u001B[0;32m   1480\u001B[0m     bound \u001B[38;5;241m=\u001B[39m new_sig\u001B[38;5;241m.\u001B[39mbind(ax, \u001B[38;5;241m*\u001B[39margs, \u001B[38;5;241m*\u001B[39m\u001B[38;5;241m*\u001B[39mkwargs)\n\u001B[0;32m   1481\u001B[0m     auto_label \u001B[38;5;241m=\u001B[39m (bound\u001B[38;5;241m.\u001B[39marguments\u001B[38;5;241m.\u001B[39mget(label_namer)\n\u001B[0;32m   1482\u001B[0m                   \u001B[38;5;129;01mor\u001B[39;00m bound\u001B[38;5;241m.\u001B[39mkwargs\u001B[38;5;241m.\u001B[39mget(label_namer))\n",
      "File \u001B[1;32m~\\Desktop\\Python Workspace\\FirstTryMiller\\venv\\Lib\\site-packages\\matplotlib\\axes\\_axes.py:4652\u001B[0m, in \u001B[0;36mAxes.scatter\u001B[1;34m(self, x, y, s, c, marker, cmap, norm, vmin, vmax, alpha, linewidths, edgecolors, plotnonfinite, **kwargs)\u001B[0m\n\u001B[0;32m   4650\u001B[0m y \u001B[38;5;241m=\u001B[39m np\u001B[38;5;241m.\u001B[39mma\u001B[38;5;241m.\u001B[39mravel(y)\n\u001B[0;32m   4651\u001B[0m \u001B[38;5;28;01mif\u001B[39;00m x\u001B[38;5;241m.\u001B[39msize \u001B[38;5;241m!=\u001B[39m y\u001B[38;5;241m.\u001B[39msize:\n\u001B[1;32m-> 4652\u001B[0m     \u001B[38;5;28;01mraise\u001B[39;00m \u001B[38;5;167;01mValueError\u001B[39;00m(\u001B[38;5;124m\"\u001B[39m\u001B[38;5;124mx and y must be the same size\u001B[39m\u001B[38;5;124m\"\u001B[39m)\n\u001B[0;32m   4654\u001B[0m \u001B[38;5;28;01mif\u001B[39;00m s \u001B[38;5;129;01mis\u001B[39;00m \u001B[38;5;28;01mNone\u001B[39;00m:\n\u001B[0;32m   4655\u001B[0m     s \u001B[38;5;241m=\u001B[39m (\u001B[38;5;241m20\u001B[39m \u001B[38;5;28;01mif\u001B[39;00m mpl\u001B[38;5;241m.\u001B[39mrcParams[\u001B[38;5;124m'\u001B[39m\u001B[38;5;124m_internal.classic_mode\u001B[39m\u001B[38;5;124m'\u001B[39m] \u001B[38;5;28;01melse\u001B[39;00m\n\u001B[0;32m   4656\u001B[0m          mpl\u001B[38;5;241m.\u001B[39mrcParams[\u001B[38;5;124m'\u001B[39m\u001B[38;5;124mlines.markersize\u001B[39m\u001B[38;5;124m'\u001B[39m] \u001B[38;5;241m*\u001B[39m\u001B[38;5;241m*\u001B[39m \u001B[38;5;241m2.0\u001B[39m)\n",
      "\u001B[1;31mValueError\u001B[0m: x and y must be the same size"
     ]
    },
    {
     "data": {
      "text/plain": "<Figure size 640x480 with 1 Axes>",
      "image/png": "[encoded data removed]"
     },
     "metadata": {},
     "output_type": "display_data"
    }
   ],
   "source": [
    "#Scatter plot dei residui rispetto alle features indipendenti\n",
    "for col in X_test.columns:\n",
    "    plt.scatter(X_test[col], df_errore['Errore'])\n",
    "    plt.xlabel(col)\n",
    "    plt.ylabel('Residui')\n",
    "    plt.title(f'Scatter Plot Residui vs {col}')\n",
    "    plt.show()"
   ],
   "metadata": {
    "collapsed": false,
    "ExecuteTime": {
     "end_time": "2023-11-14T00:06:23.708337100Z",
     "start_time": "2023-11-14T00:06:21.783331Z"
    }
   },
   "id": "a9c50d2edc48fa2c"
  },
  {
   "cell_type": "code",
   "execution_count": 15,
   "outputs": [
    {
     "name": "stdout",
     "output_type": "stream",
     "text": [
      "Osservazioni sottostimate:\n",
      "    Porosity       SSA       Ech  Tortuosity                   Residui\n",
      "39  0.274368  0.527605  0.815992    0.739340  [-0.0036099316758747705]\n",
      "30  0.422383  1.000000  0.443032    0.466496  [-0.0006751529772866796]\n",
      "17  0.198556  0.416027  0.643358    0.410709   [-0.009588826531614482]\n",
      "26  0.418773  0.996530  0.445617    0.560115  [-0.0016701424186617553]\n",
      "25  0.462094  0.706594  0.668411    0.788714     [-0.0055032518723143]\n",
      "\n",
      "Osservazioni sovrastimate:\n",
      "    Porosity       SSA       Ech  Tortuosity                  Residui\n",
      "13  0.884477  0.711852  0.742171    0.074703   [0.020574082504603908]\n",
      "45  0.191336  0.341150  0.896736    1.000000  [0.0006372427378759974]\n",
      "48  0.075812  0.162898  0.953654    0.725874   [0.003297974683855125]\n",
      "8   0.346570  0.473131  0.895433    0.810516   [0.003656597532228356]\n"
     ]
    }
   ],
   "source": [
    "#Questo codice aiuta ad identificare i valori anomali nel dataset. \n",
    "\n",
    "# Aggiungi i residui al DataFrame originale\n",
    "df_with_residui = X_test.copy()\n",
    "df_with_residui['Residui'] = errore\n",
    "\n",
    "# Osservazioni sottostimate (residui negativi)\n",
    "sottostimate = df_with_residui[df_with_residui['Residui'] < 0]\n",
    "\n",
    "# Osservazioni sovrastimate (residui positivi)\n",
    "sovrastimate = df_with_residui[df_with_residui['Residui'] > 0]\n",
    "\n",
    "# Visualizza le prime righe delle osservazioni sottostimate\n",
    "print(\"Osservazioni sottostimate:\")\n",
    "print(sottostimate.head())\n",
    "\n",
    "# Visualizza le prime righe delle osservazioni sovrastimate\n",
    "print(\"\\nOsservazioni sovrastimate:\")\n",
    "print(sovrastimate.head())\n"
   ],
   "metadata": {
    "collapsed": false,
    "ExecuteTime": {
     "end_time": "2023-11-12T12:07:14.800999700Z",
     "start_time": "2023-11-12T12:07:14.741927300Z"
    }
   },
   "id": "bb1d57e9812a2302"
  },
  {
   "cell_type": "code",
   "execution_count": 16,
   "outputs": [
    {
     "data": {
      "text/plain": "<Figure size 640x480 with 1 Axes>",
      "image/png": "[encoded data removed]"
     },
     "metadata": {},
     "output_type": "display_data"
    }
   ],
   "source": [
    "#Grafico dei residui vs valori predetti\n",
    "\n",
    "plt.scatter(predictions_rf, df_errore['Errore'])\n",
    "plt.axhline(y=0, color='r', linestyle='--')\n",
    "plt.xlabel('Previsioni')\n",
    "plt.ylabel('Residui')\n",
    "plt.title('Residui vs Previsioni')\n",
    "plt.show()\n",
    "\n",
    "#In teoria qui andrei a cercare la situazione ideale in cuii miei dati si dispongono casualmente intorno alla linea rossa tratteggiata senza alcun ordine particolare ( y = 0 ). I dati al di sopra della linea rossa indicano che il modello sottostima i valori, mentre i dati al di sotto della linea rossa indicano che il modello sovrastima i valori. Inoltre, se i dati sono disposti in modo non casuale, potrebbe essere necessario utilizzare un modello diverso."
   ],
   "metadata": {
    "collapsed": false,
    "ExecuteTime": {
     "end_time": "2023-11-12T12:07:27.743702200Z",
     "start_time": "2023-11-12T12:07:27.487623Z"
    }
   },
   "id": "59bf8681af0f8716"
  },
  {
   "cell_type": "code",
   "execution_count": 17,
   "outputs": [
    {
     "name": "stdout",
     "output_type": "stream",
     "text": [
      "Modello salvato come 'RandomForestRegressor_Permeability.pkl'\n"
     ]
    }
   ],
   "source": [
    "# salvare il modello allenato di XGBoost\n",
    "import pickle\n",
    "\n",
    "# Salva il modello su disco\n",
    "with open('RandomForestRegressor_Permeability.pkl', 'wb') as model_file:\n",
    "    pickle.dump(best_model, model_file)\n",
    "\n",
    "print(\"Modello salvato come 'RandomForestRegressor_Permeability.pkl'\")\n",
    "##################################################################\n",
    "\n",
    "# Carica il modello salvato\n",
    "import pickle\n",
    "with open('RandomForestRegressor_Permeability.pkl', 'rb') as model_file:\n",
    "    loaded_model_RFR_Perm = pickle.load(model_file)"
   ],
   "metadata": {
    "collapsed": false,
    "ExecuteTime": {
     "end_time": "2023-11-12T12:07:37.414924200Z",
     "start_time": "2023-11-12T12:07:37.387444700Z"
    }
   },
   "id": "651d1353fcdc867"
  },
  {
   "cell_type": "code",
   "execution_count": 31,
   "outputs": [
    {
     "name": "stderr",
     "output_type": "stream",
     "text": [
      "Testing Algorithms:  40%|████      | 4/10 [00:00<00:00, 35.49it/s]C:\\Users\\loris\\Desktop\\Python Workspace\\FirstTryMiller\\venv\\Lib\\site-packages\\sklearn\\base.py:1152: DataConversionWarning: A column-vector y was passed when a 1d array was expected. Please change the shape of y to (n_samples,), for example using ravel().\n",
      "  return fit_method(estimator, *args, **kwargs)\n",
      "C:\\Users\\loris\\Desktop\\Python Workspace\\FirstTryMiller\\venv\\Lib\\site-packages\\sklearn\\utils\\validation.py:1183: DataConversionWarning: A column-vector y was passed when a 1d array was expected. Please change the shape of y to (n_samples, ), for example using ravel().\n",
      "  y = column_or_1d(y, warn=True)\n",
      "C:\\Users\\loris\\Desktop\\Python Workspace\\FirstTryMiller\\venv\\Lib\\site-packages\\sklearn\\neural_network\\_multilayer_perceptron.py:1625: DataConversionWarning: A column-vector y was passed when a 1d array was expected. Please change the shape of y to (n_samples, ), for example using ravel().\n",
      "  y = column_or_1d(y, warn=True)\n",
      "C:\\Users\\loris\\Desktop\\Python Workspace\\FirstTryMiller\\venv\\Lib\\site-packages\\sklearn\\neural_network\\_multilayer_perceptron.py:691: ConvergenceWarning: Stochastic Optimizer: Maximum iterations (200) reached and the optimization hasn't converged yet.\n",
      "  warnings.warn(\n",
      "Testing Algorithms: 100%|██████████| 10/10 [00:01<00:00,  9.58it/s]"
     ]
    },
    {
     "name": "stdout",
     "output_type": "stream",
     "text": [
      "[LightGBM] [Warning] There are no meaningful features which satisfy the provided configuration. Decreasing Dataset parameters min_data_in_bin or min_data_in_leaf and re-constructing Dataset might resolve this warning.\n",
      "[LightGBM] [Info] Total Bins 0\n",
      "[LightGBM] [Info] Number of data points in the train set: 35, number of used features: 0\n",
      "[LightGBM] [Info] Start training from score 0.032555\n",
      "[LightGBM] [Warning] Stopped training because there are no more leaves that meet the split requirements\n",
      "[LightGBM] [Warning] Stopped training because there are no more leaves that meet the split requirements\n",
      "[LightGBM] [Warning] Stopped training because there are no more leaves that meet the split requirements\n",
      "[LightGBM] [Warning] Stopped training because there are no more leaves that meet the split requirements\n",
      "[LightGBM] [Warning] Stopped training because there are no more leaves that meet the split requirements\n",
      "[LightGBM] [Warning] Stopped training because there are no more leaves that meet the split requirements\n",
      "[LightGBM] [Warning] Stopped training because there are no more leaves that meet the split requirements\n",
      "[LightGBM] [Warning] Stopped training because there are no more leaves that meet the split requirements\n",
      "[LightGBM] [Warning] Stopped training because there are no more leaves that meet the split requirements\n",
      "[LightGBM] [Warning] Stopped training because there are no more leaves that meet the split requirements\n",
      "[LightGBM] [Warning] Stopped training because there are no more leaves that meet the split requirements\n",
      "[LightGBM] [Warning] Stopped training because there are no more leaves that meet the split requirements\n",
      "[LightGBM] [Warning] Stopped training because there are no more leaves that meet the split requirements\n",
      "[LightGBM] [Warning] Stopped training because there are no more leaves that meet the split requirements\n",
      "[LightGBM] [Warning] Stopped training because there are no more leaves that meet the split requirements\n",
      "[LightGBM] [Warning] Stopped training because there are no more leaves that meet the split requirements\n",
      "[LightGBM] [Warning] Stopped training because there are no more leaves that meet the split requirements\n",
      "[LightGBM] [Warning] Stopped training because there are no more leaves that meet the split requirements\n",
      "[LightGBM] [Warning] Stopped training because there are no more leaves that meet the split requirements\n",
      "[LightGBM] [Warning] Stopped training because there are no more leaves that meet the split requirements\n",
      "[LightGBM] [Warning] Stopped training because there are no more leaves that meet the split requirements\n",
      "[LightGBM] [Warning] Stopped training because there are no more leaves that meet the split requirements\n",
      "[LightGBM] [Warning] Stopped training because there are no more leaves that meet the split requirements\n",
      "[LightGBM] [Warning] Stopped training because there are no more leaves that meet the split requirements\n",
      "[LightGBM] [Warning] Stopped training because there are no more leaves that meet the split requirements\n",
      "[LightGBM] [Warning] Stopped training because there are no more leaves that meet the split requirements\n",
      "[LightGBM] [Warning] Stopped training because there are no more leaves that meet the split requirements\n",
      "[LightGBM] [Warning] Stopped training because there are no more leaves that meet the split requirements\n",
      "[LightGBM] [Warning] Stopped training because there are no more leaves that meet the split requirements\n",
      "[LightGBM] [Warning] Stopped training because there are no more leaves that meet the split requirements\n",
      "[LightGBM] [Warning] Stopped training because there are no more leaves that meet the split requirements\n",
      "[LightGBM] [Warning] Stopped training because there are no more leaves that meet the split requirements\n",
      "[LightGBM] [Warning] Stopped training because there are no more leaves that meet the split requirements\n",
      "[LightGBM] [Warning] Stopped training because there are no more leaves that meet the split requirements\n",
      "[LightGBM] [Warning] Stopped training because there are no more leaves that meet the split requirements\n",
      "[LightGBM] [Warning] Stopped training because there are no more leaves that meet the split requirements\n",
      "[LightGBM] [Warning] Stopped training because there are no more leaves that meet the split requirements\n",
      "[LightGBM] [Warning] Stopped training because there are no more leaves that meet the split requirements\n",
      "[LightGBM] [Warning] Stopped training because there are no more leaves that meet the split requirements\n",
      "[LightGBM] [Warning] Stopped training because there are no more leaves that meet the split requirements\n",
      "[LightGBM] [Warning] Stopped training because there are no more leaves that meet the split requirements\n",
      "[LightGBM] [Warning] Stopped training because there are no more leaves that meet the split requirements\n",
      "[LightGBM] [Warning] Stopped training because there are no more leaves that meet the split requirements\n",
      "[LightGBM] [Warning] Stopped training because there are no more leaves that meet the split requirements\n",
      "[LightGBM] [Warning] Stopped training because there are no more leaves that meet the split requirements\n",
      "[LightGBM] [Warning] Stopped training because there are no more leaves that meet the split requirements\n",
      "[LightGBM] [Warning] Stopped training because there are no more leaves that meet the split requirements\n",
      "[LightGBM] [Warning] Stopped training because there are no more leaves that meet the split requirements\n",
      "[LightGBM] [Warning] Stopped training because there are no more leaves that meet the split requirements\n",
      "[LightGBM] [Warning] Stopped training because there are no more leaves that meet the split requirements\n",
      "[LightGBM] [Warning] Stopped training because there are no more leaves that meet the split requirements\n",
      "[LightGBM] [Warning] Stopped training because there are no more leaves that meet the split requirements\n",
      "[LightGBM] [Warning] Stopped training because there are no more leaves that meet the split requirements\n",
      "[LightGBM] [Warning] Stopped training because there are no more leaves that meet the split requirements\n",
      "[LightGBM] [Warning] Stopped training because there are no more leaves that meet the split requirements\n",
      "[LightGBM] [Warning] Stopped training because there are no more leaves that meet the split requirements\n",
      "[LightGBM] [Warning] Stopped training because there are no more leaves that meet the split requirements\n",
      "[LightGBM] [Warning] Stopped training because there are no more leaves that meet the split requirements\n",
      "[LightGBM] [Warning] Stopped training because there are no more leaves that meet the split requirements\n",
      "[LightGBM] [Warning] Stopped training because there are no more leaves that meet the split requirements\n",
      "[LightGBM] [Warning] Stopped training because there are no more leaves that meet the split requirements\n",
      "[LightGBM] [Warning] Stopped training because there are no more leaves that meet the split requirements\n",
      "[LightGBM] [Warning] Stopped training because there are no more leaves that meet the split requirements\n",
      "[LightGBM] [Warning] Stopped training because there are no more leaves that meet the split requirements\n",
      "[LightGBM] [Warning] Stopped training because there are no more leaves that meet the split requirements\n",
      "[LightGBM] [Warning] Stopped training because there are no more leaves that meet the split requirements\n",
      "[LightGBM] [Warning] Stopped training because there are no more leaves that meet the split requirements\n",
      "[LightGBM] [Warning] Stopped training because there are no more leaves that meet the split requirements\n",
      "[LightGBM] [Warning] Stopped training because there are no more leaves that meet the split requirements\n",
      "[LightGBM] [Warning] Stopped training because there are no more leaves that meet the split requirements\n",
      "[LightGBM] [Warning] Stopped training because there are no more leaves that meet the split requirements\n",
      "[LightGBM] [Warning] Stopped training because there are no more leaves that meet the split requirements\n",
      "[LightGBM] [Warning] Stopped training because there are no more leaves that meet the split requirements\n",
      "[LightGBM] [Warning] Stopped training because there are no more leaves that meet the split requirements\n",
      "[LightGBM] [Warning] Stopped training because there are no more leaves that meet the split requirements\n",
      "[LightGBM] [Warning] Stopped training because there are no more leaves that meet the split requirements\n",
      "[LightGBM] [Warning] Stopped training because there are no more leaves that meet the split requirements\n",
      "[LightGBM] [Warning] Stopped training because there are no more leaves that meet the split requirements\n",
      "[LightGBM] [Warning] Stopped training because there are no more leaves that meet the split requirements\n",
      "[LightGBM] [Warning] Stopped training because there are no more leaves that meet the split requirements\n",
      "[LightGBM] [Warning] Stopped training because there are no more leaves that meet the split requirements\n",
      "[LightGBM] [Warning] Stopped training because there are no more leaves that meet the split requirements\n",
      "[LightGBM] [Warning] Stopped training because there are no more leaves that meet the split requirements\n",
      "[LightGBM] [Warning] Stopped training because there are no more leaves that meet the split requirements\n",
      "[LightGBM] [Warning] Stopped training because there are no more leaves that meet the split requirements\n",
      "[LightGBM] [Warning] Stopped training because there are no more leaves that meet the split requirements\n",
      "[LightGBM] [Warning] Stopped training because there are no more leaves that meet the split requirements\n",
      "[LightGBM] [Warning] Stopped training because there are no more leaves that meet the split requirements\n",
      "[LightGBM] [Warning] Stopped training because there are no more leaves that meet the split requirements\n",
      "[LightGBM] [Warning] Stopped training because there are no more leaves that meet the split requirements\n",
      "[LightGBM] [Warning] Stopped training because there are no more leaves that meet the split requirements\n",
      "[LightGBM] [Warning] Stopped training because there are no more leaves that meet the split requirements\n",
      "[LightGBM] [Warning] Stopped training because there are no more leaves that meet the split requirements\n",
      "[LightGBM] [Warning] Stopped training because there are no more leaves that meet the split requirements\n",
      "[LightGBM] [Warning] Stopped training because there are no more leaves that meet the split requirements\n",
      "[LightGBM] [Warning] Stopped training because there are no more leaves that meet the split requirements\n",
      "[LightGBM] [Warning] Stopped training because there are no more leaves that meet the split requirements\n",
      "[LightGBM] [Warning] Stopped training because there are no more leaves that meet the split requirements\n",
      "[LightGBM] [Warning] Stopped training because there are no more leaves that meet the split requirements\n",
      "[LightGBM] [Warning] Stopped training because there are no more leaves that meet the split requirements\n"
     ]
    },
    {
     "name": "stderr",
     "output_type": "stream",
     "text": [
      "\n"
     ]
    }
   ],
   "source": [
    "from sklearn import gaussian_process\n",
    "from sklearn.ensemble import RandomForestClassifier\n",
    "from sklearn.tree import DecisionTreeClassifier\n",
    "from xgboost import XGBRegressor as xgb\n",
    "from sklearn.metrics import mean_squared_error\n",
    "from sklearn.model_selection import train_test_split\n",
    "from sklearn.linear_model import LinearRegression\n",
    "from sklearn.preprocessing import StandardScaler\n",
    "from sklearn.svm import SVC\n",
    "import matplotlib.pyplot as plt\n",
    "\n",
    "\n",
    "#Standardizza i dati con lo scaler\n",
    "scaler = StandardScaler()  \n",
    "\n",
    "scaled_data = scaler.fit_transform(df)\n",
    "\n",
    "df_scaled = pd.DataFrame(scaled_data, columns=df.columns)\n",
    "\n",
    "# In questo esempio, consideriamo k sia la colonna target\n",
    "features_X = df_scaled.drop(['k_m2'], axis=1)  # Colonne features\n",
    "targets_X = df_scaled[['k_m2']]  # Colonne target\n",
    "\n",
    "\n",
    "# Suddivisione del dataset in set di addestramento e test\n",
    "\n",
    "#TODO provare con 0.7 - 30  o  0.7 - 20\n",
    "X_train, X_test, y_train, y_test = train_test_split(features_X, targets_X, test_size=0.3, random_state=42)\n",
    "from sklearn.linear_model import LinearRegression, Ridge, Lasso\n",
    "from sklearn.tree import DecisionTreeRegressor\n",
    "from sklearn.ensemble import RandomForestRegressor\n",
    "from sklearn.svm import SVR\n",
    "from sklearn.gaussian_process import GaussianProcessRegressor\n",
    "from sklearn.neural_network import MLPRegressor\n",
    "from xgboost import XGBRegressor\n",
    "from lightgbm import LGBMRegressor\n",
    "from sklearn.metrics import mean_squared_error\n",
    "import numpy as np\n",
    "import time\n",
    "from sklearn.model_selection import train_test_split\n",
    "from tqdm import tqdm\n",
    "\n",
    "# Lista degli algoritmi da testare\n",
    "algorithms = [\n",
    "    (\"Linear Regression\", LinearRegression()),\n",
    "    (\"Ridge Regression\", Ridge()),\n",
    "    (\"Lasso Regression\", Lasso()),\n",
    "    (\"Decision Tree Regressor\", DecisionTreeRegressor()),\n",
    "    (\"Random Forest Regressor\", RandomForestRegressor()),\n",
    "    (\"SVR\", SVR()),\n",
    "    (\"Gaussian Process Regressor\", GaussianProcessRegressor()),\n",
    "    (\"MLP Regressor\", MLPRegressor()),\n",
    "    (\"XGBoost Regressor\", XGBRegressor()),\n",
    "    (\"LGBM Regressor\", LGBMRegressor()),\n",
    "]\n",
    "\n",
    "# Definisci un dizionario per raccogliere i risultati\n",
    "results_dict = {\n",
    "    \"Model\": [],\n",
    "    \"Training RMSE\": [],\n",
    "    \"Training MSE\": [],\n",
    "    \"Training R^2\": [],\n",
    "    \"Test RMSE\": [],\n",
    "    \"Test MSE\": [],\n",
    "    \"Test R^2\": [],\n",
    "    \"Training Time (s)\": []\n",
    "}\n",
    "\n",
    "# Ciclo attraverso gli algoritmi e addestra/valuta ciascuno\n",
    "for name, model in tqdm(algorithms, desc=\"Testing Algorithms\"):\n",
    "    \n",
    "    # Misura il tempo di inizio dell'allenamento\n",
    "    start_time = time.time()\n",
    "\n",
    "    # Addestramento del modello\n",
    "    model.fit(X_train, y_train)\n",
    "\n",
    "    # Calcola il tempo di fine dell'allenamento\n",
    "    end_time = time.time()\n",
    "    \n",
    "    # Calcola il tempo totale di addestramento\n",
    "    training_time = end_time - start_time   \n",
    "\n",
    "    # Valutazione del modello sui dati di addestramento\n",
    "    y_train_pred = model.predict(X_train)\n",
    "    mse_train = mean_squared_error(y_train, y_train_pred)\n",
    "    rmse_train = np.sqrt(mse_train)\n",
    "    r2_train = model.score(X_train, y_train)\n",
    "\n",
    "    # Valutazione del modello sui dati di test\n",
    "    y_test_pred = model.predict(X_test)\n",
    "    mse_test = mean_squared_error(y_test, y_test_pred)\n",
    "    rmse_test = np.sqrt(mse_test)\n",
    "    r2_test = model.score(X_test, y_test)\n",
    "\n",
    "    # Aggiungi i risultati al dizionario\n",
    "    results_dict[\"Model\"].append(name)\n",
    "    results_dict[\"Training RMSE\"].append(rmse_train)\n",
    "    results_dict[\"Training MSE\"].append(mse_train)\n",
    "    results_dict[\"Training R^2\"].append(r2_train)\n",
    "    results_dict[\"Test RMSE\"].append(rmse_test)\n",
    "    results_dict[\"Test MSE\"].append(mse_test)\n",
    "    results_dict[\"Test R^2\"].append(r2_test)\n",
    "    results_dict[\"Training Time (s)\"].append(training_time)\n",
    "\n",
    "# Crea un DataFrame da results_dict\n",
    "risultati_alle_mod_K = pd.DataFrame(results_dict)\n",
    "# Esporta il DataFrame in un file Excel\n",
    "risultati_alle_mod_K.to_excel('risultati_alle_mod_K.xlsx', index=False)"
   ],
   "metadata": {
    "collapsed": false,
    "ExecuteTime": {
     "end_time": "2023-11-10T16:50:14.969072Z",
     "start_time": "2023-11-10T16:50:13.783305600Z"
    }
   },
   "id": "bb8debc8adbfc588"
  },
  {
   "cell_type": "markdown",
   "source": [],
   "metadata": {
    "collapsed": false
   },
   "id": "9564d6a60409c6f8"
  },
  {
   "cell_type": "code",
   "execution_count": 65,
   "outputs": [
    {
     "name": "stderr",
     "output_type": "stream",
     "text": [
      "C:\\Users\\loris\\Desktop\\Python Workspace\\FirstTryMiller\\venv\\Lib\\site-packages\\sklearn\\base.py:1152: DataConversionWarning: A column-vector y was passed when a 1d array was expected. Please change the shape of y to (n_samples,), for example using ravel().\n",
      "  return fit_method(estimator, *args, **kwargs)\n",
      "C:\\Users\\loris\\Desktop\\Python Workspace\\FirstTryMiller\\venv\\Lib\\site-packages\\sklearn\\base.py:1152: DataConversionWarning: A column-vector y was passed when a 1d array was expected. Please change the shape of y to (n_samples,), for example using ravel().\n",
      "  return fit_method(estimator, *args, **kwargs)\n",
      "C:\\Users\\loris\\Desktop\\Python Workspace\\FirstTryMiller\\venv\\Lib\\site-packages\\sklearn\\base.py:1152: DataConversionWarning: A column-vector y was passed when a 1d array was expected. Please change the shape of y to (n_samples,), for example using ravel().\n",
      "  return fit_method(estimator, *args, **kwargs)\n",
      "C:\\Users\\loris\\Desktop\\Python Workspace\\FirstTryMiller\\venv\\Lib\\site-packages\\sklearn\\base.py:1152: DataConversionWarning: A column-vector y was passed when a 1d array was expected. Please change the shape of y to (n_samples,), for example using ravel().\n",
      "  return fit_method(estimator, *args, **kwargs)\n",
      "C:\\Users\\loris\\Desktop\\Python Workspace\\FirstTryMiller\\venv\\Lib\\site-packages\\sklearn\\base.py:1152: DataConversionWarning: A column-vector y was passed when a 1d array was expected. Please change the shape of y to (n_samples,), for example using ravel().\n",
      "  return fit_method(estimator, *args, **kwargs)\n",
      "C:\\Users\\loris\\Desktop\\Python Workspace\\FirstTryMiller\\venv\\Lib\\site-packages\\sklearn\\base.py:1152: DataConversionWarning: A column-vector y was passed when a 1d array was expected. Please change the shape of y to (n_samples,), for example using ravel().\n",
      "  return fit_method(estimator, *args, **kwargs)\n",
      "C:\\Users\\loris\\Desktop\\Python Workspace\\FirstTryMiller\\venv\\Lib\\site-packages\\sklearn\\base.py:1152: DataConversionWarning: A column-vector y was passed when a 1d array was expected. Please change the shape of y to (n_samples,), for example using ravel().\n",
      "  return fit_method(estimator, *args, **kwargs)\n",
      "C:\\Users\\loris\\Desktop\\Python Workspace\\FirstTryMiller\\venv\\Lib\\site-packages\\sklearn\\base.py:1152: DataConversionWarning: A column-vector y was passed when a 1d array was expected. Please change the shape of y to (n_samples,), for example using ravel().\n",
      "  return fit_method(estimator, *args, **kwargs)\n",
      "C:\\Users\\loris\\Desktop\\Python Workspace\\FirstTryMiller\\venv\\Lib\\site-packages\\sklearn\\base.py:1152: DataConversionWarning: A column-vector y was passed when a 1d array was expected. Please change the shape of y to (n_samples,), for example using ravel().\n",
      "  return fit_method(estimator, *args, **kwargs)\n",
      "C:\\Users\\loris\\Desktop\\Python Workspace\\FirstTryMiller\\venv\\Lib\\site-packages\\sklearn\\base.py:1152: DataConversionWarning: A column-vector y was passed when a 1d array was expected. Please change the shape of y to (n_samples,), for example using ravel().\n",
      "  return fit_method(estimator, *args, **kwargs)\n",
      "C:\\Users\\loris\\Desktop\\Python Workspace\\FirstTryMiller\\venv\\Lib\\site-packages\\sklearn\\base.py:1152: DataConversionWarning: A column-vector y was passed when a 1d array was expected. Please change the shape of y to (n_samples,), for example using ravel().\n",
      "  return fit_method(estimator, *args, **kwargs)\n",
      "C:\\Users\\loris\\Desktop\\Python Workspace\\FirstTryMiller\\venv\\Lib\\site-packages\\sklearn\\base.py:1152: DataConversionWarning: A column-vector y was passed when a 1d array was expected. Please change the shape of y to (n_samples,), for example using ravel().\n",
      "  return fit_method(estimator, *args, **kwargs)\n",
      "C:\\Users\\loris\\Desktop\\Python Workspace\\FirstTryMiller\\venv\\Lib\\site-packages\\sklearn\\base.py:1152: DataConversionWarning: A column-vector y was passed when a 1d array was expected. Please change the shape of y to (n_samples,), for example using ravel().\n",
      "  return fit_method(estimator, *args, **kwargs)\n",
      "C:\\Users\\loris\\Desktop\\Python Workspace\\FirstTryMiller\\venv\\Lib\\site-packages\\sklearn\\base.py:1152: DataConversionWarning: A column-vector y was passed when a 1d array was expected. Please change the shape of y to (n_samples,), for example using ravel().\n",
      "  return fit_method(estimator, *args, **kwargs)\n",
      "C:\\Users\\loris\\Desktop\\Python Workspace\\FirstTryMiller\\venv\\Lib\\site-packages\\sklearn\\base.py:1152: DataConversionWarning: A column-vector y was passed when a 1d array was expected. Please change the shape of y to (n_samples,), for example using ravel().\n",
      "  return fit_method(estimator, *args, **kwargs)\n",
      "C:\\Users\\loris\\Desktop\\Python Workspace\\FirstTryMiller\\venv\\Lib\\site-packages\\sklearn\\base.py:1152: DataConversionWarning: A column-vector y was passed when a 1d array was expected. Please change the shape of y to (n_samples,), for example using ravel().\n",
      "  return fit_method(estimator, *args, **kwargs)\n",
      "C:\\Users\\loris\\Desktop\\Python Workspace\\FirstTryMiller\\venv\\Lib\\site-packages\\sklearn\\base.py:1152: DataConversionWarning: A column-vector y was passed when a 1d array was expected. Please change the shape of y to (n_samples,), for example using ravel().\n",
      "  return fit_method(estimator, *args, **kwargs)\n",
      "C:\\Users\\loris\\Desktop\\Python Workspace\\FirstTryMiller\\venv\\Lib\\site-packages\\sklearn\\base.py:1152: DataConversionWarning: A column-vector y was passed when a 1d array was expected. Please change the shape of y to (n_samples,), for example using ravel().\n",
      "  return fit_method(estimator, *args, **kwargs)\n",
      "C:\\Users\\loris\\Desktop\\Python Workspace\\FirstTryMiller\\venv\\Lib\\site-packages\\sklearn\\base.py:1152: DataConversionWarning: A column-vector y was passed when a 1d array was expected. Please change the shape of y to (n_samples,), for example using ravel().\n",
      "  return fit_method(estimator, *args, **kwargs)\n",
      "C:\\Users\\loris\\Desktop\\Python Workspace\\FirstTryMiller\\venv\\Lib\\site-packages\\sklearn\\base.py:1152: DataConversionWarning: A column-vector y was passed when a 1d array was expected. Please change the shape of y to (n_samples,), for example using ravel().\n",
      "  return fit_method(estimator, *args, **kwargs)\n",
      "C:\\Users\\loris\\Desktop\\Python Workspace\\FirstTryMiller\\venv\\Lib\\site-packages\\sklearn\\base.py:1152: DataConversionWarning: A column-vector y was passed when a 1d array was expected. Please change the shape of y to (n_samples,), for example using ravel().\n",
      "  return fit_method(estimator, *args, **kwargs)\n",
      "C:\\Users\\loris\\Desktop\\Python Workspace\\FirstTryMiller\\venv\\Lib\\site-packages\\sklearn\\base.py:1152: DataConversionWarning: A column-vector y was passed when a 1d array was expected. Please change the shape of y to (n_samples,), for example using ravel().\n",
      "  return fit_method(estimator, *args, **kwargs)\n",
      "C:\\Users\\loris\\Desktop\\Python Workspace\\FirstTryMiller\\venv\\Lib\\site-packages\\sklearn\\base.py:1152: DataConversionWarning: A column-vector y was passed when a 1d array was expected. Please change the shape of y to (n_samples,), for example using ravel().\n",
      "  return fit_method(estimator, *args, **kwargs)\n",
      "C:\\Users\\loris\\Desktop\\Python Workspace\\FirstTryMiller\\venv\\Lib\\site-packages\\sklearn\\base.py:1152: DataConversionWarning: A column-vector y was passed when a 1d array was expected. Please change the shape of y to (n_samples,), for example using ravel().\n",
      "  return fit_method(estimator, *args, **kwargs)\n",
      "C:\\Users\\loris\\Desktop\\Python Workspace\\FirstTryMiller\\venv\\Lib\\site-packages\\sklearn\\base.py:1152: DataConversionWarning: A column-vector y was passed when a 1d array was expected. Please change the shape of y to (n_samples,), for example using ravel().\n",
      "  return fit_method(estimator, *args, **kwargs)\n"
     ]
    },
    {
     "data": {
      "text/plain": "<Figure size 640x480 with 1 Axes>",
      "image/png": "[encoded data removed]"
     },
     "metadata": {},
     "output_type": "display_data"
    }
   ],
   "source": [
    "#Validazione dei dati dello stesso dataset con cross validation k-fold (16 fold sono ottimali per una buona validazione)\n",
    "\n",
    "from sklearn.model_selection import cross_val_score\n",
    "\n",
    "targets = df_scaled[['k_m2']]\n",
    "# Esegui la convalida incrociata a k-fold con k=5 (puoi scegliere il valore di k)\n",
    "scores = cross_val_score(regressor, df_scaled, targets, cv=25, scoring='r2')\n",
    "# Puoi anche utilizzare 'neg_mean_absolute_error' per MAE o 'neg_root_mean_squared_error' per RMSE\n",
    "\n",
    "# Calcola la media dei punteggi R^2\n",
    "mean_r2 = scores.mean()\n",
    "\n",
    "# Plotta i punteggi R^2 ottenuti in ciascun fold\n",
    "plt.bar(range(len(scores)), scores)\n",
    "plt.xlabel('Fold')\n",
    "plt.ylabel('Punteggio R^2')\n",
    "plt.title('Punteggi R^2 nella convalida incrociata')\n",
    "plt.axhline(mean_r2, color='red', linestyle='dashed', linewidth=2, label='Media R^2')\n",
    "plt.legend()\n",
    "plt.show()"
   ],
   "metadata": {
    "collapsed": false,
    "ExecuteTime": {
     "end_time": "2023-11-14T00:26:21.746348800Z",
     "start_time": "2023-11-14T00:26:17.407970900Z"
    }
   },
   "id": "abd80d5101236896"
  },
  {
   "cell_type": "code",
   "execution_count": 9,
   "outputs": [
    {
     "ename": "ValueError",
     "evalue": "The feature names should match those that were passed during fit.\nFeature names unseen at fit time:\n- kz\nFeature names seen at fit time, yet now missing:\n- kx\n",
     "output_type": "error",
     "traceback": [
      "\u001B[1;31m---------------------------------------------------------------------------\u001B[0m",
      "\u001B[1;31mValueError\u001B[0m                                Traceback (most recent call last)",
      "Cell \u001B[1;32mIn[9], line 19\u001B[0m\n\u001B[0;32m     16\u001B[0m elastic_net\u001B[38;5;241m.\u001B[39mfit(features_Z_train, targets_Z_train)\n\u001B[0;32m     18\u001B[0m \u001B[38;5;66;03m# Fai previsioni con il modello\u001B[39;00m\n\u001B[1;32m---> 19\u001B[0m predictions_elastic_X \u001B[38;5;241m=\u001B[39m \u001B[43melastic_net\u001B[49m\u001B[38;5;241;43m.\u001B[39;49m\u001B[43mpredict\u001B[49m\u001B[43m(\u001B[49m\u001B[43mfeatures_X_test\u001B[49m\u001B[43m)\u001B[49m\n\u001B[0;32m     20\u001B[0m predictions_elastic_Y \u001B[38;5;241m=\u001B[39m elastic_net\u001B[38;5;241m.\u001B[39mpredict(features_Y_test)\n\u001B[0;32m     21\u001B[0m predictions_elastic_Z \u001B[38;5;241m=\u001B[39m elastic_net\u001B[38;5;241m.\u001B[39mpredict(features_Z_test)\n",
      "File \u001B[1;32m~\\Desktop\\Python Workspace\\FirstTryMiller\\venv\\Lib\\site-packages\\sklearn\\linear_model\\_base.py:386\u001B[0m, in \u001B[0;36mLinearModel.predict\u001B[1;34m(self, X)\u001B[0m\n\u001B[0;32m    372\u001B[0m \u001B[38;5;28;01mdef\u001B[39;00m \u001B[38;5;21mpredict\u001B[39m(\u001B[38;5;28mself\u001B[39m, X):\n\u001B[0;32m    373\u001B[0m \u001B[38;5;250m    \u001B[39m\u001B[38;5;124;03m\"\"\"\u001B[39;00m\n\u001B[0;32m    374\u001B[0m \u001B[38;5;124;03m    Predict using the linear model.\u001B[39;00m\n\u001B[0;32m    375\u001B[0m \n\u001B[1;32m   (...)\u001B[0m\n\u001B[0;32m    384\u001B[0m \u001B[38;5;124;03m        Returns predicted values.\u001B[39;00m\n\u001B[0;32m    385\u001B[0m \u001B[38;5;124;03m    \"\"\"\u001B[39;00m\n\u001B[1;32m--> 386\u001B[0m     \u001B[38;5;28;01mreturn\u001B[39;00m \u001B[38;5;28;43mself\u001B[39;49m\u001B[38;5;241;43m.\u001B[39;49m\u001B[43m_decision_function\u001B[49m\u001B[43m(\u001B[49m\u001B[43mX\u001B[49m\u001B[43m)\u001B[49m\n",
      "File \u001B[1;32m~\\Desktop\\Python Workspace\\FirstTryMiller\\venv\\Lib\\site-packages\\sklearn\\linear_model\\_coordinate_descent.py:1071\u001B[0m, in \u001B[0;36mElasticNet._decision_function\u001B[1;34m(self, X)\u001B[0m\n\u001B[0;32m   1069\u001B[0m     \u001B[38;5;28;01mreturn\u001B[39;00m safe_sparse_dot(X, \u001B[38;5;28mself\u001B[39m\u001B[38;5;241m.\u001B[39mcoef_\u001B[38;5;241m.\u001B[39mT, dense_output\u001B[38;5;241m=\u001B[39m\u001B[38;5;28;01mTrue\u001B[39;00m) \u001B[38;5;241m+\u001B[39m \u001B[38;5;28mself\u001B[39m\u001B[38;5;241m.\u001B[39mintercept_\n\u001B[0;32m   1070\u001B[0m \u001B[38;5;28;01melse\u001B[39;00m:\n\u001B[1;32m-> 1071\u001B[0m     \u001B[38;5;28;01mreturn\u001B[39;00m \u001B[38;5;28;43msuper\u001B[39;49m\u001B[43m(\u001B[49m\u001B[43m)\u001B[49m\u001B[38;5;241;43m.\u001B[39;49m\u001B[43m_decision_function\u001B[49m\u001B[43m(\u001B[49m\u001B[43mX\u001B[49m\u001B[43m)\u001B[49m\n",
      "File \u001B[1;32m~\\Desktop\\Python Workspace\\FirstTryMiller\\venv\\Lib\\site-packages\\sklearn\\linear_model\\_base.py:369\u001B[0m, in \u001B[0;36mLinearModel._decision_function\u001B[1;34m(self, X)\u001B[0m\n\u001B[0;32m    366\u001B[0m \u001B[38;5;28;01mdef\u001B[39;00m \u001B[38;5;21m_decision_function\u001B[39m(\u001B[38;5;28mself\u001B[39m, X):\n\u001B[0;32m    367\u001B[0m     check_is_fitted(\u001B[38;5;28mself\u001B[39m)\n\u001B[1;32m--> 369\u001B[0m     X \u001B[38;5;241m=\u001B[39m \u001B[38;5;28;43mself\u001B[39;49m\u001B[38;5;241;43m.\u001B[39;49m\u001B[43m_validate_data\u001B[49m\u001B[43m(\u001B[49m\u001B[43mX\u001B[49m\u001B[43m,\u001B[49m\u001B[43m \u001B[49m\u001B[43maccept_sparse\u001B[49m\u001B[38;5;241;43m=\u001B[39;49m\u001B[43m[\u001B[49m\u001B[38;5;124;43m\"\u001B[39;49m\u001B[38;5;124;43mcsr\u001B[39;49m\u001B[38;5;124;43m\"\u001B[39;49m\u001B[43m,\u001B[49m\u001B[43m \u001B[49m\u001B[38;5;124;43m\"\u001B[39;49m\u001B[38;5;124;43mcsc\u001B[39;49m\u001B[38;5;124;43m\"\u001B[39;49m\u001B[43m,\u001B[49m\u001B[43m \u001B[49m\u001B[38;5;124;43m\"\u001B[39;49m\u001B[38;5;124;43mcoo\u001B[39;49m\u001B[38;5;124;43m\"\u001B[39;49m\u001B[43m]\u001B[49m\u001B[43m,\u001B[49m\u001B[43m \u001B[49m\u001B[43mreset\u001B[49m\u001B[38;5;241;43m=\u001B[39;49m\u001B[38;5;28;43;01mFalse\u001B[39;49;00m\u001B[43m)\u001B[49m\n\u001B[0;32m    370\u001B[0m     \u001B[38;5;28;01mreturn\u001B[39;00m safe_sparse_dot(X, \u001B[38;5;28mself\u001B[39m\u001B[38;5;241m.\u001B[39mcoef_\u001B[38;5;241m.\u001B[39mT, dense_output\u001B[38;5;241m=\u001B[39m\u001B[38;5;28;01mTrue\u001B[39;00m) \u001B[38;5;241m+\u001B[39m \u001B[38;5;28mself\u001B[39m\u001B[38;5;241m.\u001B[39mintercept_\n",
      "File \u001B[1;32m~\\Desktop\\Python Workspace\\FirstTryMiller\\venv\\Lib\\site-packages\\sklearn\\base.py:580\u001B[0m, in \u001B[0;36mBaseEstimator._validate_data\u001B[1;34m(self, X, y, reset, validate_separately, cast_to_ndarray, **check_params)\u001B[0m\n\u001B[0;32m    509\u001B[0m \u001B[38;5;28;01mdef\u001B[39;00m \u001B[38;5;21m_validate_data\u001B[39m(\n\u001B[0;32m    510\u001B[0m     \u001B[38;5;28mself\u001B[39m,\n\u001B[0;32m    511\u001B[0m     X\u001B[38;5;241m=\u001B[39m\u001B[38;5;124m\"\u001B[39m\u001B[38;5;124mno_validation\u001B[39m\u001B[38;5;124m\"\u001B[39m,\n\u001B[1;32m   (...)\u001B[0m\n\u001B[0;32m    516\u001B[0m     \u001B[38;5;241m*\u001B[39m\u001B[38;5;241m*\u001B[39mcheck_params,\n\u001B[0;32m    517\u001B[0m ):\n\u001B[0;32m    518\u001B[0m \u001B[38;5;250m    \u001B[39m\u001B[38;5;124;03m\"\"\"Validate input data and set or check the `n_features_in_` attribute.\u001B[39;00m\n\u001B[0;32m    519\u001B[0m \n\u001B[0;32m    520\u001B[0m \u001B[38;5;124;03m    Parameters\u001B[39;00m\n\u001B[1;32m   (...)\u001B[0m\n\u001B[0;32m    578\u001B[0m \u001B[38;5;124;03m        validated.\u001B[39;00m\n\u001B[0;32m    579\u001B[0m \u001B[38;5;124;03m    \"\"\"\u001B[39;00m\n\u001B[1;32m--> 580\u001B[0m     \u001B[38;5;28;43mself\u001B[39;49m\u001B[38;5;241;43m.\u001B[39;49m\u001B[43m_check_feature_names\u001B[49m\u001B[43m(\u001B[49m\u001B[43mX\u001B[49m\u001B[43m,\u001B[49m\u001B[43m \u001B[49m\u001B[43mreset\u001B[49m\u001B[38;5;241;43m=\u001B[39;49m\u001B[43mreset\u001B[49m\u001B[43m)\u001B[49m\n\u001B[0;32m    582\u001B[0m     \u001B[38;5;28;01mif\u001B[39;00m y \u001B[38;5;129;01mis\u001B[39;00m \u001B[38;5;28;01mNone\u001B[39;00m \u001B[38;5;129;01mand\u001B[39;00m \u001B[38;5;28mself\u001B[39m\u001B[38;5;241m.\u001B[39m_get_tags()[\u001B[38;5;124m\"\u001B[39m\u001B[38;5;124mrequires_y\u001B[39m\u001B[38;5;124m\"\u001B[39m]:\n\u001B[0;32m    583\u001B[0m         \u001B[38;5;28;01mraise\u001B[39;00m \u001B[38;5;167;01mValueError\u001B[39;00m(\n\u001B[0;32m    584\u001B[0m             \u001B[38;5;124mf\u001B[39m\u001B[38;5;124m\"\u001B[39m\u001B[38;5;124mThis \u001B[39m\u001B[38;5;132;01m{\u001B[39;00m\u001B[38;5;28mself\u001B[39m\u001B[38;5;241m.\u001B[39m\u001B[38;5;18m__class__\u001B[39m\u001B[38;5;241m.\u001B[39m\u001B[38;5;18m__name__\u001B[39m\u001B[38;5;132;01m}\u001B[39;00m\u001B[38;5;124m estimator \u001B[39m\u001B[38;5;124m\"\u001B[39m\n\u001B[0;32m    585\u001B[0m             \u001B[38;5;124m\"\u001B[39m\u001B[38;5;124mrequires y to be passed, but the target y is None.\u001B[39m\u001B[38;5;124m\"\u001B[39m\n\u001B[0;32m    586\u001B[0m         )\n",
      "File \u001B[1;32m~\\Desktop\\Python Workspace\\FirstTryMiller\\venv\\Lib\\site-packages\\sklearn\\base.py:507\u001B[0m, in \u001B[0;36mBaseEstimator._check_feature_names\u001B[1;34m(self, X, reset)\u001B[0m\n\u001B[0;32m    502\u001B[0m \u001B[38;5;28;01mif\u001B[39;00m \u001B[38;5;129;01mnot\u001B[39;00m missing_names \u001B[38;5;129;01mand\u001B[39;00m \u001B[38;5;129;01mnot\u001B[39;00m unexpected_names:\n\u001B[0;32m    503\u001B[0m     message \u001B[38;5;241m+\u001B[39m\u001B[38;5;241m=\u001B[39m (\n\u001B[0;32m    504\u001B[0m         \u001B[38;5;124m\"\u001B[39m\u001B[38;5;124mFeature names must be in the same order as they were in fit.\u001B[39m\u001B[38;5;130;01m\\n\u001B[39;00m\u001B[38;5;124m\"\u001B[39m\n\u001B[0;32m    505\u001B[0m     )\n\u001B[1;32m--> 507\u001B[0m \u001B[38;5;28;01mraise\u001B[39;00m \u001B[38;5;167;01mValueError\u001B[39;00m(message)\n",
      "\u001B[1;31mValueError\u001B[0m: The feature names should match those that were passed during fit.\nFeature names unseen at fit time:\n- kz\nFeature names seen at fit time, yet now missing:\n- kx\n"
     ]
    }
   ],
   "source": [
    "#Allenamento modello con ElasticNet\n",
    "#TODO: da sistemare -> VOGLIO SEMPLICEMENTE AGGIUNGERE UN MODELLO DI ALLENAMENTO.\n",
    "#PUò ESSERE IMPLEMENTATO SINGOLARMENTE QUI, OPPURE TORNARE NELLA PRIMA FASE DI ALLENAMENTO E GENERARE UN CICLO CHE ALLENA I MODELLI PER LO STESSO DATASET\n",
    "#IN UNA LISTA DI MODELLI, E POI STAMPARE I RISULTATI DI TUTTI I MODELLI IN UN GRAFICO A BARRE\n",
    "\n",
    "\n",
    "from sklearn.linear_model import ElasticNet\n",
    "from sklearn.metrics import r2_score\n",
    "\n",
    "# Crea un'istanza del modello Elastic Net\n",
    "elastic_net = ElasticNet(alpha=1.0, l1_ratio=0.5, random_state=42)  # Iperparametri alpha e l1_ratio possono essere regolati\n",
    "\n",
    "# Addestra il modello sui dati di addestramento\n",
    "elastic_net.fit(features_X_train, targets_X_train)\n",
    "elastic_net.fit(features_Y_train, targets_Y_train)\n",
    "elastic_net.fit(features_Z_train, targets_Z_train)\n",
    "\n",
    "# Fai previsioni con il modello\n",
    "predictions_elastic_X = elastic_net.predict(features_X_test)\n",
    "predictions_elastic_Y = elastic_net.predict(features_Y_test)\n",
    "predictions_elastic_Z = elastic_net.predict(features_Z_test)\n",
    "\n",
    "print(f\"R^2 Kx : {r2_score(targets_X_test, predictions_elastic_X)} \")\n",
    "print(f\"R^2 Ky : {r2_score(targets_Y_test, predictions_elastic_Y)} \")\n",
    "print(f\"R^2 Kz : {r2_score(targets_Z_test, predictions_elastic_Z)} \")\n"
   ],
   "metadata": {
    "collapsed": false,
    "ExecuteTime": {
     "end_time": "2023-11-08T17:06:52.316503200Z",
     "start_time": "2023-11-08T17:06:51.446697100Z"
    }
   },
   "id": "b19e737e445780d6"
  },
  {
   "cell_type": "code",
   "execution_count": 19,
   "outputs": [
    {
     "name": "stdout",
     "output_type": "stream",
     "text": [
      "Using downloaded and verified file: C:\\Users\\Utente\\drd_data\\Berea_2d25um_grayscale.raw\n"
     ]
    },
    {
     "ename": "ValueError",
     "evalue": "A 3-dimensional array was passed to imshow(), but there is no dimension that could be color.  At least one dimension must be of size 3 (RGB) or 4 (RGBA), and not given as x or y.",
     "output_type": "error",
     "traceback": [
      "\u001B[1;31m---------------------------------------------------------------------------\u001B[0m",
      "\u001B[1;31mValueError\u001B[0m                                Traceback (most recent call last)",
      "Cell \u001B[1;32mIn[19], line 20\u001B[0m\n\u001B[0;32m     16\u001B[0m dtype \u001B[38;5;241m=\u001B[39m np\u001B[38;5;241m.\u001B[39muint8\n\u001B[0;32m     19\u001B[0m \u001B[38;5;66;03m# Usa .plot.imshow per visualizzare l'immagine\u001B[39;00m\n\u001B[1;32m---> 20\u001B[0m \u001B[43mimg\u001B[49m\u001B[38;5;241;43m.\u001B[39;49m\u001B[43mplot\u001B[49m\u001B[38;5;241;43m.\u001B[39;49m\u001B[43mimshow\u001B[49m\u001B[43m(\u001B[49m\u001B[43mcmap\u001B[49m\u001B[38;5;241;43m=\u001B[39;49m\u001B[38;5;124;43m'\u001B[39;49m\u001B[38;5;124;43mgray\u001B[39;49m\u001B[38;5;124;43m'\u001B[39;49m\u001B[43m,\u001B[49m\u001B[43m \u001B[49m\u001B[43maspect\u001B[49m\u001B[38;5;241;43m=\u001B[39;49m\u001B[38;5;124;43m'\u001B[39;49m\u001B[38;5;124;43mauto\u001B[39;49m\u001B[38;5;124;43m'\u001B[39;49m\u001B[43m)\u001B[49m\n\u001B[0;32m     21\u001B[0m plt\u001B[38;5;241m.\u001B[39mshow()\n\u001B[0;32m     24\u001B[0m \u001B[38;5;66;03m# Ad esempio, stampa le prime 5 righe di ciascuna dimensione\u001B[39;00m\n\u001B[0;32m     25\u001B[0m \u001B[38;5;66;03m# print(img[:5, :5, :5])\u001B[39;00m\n\u001B[0;32m     26\u001B[0m \u001B[38;5;66;03m# \u001B[39;00m\n\u001B[1;32m   (...)\u001B[0m\n\u001B[0;32m    126\u001B[0m \u001B[38;5;66;03m# # Show the plot\u001B[39;00m\n\u001B[0;32m    127\u001B[0m \u001B[38;5;66;03m# plt.show()\u001B[39;00m\n",
      "File \u001B[1;32m~\\Desktop\\Loris_WorkSpace\\Permeability_Eval_AI\\venv\\Lib\\site-packages\\xarray\\plot\\accessor.py:433\u001B[0m, in \u001B[0;36mDataArrayPlotAccessor.imshow\u001B[1;34m(self, *args, **kwargs)\u001B[0m\n\u001B[0;32m    431\u001B[0m \u001B[38;5;129m@functools\u001B[39m\u001B[38;5;241m.\u001B[39mwraps(dataarray_plot\u001B[38;5;241m.\u001B[39mimshow, assigned\u001B[38;5;241m=\u001B[39m(\u001B[38;5;124m\"\u001B[39m\u001B[38;5;124m__doc__\u001B[39m\u001B[38;5;124m\"\u001B[39m,))\n\u001B[0;32m    432\u001B[0m \u001B[38;5;28;01mdef\u001B[39;00m \u001B[38;5;21mimshow\u001B[39m(\u001B[38;5;28mself\u001B[39m, \u001B[38;5;241m*\u001B[39margs, \u001B[38;5;241m*\u001B[39m\u001B[38;5;241m*\u001B[39mkwargs) \u001B[38;5;241m-\u001B[39m\u001B[38;5;241m>\u001B[39m AxesImage \u001B[38;5;241m|\u001B[39m FacetGrid[DataArray]:\n\u001B[1;32m--> 433\u001B[0m     \u001B[38;5;28;01mreturn\u001B[39;00m \u001B[43mdataarray_plot\u001B[49m\u001B[38;5;241;43m.\u001B[39;49m\u001B[43mimshow\u001B[49m\u001B[43m(\u001B[49m\u001B[38;5;28;43mself\u001B[39;49m\u001B[38;5;241;43m.\u001B[39;49m\u001B[43m_da\u001B[49m\u001B[43m,\u001B[49m\u001B[43m \u001B[49m\u001B[38;5;241;43m*\u001B[39;49m\u001B[43margs\u001B[49m\u001B[43m,\u001B[49m\u001B[43m \u001B[49m\u001B[38;5;241;43m*\u001B[39;49m\u001B[38;5;241;43m*\u001B[39;49m\u001B[43mkwargs\u001B[49m\u001B[43m)\u001B[49m\n",
      "File \u001B[1;32m~\\Desktop\\Loris_WorkSpace\\Permeability_Eval_AI\\venv\\Lib\\site-packages\\xarray\\plot\\dataarray_plot.py:1543\u001B[0m, in \u001B[0;36m_plot2d.<locals>.newplotfunc\u001B[1;34m(***failed resolving arguments***)\u001B[0m\n\u001B[0;32m   1537\u001B[0m \u001B[38;5;28;01melif\u001B[39;00m rgb \u001B[38;5;129;01mis\u001B[39;00m \u001B[38;5;129;01mnot\u001B[39;00m \u001B[38;5;28;01mNone\u001B[39;00m \u001B[38;5;129;01mand\u001B[39;00m \u001B[38;5;129;01mnot\u001B[39;00m imshow_rgb:\n\u001B[0;32m   1538\u001B[0m     \u001B[38;5;28;01mraise\u001B[39;00m \u001B[38;5;167;01mValueError\u001B[39;00m(\n\u001B[0;32m   1539\u001B[0m         \u001B[38;5;124m'\u001B[39m\u001B[38;5;124mThe \u001B[39m\u001B[38;5;124m\"\u001B[39m\u001B[38;5;124mrgb\u001B[39m\u001B[38;5;124m\"\u001B[39m\u001B[38;5;124m keyword is only valid for imshow()\u001B[39m\u001B[38;5;124m'\u001B[39m\n\u001B[0;32m   1540\u001B[0m         \u001B[38;5;124m\"\u001B[39m\u001B[38;5;124mwith a three-dimensional array (per facet)\u001B[39m\u001B[38;5;124m\"\u001B[39m\n\u001B[0;32m   1541\u001B[0m     )\n\u001B[1;32m-> 1543\u001B[0m xlab, ylab \u001B[38;5;241m=\u001B[39m \u001B[43m_infer_xy_labels\u001B[49m\u001B[43m(\u001B[49m\n\u001B[0;32m   1544\u001B[0m \u001B[43m    \u001B[49m\u001B[43mdarray\u001B[49m\u001B[38;5;241;43m=\u001B[39;49m\u001B[43mdarray\u001B[49m\u001B[43m,\u001B[49m\u001B[43m \u001B[49m\u001B[43mx\u001B[49m\u001B[38;5;241;43m=\u001B[39;49m\u001B[43mx\u001B[49m\u001B[43m,\u001B[49m\u001B[43m \u001B[49m\u001B[43my\u001B[49m\u001B[38;5;241;43m=\u001B[39;49m\u001B[43my\u001B[49m\u001B[43m,\u001B[49m\u001B[43m \u001B[49m\u001B[43mimshow\u001B[49m\u001B[38;5;241;43m=\u001B[39;49m\u001B[43mimshow_rgb\u001B[49m\u001B[43m,\u001B[49m\u001B[43m \u001B[49m\u001B[43mrgb\u001B[49m\u001B[38;5;241;43m=\u001B[39;49m\u001B[43mrgb\u001B[49m\n\u001B[0;32m   1545\u001B[0m \u001B[43m\u001B[49m\u001B[43m)\u001B[49m\n\u001B[0;32m   1547\u001B[0m xval \u001B[38;5;241m=\u001B[39m darray[xlab]\n\u001B[0;32m   1548\u001B[0m yval \u001B[38;5;241m=\u001B[39m darray[ylab]\n",
      "File \u001B[1;32m~\\Desktop\\Loris_WorkSpace\\Permeability_Eval_AI\\venv\\Lib\\site-packages\\xarray\\plot\\utils.py:392\u001B[0m, in \u001B[0;36m_infer_xy_labels\u001B[1;34m(darray, x, y, imshow, rgb)\u001B[0m\n\u001B[0;32m    389\u001B[0m     \u001B[38;5;28;01mraise\u001B[39;00m \u001B[38;5;167;01mValueError\u001B[39;00m(\u001B[38;5;124m\"\u001B[39m\u001B[38;5;124mx and y cannot be equal.\u001B[39m\u001B[38;5;124m\"\u001B[39m)\n\u001B[0;32m    391\u001B[0m \u001B[38;5;28;01mif\u001B[39;00m imshow \u001B[38;5;129;01mand\u001B[39;00m darray\u001B[38;5;241m.\u001B[39mndim \u001B[38;5;241m==\u001B[39m \u001B[38;5;241m3\u001B[39m:\n\u001B[1;32m--> 392\u001B[0m     \u001B[38;5;28;01mreturn\u001B[39;00m \u001B[43m_infer_xy_labels_3d\u001B[49m\u001B[43m(\u001B[49m\u001B[43mdarray\u001B[49m\u001B[43m,\u001B[49m\u001B[43m \u001B[49m\u001B[43mx\u001B[49m\u001B[43m,\u001B[49m\u001B[43m \u001B[49m\u001B[43my\u001B[49m\u001B[43m,\u001B[49m\u001B[43m \u001B[49m\u001B[43mrgb\u001B[49m\u001B[43m)\u001B[49m\n\u001B[0;32m    394\u001B[0m \u001B[38;5;28;01mif\u001B[39;00m x \u001B[38;5;129;01mis\u001B[39;00m \u001B[38;5;28;01mNone\u001B[39;00m \u001B[38;5;129;01mand\u001B[39;00m y \u001B[38;5;129;01mis\u001B[39;00m \u001B[38;5;28;01mNone\u001B[39;00m:\n\u001B[0;32m    395\u001B[0m     \u001B[38;5;28;01mif\u001B[39;00m darray\u001B[38;5;241m.\u001B[39mndim \u001B[38;5;241m!=\u001B[39m \u001B[38;5;241m2\u001B[39m:\n",
      "File \u001B[1;32m~\\Desktop\\Loris_WorkSpace\\Permeability_Eval_AI\\venv\\Lib\\site-packages\\xarray\\plot\\utils.py:347\u001B[0m, in \u001B[0;36m_infer_xy_labels_3d\u001B[1;34m(darray, x, y, rgb)\u001B[0m\n\u001B[0;32m    341\u001B[0m could_be_color \u001B[38;5;241m=\u001B[39m [\n\u001B[0;32m    342\u001B[0m     label\n\u001B[0;32m    343\u001B[0m     \u001B[38;5;28;01mfor\u001B[39;00m label \u001B[38;5;129;01min\u001B[39;00m darray\u001B[38;5;241m.\u001B[39mdims\n\u001B[0;32m    344\u001B[0m     \u001B[38;5;28;01mif\u001B[39;00m darray[label]\u001B[38;5;241m.\u001B[39msize \u001B[38;5;129;01min\u001B[39;00m (\u001B[38;5;241m3\u001B[39m, \u001B[38;5;241m4\u001B[39m) \u001B[38;5;129;01mand\u001B[39;00m label \u001B[38;5;129;01mnot\u001B[39;00m \u001B[38;5;129;01min\u001B[39;00m (x, y)\n\u001B[0;32m    345\u001B[0m ]\n\u001B[0;32m    346\u001B[0m \u001B[38;5;28;01mif\u001B[39;00m rgb \u001B[38;5;129;01mis\u001B[39;00m \u001B[38;5;28;01mNone\u001B[39;00m \u001B[38;5;129;01mand\u001B[39;00m \u001B[38;5;129;01mnot\u001B[39;00m could_be_color:\n\u001B[1;32m--> 347\u001B[0m     \u001B[38;5;28;01mraise\u001B[39;00m \u001B[38;5;167;01mValueError\u001B[39;00m(\n\u001B[0;32m    348\u001B[0m         \u001B[38;5;124m\"\u001B[39m\u001B[38;5;124mA 3-dimensional array was passed to imshow(), but there is no \u001B[39m\u001B[38;5;124m\"\u001B[39m\n\u001B[0;32m    349\u001B[0m         \u001B[38;5;124m\"\u001B[39m\u001B[38;5;124mdimension that could be color.  At least one dimension must be \u001B[39m\u001B[38;5;124m\"\u001B[39m\n\u001B[0;32m    350\u001B[0m         \u001B[38;5;124m\"\u001B[39m\u001B[38;5;124mof size 3 (RGB) or 4 (RGBA), and not given as x or y.\u001B[39m\u001B[38;5;124m\"\u001B[39m\n\u001B[0;32m    351\u001B[0m     )\n\u001B[0;32m    352\u001B[0m \u001B[38;5;28;01mif\u001B[39;00m rgb \u001B[38;5;129;01mis\u001B[39;00m \u001B[38;5;28;01mNone\u001B[39;00m \u001B[38;5;129;01mand\u001B[39;00m \u001B[38;5;28mlen\u001B[39m(could_be_color) \u001B[38;5;241m==\u001B[39m \u001B[38;5;241m1\u001B[39m:\n\u001B[0;32m    353\u001B[0m     rgb \u001B[38;5;241m=\u001B[39m could_be_color[\u001B[38;5;241m0\u001B[39m]\n",
      "\u001B[1;31mValueError\u001B[0m: A 3-dimensional array was passed to imshow(), but there is no dimension that could be color.  At least one dimension must be of size 3 (RGB) or 4 (RGBA), and not given as x or y."
     ]
    }
   ],
   "source": [
    "#Qui inizio a caricare il dataset Berea SandStones\n",
    "#Libreria 'drd' by @Lukas Mosser\n",
    "import numpy as np\n",
    "import matplotlib.pyplot as plt\n",
    "from drd.datasets.eleven_sandstones import load_eleven_sandstones\n",
    "\n",
    "# xarray DataArray with image data\n",
    "img = load_eleven_sandstones(\"Berea\", \"Berea_2d25um_grayscale.raw\")\n",
    "\n",
    "data = img.values\n",
    "\n",
    "# Specifica le dimensioni del tuo array (ad esempio, 1000x1000x1000 per il tuo caso)\n",
    "shape = (400, 400, 400)\n",
    "\n",
    "# Specifica il tipo di dato dei tuoi dati (ad esempio, np.uint8 per immagini a scala di grigi)\n",
    "dtype = np.uint8\n",
    "\n",
    "\n",
    "# Usa .plot.imshow per visualizzare l'immagine\n",
    "img.plot.imshow(cmap='gray', aspect='auto')\n",
    "plt.show()\n",
    "\n",
    "\n",
    "# Ad esempio, stampa le prime 5 righe di ciascuna dimensione\n",
    "# print(img[:5, :5, :5])\n",
    "# \n",
    "# \n",
    "# \n",
    "# \n",
    "# import numpy as np\n",
    "# \n",
    "# # Specifica il percorso del file RAW\n",
    "# file_path = \"C:/Users/Utente/Desktop/Berea.raw\"\n",
    "# \n",
    "# \n",
    "# # Specifica le dimensioni del tuo array (ad esempio, 1000x1000x1000 per il tuo caso)\n",
    "# shape = (400, 400, 400)\n",
    "# \n",
    "# # Specifica il tipo di dato dei tuoi dati (ad esempio, np.uint8 per immagini a scala di grigi)\n",
    "# dtype = np.uint8\n",
    "# \n",
    "# \n",
    "# # Carica il file RAW in un array NumPy\n",
    "# raw_data = np.fromfile(file_path, dtype=dtype).reshape(shape)\n",
    "# \n",
    "# \n",
    "# \n",
    "# # Ad esempio, stampa le prime 5 righe di ciascuna dimensione\n",
    "# print(raw_data[:5, :5, :5])\n",
    "\n",
    "\n",
    "# Extract data from the dataset\n",
    "# data = img.values\n",
    "# \n",
    "# print(data)\n",
    "# \n",
    "# # Converte l'oggetto xarray in un DataFrame\n",
    "# df = img.to_dataframe()\n",
    "# \n",
    "# # Aggiunge le coordinate come colonne separate\n",
    "# df['x'] = df.index.get_level_values('x')\n",
    "# df['y'] = df.index.get_level_values('y')\n",
    "# df['z'] = df.index.get_level_values('z')\n",
    "# \n",
    "# # Resetta l'indice per ottenere colonne ordinarie\n",
    "# df.reset_index(drop=True, inplace=True)\n",
    "# \n",
    "# # Ora df è un DataFrame con le colonne 'x', 'y', 'z' e i valori originali\n",
    "# print(df.head())\n",
    "# \n",
    "# df_parts = np.split(df, 4)\n",
    "# df_quart = df_parts[0]\n",
    "# \n",
    "# \n",
    "# \n",
    "# # Dati\n",
    "# x = df_quart['x']\n",
    "# y = df_quart['y']\n",
    "# z = df_quart['z']\n",
    "# intensity = df_quart['Berea_2d25um_grayscale.raw']\n",
    "# \n",
    "# # Crea una figura 3D\n",
    "# fig = plt.figure()\n",
    "# ax = fig.add_subplot(111, projection='3d')\n",
    "# \n",
    "# # Crea uno scatter plot 3D\n",
    "# scatter = ax.scatter(x, y, z, c=intensity, cmap='gray')\n",
    "# \n",
    "# # Aggiungi una barra dei colori\n",
    "# cbar = fig.colorbar(scatter)\n",
    "# \n",
    "# # Aggiungi etichette agli assi\n",
    "# ax.set_xlabel('X')\n",
    "# ax.set_ylabel('Y')\n",
    "# ax.set_zlabel('Z')\n",
    "# ax.set_title('Immagine 3D a scala di grigi')\n",
    "# \n",
    "# # Mostra il grafico\n",
    "# plt.show()\n",
    "# \n",
    "# \n",
    "# \n",
    "# # Create a 3D grid for points (x, y, z)\n",
    "# x, y, z = img.x.values, img.y.values, img.z.values\n",
    "# \n",
    "# # Flatten the data arrays\n",
    "# x_flat, y_flat, z_flat, data_flat = x.flatten(), y.flatten(), z.flatten(), data.flatten()\n",
    "\n",
    "# Create a figure and 3D axes\n",
    "\n",
    "\n",
    "# figure = plt.figure()\n",
    "# ax = figure.add_subplot(111, projection='3d')\n",
    "# \n",
    "# # Plot the data in 3D with the colormap\n",
    "# sc = ax.scatter(x_flat, y_flat, z_flat, c=data_flat, cmap='viridis')\n",
    "# \n",
    "# # Add a color bar\n",
    "# cbar = figure.colorbar(sc)\n",
    "# \n",
    "# # Add labels to the axes\n",
    "# ax.set_xlabel('X')\n",
    "# ax.set_ylabel('Y')\n",
    "# ax.set_zlabel('Z')\n",
    "# \n",
    "# # Show the plot\n",
    "# plt.show()\n"
   ],
   "metadata": {
    "collapsed": false,
    "ExecuteTime": {
     "end_time": "2023-11-15T15:46:39.745795600Z",
     "start_time": "2023-11-15T15:46:38.797030800Z"
    }
   },
   "id": "55fff343f8460ab"
  },
  {
   "cell_type": "code",
   "execution_count": null,
   "outputs": [],
   "source": [
    "#Utilizzo il modello per fare previsioni\n",
    "#Prendo un esempio dal dataset\n",
    "example = df_imputed.iloc[0]\n",
    "\n",
    "#Prendo solo le features\n",
    "example = example.drop(['kx', 'ky', 'kz'])\n",
    "\n",
    "#Prendo solo i valori\n",
    "example = example.values.reshape(1, -1)\n",
    "\n",
    "#Prendo le previsioni\n",
    "prediction = model_kx.predict(example)\n",
    "\n",
    "#Stampo le previsioni\n",
    "print(f\"Previsioni: {prediction}\")\n"
   ],
   "metadata": {
    "collapsed": false,
    "ExecuteTime": {
     "start_time": "2023-11-08T17:06:52.328470500Z"
    }
   },
   "id": "e41a6146a51992aa"
  },
  {
   "cell_type": "code",
   "execution_count": null,
   "outputs": [],
   "source": [],
   "metadata": {
    "collapsed": false,
    "ExecuteTime": {
     "start_time": "2023-11-08T17:06:52.329467800Z"
    }
   },
   "id": "7628bb74946fa984"
  }
 ],
 "metadata": {
  "kernelspec": {
   "display_name": "Python 3",
   "language": "python",
   "name": "python3"
  },
  "language_info": {
   "codemirror_mode": {
    "name": "ipython",
    "version": 2
   },
   "file_extension": ".py",
   "mimetype": "text/x-python",
   "name": "python",
   "nbconvert_exporter": "python",
   "pygments_lexer": "ipython2",
   "version": "2.7.6"
  }
 },
 "nbformat": 4,
 "nbformat_minor": 5
}
