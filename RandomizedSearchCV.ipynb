{
 "cells": [
  {
   "cell_type": "code",
   "execution_count": 1,
   "id": "initial_id",
   "metadata": {
    "collapsed": true,
    "ExecuteTime": {
     "end_time": "2024-06-25T16:49:52.968483900Z",
     "start_time": "2024-06-25T16:49:51.679690300Z"
    }
   },
   "outputs": [],
   "source": [
    "import pandas as pd\n",
    "import numpy as np\n",
    "from sklearn.preprocessing import MinMaxScaler\n",
    "from sklearn.model_selection import train_test_split, RandomizedSearchCV\n",
    "from sklearn.metrics import r2_score, mean_absolute_error, mean_squared_error\n",
    "import matplotlib.pyplot as plt\n",
    "from xgboost import XGBRegressor\n",
    "\n",
    "# Carica il dataset\n",
    "xlsx_file = 'dataset/richerDataset.xlsx'\n",
    "df = pd.read_excel(xlsx_file)\n"
   ]
  },
  {
   "cell_type": "code",
   "execution_count": 2,
   "outputs": [],
   "source": [
    "# Pulisci il dataset\n",
    "df = df[df['k_m2'] != 0]\n",
    "df = df.drop(['Porosity_Tot', 'SSA_Tot'], axis=1)\n",
    "df.reset_index(drop=True, inplace=True)\n",
    "\n",
    "# Trasforma la colonna 'k_m2' con log10\n",
    "df['k_m2'] = np.log10(df['k_m2'])\n"
   ],
   "metadata": {
    "collapsed": false,
    "ExecuteTime": {
     "end_time": "2024-06-25T16:49:56.613938800Z",
     "start_time": "2024-06-25T16:49:56.566995800Z"
    }
   },
   "id": "72a4dff2922a3e8c"
  },
  {
   "cell_type": "code",
   "execution_count": 3,
   "outputs": [
    {
     "name": "stdout",
     "output_type": "stream",
     "text": [
      "    Conn.Dens.  Porosity       SSA       Ech  Tortuosity      k_m2\n",
      "0     0.502894  0.422383  0.449469  0.933953    0.222507  0.476669\n",
      "1     0.502894  0.458484  0.469240  0.919672    0.424816  0.526208\n",
      "2     0.502894  0.400722  0.410769  0.950032    0.246553  0.694191\n",
      "3     0.568572  0.342960  0.503944  0.865322    0.911510  0.427581\n",
      "4     0.568572  0.429603  0.699968  0.626641    0.402373  0.421597\n",
      "5     0.568572  0.342960  0.475339  0.914392    0.885220  0.473661\n",
      "6     0.598718  0.411552  0.651909  0.686278    0.459763  0.325166\n",
      "7     0.598718  0.425993  0.666842  0.699600    0.461366  0.591105\n",
      "8     0.598718  0.346570  0.473131  0.895433    0.810516  0.508338\n",
      "9     0.000000  0.000000  0.000000  0.994648    0.564283  0.292215\n",
      "10    0.000000  0.000000  0.001577  1.000000    0.500160  0.298538\n",
      "11    0.749909  0.913357  0.728783  0.721735    0.120872  0.898455\n",
      "12    0.749909  0.830325  0.639289  0.793641    0.004168  0.855751\n",
      "13    0.749909  0.884477  0.711852  0.742171    0.074703  0.893274\n",
      "14    1.000000  0.830325  0.690083  0.583992    0.000000  0.780892\n",
      "15    1.000000  0.942238  0.796298  0.289794    0.010260  1.000000\n",
      "16    1.000000  1.000000  0.876223  0.000000    0.107406  0.945880\n",
      "17    0.489861  0.198556  0.416027  0.643358    0.410709  0.305634\n",
      "18    0.489861  0.212996  0.449469  0.572330    0.608528  0.247994\n",
      "19    0.464850  0.198556  0.416027  0.643358    0.537833  0.305634\n",
      "20    0.464850  0.212996  0.449469  0.572330    0.763867  0.247994\n",
      "21    0.330257  0.151625  0.361342  0.637255    0.664957  0.362618\n",
      "22    0.330257  0.166065  0.393417  0.556134    0.919205  0.000000\n",
      "23    0.647493  0.472924  0.721527  0.659326    0.632671  0.402788\n",
      "24    0.647493  0.472924  0.721632  0.637042    0.657262  0.456153\n",
      "25    0.647493  0.462094  0.706594  0.668411    0.788714  0.360449\n",
      "26    0.496416  0.418773  0.996530  0.445617    0.560115  0.288771\n",
      "27    0.496416  0.422383  1.000000  0.443032    0.466496  0.332076\n",
      "28    0.496416  0.375451  0.893995  0.559845    0.719782  0.392213\n",
      "29    0.496416  0.418773  0.996530  0.445617    0.560115  0.288771\n",
      "30    0.496416  0.422383  1.000000  0.443032    0.466496  0.332076\n",
      "31    0.496416  0.375451  0.893995  0.559845    0.719782  0.392213\n",
      "32    0.461442  0.281588  0.766537  0.637746    0.641231  0.229757\n",
      "33    0.461442  0.317690  0.838574  0.560352    0.727477  0.255869\n",
      "34    0.461442  0.299639  0.806815  0.556672    0.964732  0.227920\n",
      "35    0.176860  0.303249  0.552740  0.807528    0.855082  0.366044\n",
      "36    0.176860  0.281588  0.539699  0.809842    0.473870  0.300160\n",
      "37    0.176860  0.274368  0.527605  0.815992    0.739340  0.144344\n",
      "38    0.142503  0.259928  0.486171  0.857682    0.923373  0.350056\n",
      "39    0.142503  0.263538  0.489221  0.858242    0.925297  0.475589\n",
      "40    0.142503  0.259928  0.487328  0.857443    0.923373  0.361153\n",
      "41    0.097330  0.205776  0.360080  0.884037    0.941969  0.273096\n",
      "42    0.097330  0.202166  0.362709  0.881640    0.863738  0.434005\n",
      "43    0.097330  0.191336  0.341150  0.896736    1.000000  0.358997\n",
      "44    0.010959  0.021661  0.043958  0.967813    0.474832  0.239655\n",
      "45    0.029716  0.075812  0.162898  0.953654    0.725874  0.416003\n",
      "46    0.029716  0.079422  0.172784  0.929480    0.724591  0.308036\n"
     ]
    }
   ],
   "source": [
    "# Scala i dati\n",
    "scaler = MinMaxScaler()\n",
    "scaled_data = scaler.fit_transform(df)\n",
    "df_scaled = pd.DataFrame(scaled_data, columns=df.columns)\n",
    "print(df_scaled)"
   ],
   "metadata": {
    "collapsed": false,
    "ExecuteTime": {
     "end_time": "2024-06-25T16:50:07.254164300Z",
     "start_time": "2024-06-25T16:50:07.226005800Z"
    }
   },
   "id": "ade40623c28788fa"
  },
  {
   "cell_type": "code",
   "execution_count": 4,
   "outputs": [],
   "source": [
    "# Prepara le feature e i target\n",
    "features_X = df_scaled.drop(['k_m2'], axis=1)\n",
    "targets_X = df_scaled[['k_m2']]\n",
    "\n",
    "# Split dei dati\n",
    "X_train, X_test, y_train, y_test = train_test_split(features_X, targets_X, test_size=0.2, random_state=42)\n",
    "\n"
   ],
   "metadata": {
    "collapsed": false,
    "ExecuteTime": {
     "end_time": "2024-06-25T16:50:15.290471400Z",
     "start_time": "2024-06-25T16:50:15.285374200Z"
    }
   },
   "id": "b1a009567d79550e"
  },
  {
   "cell_type": "code",
   "execution_count": 11,
   "outputs": [],
   "source": [
    "# Funzione per valutare il modello\n",
    "def evaluate_model(model, X_test, y_test):\n",
    "    y_pred = model.predict(X_test)\n",
    "    r2 = r2_score(y_test, y_pred)\n",
    "    mse = mean_squared_error(y_test, y_pred)\n",
    "    mae = mean_absolute_error(y_test, y_pred)\n",
    "    rmse = np.sqrt(mse)\n",
    "    return r2, mse, mae, rmse, y_pred\n",
    "\n",
    "# Parametri per la ricerca randomica\n",
    "param_dist = {\n",
    "    'n_estimators': [50, 100, 200, ],\n",
    "    'learning_rate': [0.01, 0.05, 0.1],\n",
    "    'max_depth': [ 4, 5, 8, ],\n",
    "    'subsample': [0.8, 0.9, 1.0],\n",
    "    'colsample_bytree': [0.6, 0.7],\n",
    "    'gamma': [0, 0.1, 0.2]\n",
    "}\n"
   ],
   "metadata": {
    "collapsed": false,
    "ExecuteTime": {
     "end_time": "2024-06-25T16:57:29.407194800Z",
     "start_time": "2024-06-25T16:57:29.407194800Z"
    }
   },
   "id": "4d276b957d9fbb8f"
  },
  {
   "cell_type": "code",
   "execution_count": 12,
   "outputs": [
    {
     "name": "stdout",
     "output_type": "stream",
     "text": [
      "Fitting 37 folds for each of 486 candidates, totalling 17982 fits\n"
     ]
    },
    {
     "name": "stderr",
     "output_type": "stream",
     "text": [
      "C:\\Users\\loris\\Desktop\\Python Workspace\\FirstTryMiller\\venv\\Lib\\site-packages\\sklearn\\model_selection\\_search.py:979: UserWarning: One or more of the test scores are non-finite: [nan nan nan nan nan nan nan nan nan nan nan nan nan nan nan nan nan nan\n",
      " nan nan nan nan nan nan nan nan nan nan nan nan nan nan nan nan nan nan\n",
      " nan nan nan nan nan nan nan nan nan nan nan nan nan nan nan nan nan nan\n",
      " nan nan nan nan nan nan nan nan nan nan nan nan nan nan nan nan nan nan\n",
      " nan nan nan nan nan nan nan nan nan nan nan nan nan nan nan nan nan nan\n",
      " nan nan nan nan nan nan nan nan nan nan nan nan nan nan nan nan nan nan\n",
      " nan nan nan nan nan nan nan nan nan nan nan nan nan nan nan nan nan nan\n",
      " nan nan nan nan nan nan nan nan nan nan nan nan nan nan nan nan nan nan\n",
      " nan nan nan nan nan nan nan nan nan nan nan nan nan nan nan nan nan nan\n",
      " nan nan nan nan nan nan nan nan nan nan nan nan nan nan nan nan nan nan\n",
      " nan nan nan nan nan nan nan nan nan nan nan nan nan nan nan nan nan nan\n",
      " nan nan nan nan nan nan nan nan nan nan nan nan nan nan nan nan nan nan\n",
      " nan nan nan nan nan nan nan nan nan nan nan nan nan nan nan nan nan nan\n",
      " nan nan nan nan nan nan nan nan nan nan nan nan nan nan nan nan nan nan\n",
      " nan nan nan nan nan nan nan nan nan nan nan nan nan nan nan nan nan nan\n",
      " nan nan nan nan nan nan nan nan nan nan nan nan nan nan nan nan nan nan\n",
      " nan nan nan nan nan nan nan nan nan nan nan nan nan nan nan nan nan nan\n",
      " nan nan nan nan nan nan nan nan nan nan nan nan nan nan nan nan nan nan\n",
      " nan nan nan nan nan nan nan nan nan nan nan nan nan nan nan nan nan nan\n",
      " nan nan nan nan nan nan nan nan nan nan nan nan nan nan nan nan nan nan\n",
      " nan nan nan nan nan nan nan nan nan nan nan nan nan nan nan nan nan nan\n",
      " nan nan nan nan nan nan nan nan nan nan nan nan nan nan nan nan nan nan\n",
      " nan nan nan nan nan nan nan nan nan nan nan nan nan nan nan nan nan nan\n",
      " nan nan nan nan nan nan nan nan nan nan nan nan nan nan nan nan nan nan\n",
      " nan nan nan nan nan nan nan nan nan nan nan nan nan nan nan nan nan nan\n",
      " nan nan nan nan nan nan nan nan nan nan nan nan nan nan nan nan nan nan\n",
      " nan nan nan nan nan nan nan nan nan nan nan nan nan nan nan nan nan nan]\n",
      "  warnings.warn(\n"
     ]
    },
    {
     "name": "stdout",
     "output_type": "stream",
     "text": [
      "Migliori iperparametri trovati: {'colsample_bytree': 0.6, 'gamma': 0, 'learning_rate': 0.01, 'max_depth': 4, 'n_estimators': 50, 'subsample': 0.8}\n",
      "R^2: 0.5342123680004734\n",
      "MSE: 0.011818807158405572\n",
      "MAE: 0.08654113944410699\n",
      "RMSE: 0.1087143374095872\n"
     ]
    },
    {
     "data": {
      "text/plain": "<Figure size 600x600 with 1 Axes>",
      "image/png": "[encoded data removed]"
     },
     "metadata": {},
     "output_type": "display_data"
    }
   ],
   "source": [
    "from sklearn.model_selection import LeaveOneOut, GridSearchCV\n",
    "\n",
    "# Modello XGBoost\n",
    "xgb = XGBRegressor(random_state=50)\n",
    "\n",
    "loo = LeaveOneOut()\n",
    "\n",
    "# Ricerca randomica degli iperparametri\n",
    "grid_search = GridSearchCV(xgb, param_dist, scoring='r2', cv=loo, verbose=1, n_jobs=-1)\n",
    "grid_search.fit(X_train, y_train.values.ravel())\n",
    "\n",
    "# Migliori iperparametri\n",
    "best_model = grid_search.best_estimator_\n",
    "print(f\"Migliori iperparametri trovati: {grid_search.best_params_}\")\n",
    "\n",
    "# Valutazione del modello\n",
    "r2, mse, mae, rmse, y_pred = evaluate_model(best_model, X_test, y_test)\n",
    "\n",
    "print(f\"R^2: {r2}\")\n",
    "print(f\"MSE: {mse}\")\n",
    "print(f\"MAE: {mae}\")\n",
    "print(f\"RMSE: {rmse}\")\n",
    "\n",
    "# Plot dei valori reali vs. predetti\n",
    "plt.figure(figsize=(6, 6))\n",
    "plt.scatter(y_test, y_pred)\n",
    "plt.plot([y_test.min(), y_test.max()], [y_test.min(), y_test.max()], 'k--', lw=2)\n",
    "plt.xlabel('Valori Reali')\n",
    "plt.ylabel('Valori Predetti')\n",
    "plt.title('Valori Reali vs. Valori Predetti')\n",
    "plt.grid(True)\n",
    "plt.show()"
   ],
   "metadata": {
    "collapsed": false,
    "ExecuteTime": {
     "end_time": "2024-06-25T16:59:46.018808400Z",
     "start_time": "2024-06-25T16:57:31.759629900Z"
    }
   },
   "id": "d0cf1aadfbe68cac"
  },
  {
   "cell_type": "code",
   "execution_count": null,
   "outputs": [],
   "source": [],
   "metadata": {
    "collapsed": false
   },
   "id": "6f184a6a27bd77f7"
  },
  {
   "cell_type": "code",
   "execution_count": null,
   "outputs": [],
   "source": [],
   "metadata": {
    "collapsed": false
   },
   "id": "9d02948b5685db2c"
  }
 ],
 "metadata": {
  "kernelspec": {
   "display_name": "Python 3",
   "language": "python",
   "name": "python3"
  },
  "language_info": {
   "codemirror_mode": {
    "name": "ipython",
    "version": 2
   },
   "file_extension": ".py",
   "mimetype": "text/x-python",
   "name": "python",
   "nbconvert_exporter": "python",
   "pygments_lexer": "ipython2",
   "version": "2.7.6"
  }
 },
 "nbformat": 4,
 "nbformat_minor": 5
}
