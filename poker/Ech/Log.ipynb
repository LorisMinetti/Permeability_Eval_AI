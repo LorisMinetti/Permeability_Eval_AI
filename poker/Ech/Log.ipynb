{
 "cells": [
  {
   "cell_type": "code",
   "execution_count": 10,
   "id": "initial_id",
   "metadata": {
    "collapsed": true,
    "ExecuteTime": {
     "end_time": "2024-06-30T09:28:30.436285400Z",
     "start_time": "2024-06-30T09:28:30.389517900Z"
    }
   },
   "outputs": [
    {
     "name": "stdout",
     "output_type": "stream",
     "text": [
      "    Conn.Dens.  Porosity     SSA      Ech  Tortuosity          k_m2\n",
      "0      310.913     0.137   5.065  -25.849      2.0340  1.473350e-12\n",
      "1      310.913     0.147   5.253  -31.002      2.6650  2.254724e-12\n",
      "2      310.913     0.131   4.697  -20.047      2.1090  9.543177e-12\n",
      "3      350.137     0.115   5.583  -50.613      4.1830  9.664920e-13\n",
      "4      350.137     0.139   7.447 -136.737      2.5950  9.180783e-13\n",
      "5      350.137     0.115   5.311  -32.907      4.1010  1.435774e-12\n",
      "6      368.141     0.134   6.990 -115.218      2.7740  4.010302e-13\n",
      "7      368.141     0.138   7.132 -110.411      2.7790  3.937021e-12\n",
      "8      368.141     0.116   5.290  -39.748      3.8680  1.933907e-12\n",
      "9       10.573     0.020   0.791   -3.948      3.1000  3.021802e-13\n",
      "10      10.573     0.020   0.806   -2.017      2.9000  3.190436e-13\n",
      "11     458.436     0.273   7.721 -102.424      1.7170  5.516051e-11\n",
      "12     458.436     0.250   6.870  -76.478      1.3530  3.822390e-11\n",
      "13     458.436     0.265   7.560  -95.050      1.5730  5.275967e-11\n",
      "14     607.796     0.250   7.353 -152.126      1.3400  2.009570e-11\n",
      "15     607.796     0.281   8.363 -258.282      1.3720  1.319490e-10\n",
      "16     607.796     0.297   9.123 -362.849      1.6750  8.289540e-11\n",
      "17     303.129     0.075   4.747 -130.705      2.6210  3.390944e-13\n",
      "18     303.129     0.079   5.065 -156.334      3.2380  2.066877e-13\n",
      "19     288.192     0.075   4.747 -130.705      3.0175  3.390944e-13\n",
      "20     288.192     0.079   5.065 -156.334      3.7225  2.066877e-13\n",
      "21     207.810     0.062   4.227 -132.907      3.4140  5.531944e-13\n",
      "22     207.810     0.066   4.532 -162.178      4.2070  2.456179e-14\n",
      "23     397.271     0.151   7.652 -124.943      3.3133  7.811227e-13\n",
      "24     397.271     0.151   7.653 -132.984      3.3900  1.235315e-12\n",
      "25     397.271     0.148   7.510 -121.665      3.8000  5.429843e-13\n",
      "26     307.044     0.136  10.267 -202.056      3.0870  2.933715e-13\n",
      "27     307.044     0.137  10.300 -202.989      2.7950  4.255505e-13\n",
      "28     307.044     0.124   9.292 -160.839      3.5850  7.133022e-13\n",
      "29     307.044     0.136  10.267 -202.056      3.0870  2.933715e-13\n",
      "30     307.044     0.137  10.300 -202.989      2.7950  4.255505e-13\n",
      "31     307.044     0.124   9.292 -160.839      3.5850  7.133022e-13\n",
      "32     286.157     0.098   8.080 -132.730      3.3400  1.767209e-13\n",
      "33     286.157     0.108   8.765 -160.656      3.6090  2.211503e-13\n",
      "34     286.157     0.103   8.463 -161.984      4.3490  1.739540e-13\n",
      "35     116.198     0.104   6.047  -71.467      4.0070  5.697167e-13\n",
      "36     116.198     0.098   5.923  -70.632      2.8180  3.235189e-13\n",
      "37     116.198     0.096   5.808  -68.413      3.6460  8.485641e-14\n",
      "38      95.679     0.092   5.414  -53.370      4.2200  4.966167e-13\n",
      "39      95.679     0.093   5.443  -53.168      4.2260  1.459741e-12\n",
      "40      95.679     0.092   5.425  -53.456      4.2200  5.462786e-13\n",
      "41      68.701     0.077   4.215  -43.860      4.2780  2.564176e-13\n",
      "42      68.701     0.076   4.240  -44.725      4.0340  1.021321e-12\n",
      "43      68.701     0.073   4.035  -39.278      4.4590  5.362540e-13\n",
      "44      17.118     0.026   1.209  -13.631      2.8210  1.924009e-13\n",
      "45      28.320     0.041   2.340  -18.740      3.6040  8.750106e-13\n",
      "46      28.320     0.042   2.434  -27.463      3.6000  3.461632e-13\n"
     ]
    }
   ],
   "source": [
    "import pandas as pd\n",
    "from pandas import DataFrame\n",
    "\n",
    "try:\n",
    "# Carica il tuo file XLSX\n",
    "    xlsx_file = 'C:/Users/loris/Desktop/Python Workspace/FirstTryMiller/dataset/richerDataset.xlsx'  # Sostituisci con il percorso del tuo file\n",
    "\n",
    "# Leggi i dati dal file XLSX e crea un DataFrame\n",
    "    df: DataFrame = pd.read_excel(xlsx_file)\n",
    "\n",
    "# Ora hai un DataFrame con tutti i dati dal tuo file XLSX che puoi utilizzare per l'analisi.\n",
    "except FileNotFoundError as e:\n",
    "    print(\"Il file non è stato trovato.\")\n",
    "    print(f\"Si è verificato un errore: {e}\")                                                          \n",
    "    \n",
    "# Rimuovi il record con k_m2 uguale a 0\n",
    "df = df[df['k_m2'] != 0]\n",
    "#Rimuovi colonne Porosity tot e SSA tot\n",
    "df = df.drop(['Porosity_Tot', 'SSA_Tot'], axis=1)\n",
    "# Resetta gli indici del DataFrame\n",
    "df.reset_index(drop=True, inplace=True)\n",
    "\n",
    "\n",
    "\n",
    "k2_max = df['k_m2'].max()\n",
    "k2_min = df['k_m2'].min()\n",
    "print(df)\n",
    "\n"
   ]
  },
  {
   "cell_type": "code",
   "execution_count": 11,
   "outputs": [
    {
     "name": "stdout",
     "output_type": "stream",
     "text": [
      "    Conn.Dens.  Porosity     SSA      Ech  Tortuosity       k_m2\n",
      "0      310.913     0.137   5.065  -25.849      2.0340 -11.831694\n",
      "1      310.913     0.147   5.253  -31.002      2.6650 -11.646907\n",
      "2      310.913     0.131   4.697  -20.047      2.1090 -11.020307\n",
      "3      350.137     0.115   5.583  -50.613      4.1830 -12.014802\n",
      "4      350.137     0.139   7.447 -136.737      2.5950 -12.037120\n",
      "5      350.137     0.115   5.311  -32.907      4.1010 -11.842914\n",
      "6      368.141     0.134   6.990 -115.218      2.7740 -12.396823\n",
      "7      368.141     0.138   7.132 -110.411      2.7790 -11.404832\n",
      "8      368.141     0.116   5.290  -39.748      3.8680 -11.713564\n",
      "9       10.573     0.020   0.791   -3.948      3.1000 -12.519734\n",
      "10      10.573     0.020   0.806   -2.017      2.9000 -12.496150\n",
      "11     458.436     0.273   7.721 -102.424      1.7170 -10.258372\n",
      "12     458.436     0.250   6.870  -76.478      1.3530 -10.417665\n",
      "13     458.436     0.265   7.560  -95.050      1.5730 -10.277698\n",
      "14     607.796     0.250   7.353 -152.126      1.3400 -10.696897\n",
      "15     607.796     0.281   8.363 -258.282      1.3720  -9.879594\n",
      "16     607.796     0.297   9.123 -362.849      1.6750 -10.081470\n",
      "17     303.129     0.075   4.747 -130.705      2.6210 -12.469679\n",
      "18     303.129     0.079   5.065 -156.334      3.2380 -12.684685\n",
      "19     288.192     0.075   4.747 -130.705      3.0175 -12.469679\n",
      "20     288.192     0.079   5.065 -156.334      3.7225 -12.684685\n",
      "21     207.810     0.062   4.227 -132.907      3.4140 -12.257122\n",
      "22     207.810     0.066   4.532 -162.178      4.2070 -13.609740\n",
      "23     397.271     0.151   7.652 -124.943      3.3133 -12.107281\n",
      "24     397.271     0.151   7.653 -132.984      3.3900 -11.908222\n",
      "25     397.271     0.148   7.510 -121.665      3.8000 -12.265213\n",
      "26     307.044     0.136  10.267 -202.056      3.0870 -12.532582\n",
      "27     307.044     0.137  10.300 -202.989      2.7950 -12.371049\n",
      "28     307.044     0.124   9.292 -160.839      3.5850 -12.146726\n",
      "29     307.044     0.136  10.267 -202.056      3.0870 -12.532582\n",
      "30     307.044     0.137  10.300 -202.989      2.7950 -12.371049\n",
      "31     307.044     0.124   9.292 -160.839      3.5850 -12.146726\n",
      "32     286.157     0.098   8.080 -132.730      3.3400 -12.752712\n",
      "33     286.157     0.108   8.765 -160.656      3.6090 -12.655313\n",
      "34     286.157     0.103   8.463 -161.984      4.3490 -12.759566\n",
      "35     116.198     0.104   6.047  -71.467      4.0070 -12.244341\n",
      "36     116.198     0.098   5.923  -70.632      2.8180 -12.490100\n",
      "37     116.198     0.096   5.808  -68.413      3.6460 -13.071315\n",
      "38      95.679     0.092   5.414  -53.370      4.2200 -12.303979\n",
      "39      95.679     0.093   5.443  -53.168      4.2260 -11.835724\n",
      "40      95.679     0.092   5.425  -53.456      4.2200 -12.262586\n",
      "41      68.701     0.077   4.215  -43.860      4.2780 -12.591052\n",
      "42      68.701     0.076   4.240  -44.725      4.0340 -11.990838\n",
      "43      68.701     0.073   4.035  -39.278      4.4590 -12.270629\n",
      "44      17.118     0.026   1.209  -13.631      2.8210 -12.715793\n",
      "45      28.320     0.041   2.340  -18.740      3.6040 -12.057987\n",
      "46      28.320     0.042   2.434  -27.463      3.6000 -12.460719\n"
     ]
    }
   ],
   "source": [
    "# Log-Trasformo la colonna k_m2 in base 10\n",
    "import numpy as np\n",
    "df['k_m2'] = np.log10(df['k_m2'])\n",
    "print(df)"
   ],
   "metadata": {
    "collapsed": false,
    "ExecuteTime": {
     "end_time": "2024-06-30T09:28:32.451832900Z",
     "start_time": "2024-06-30T09:28:32.428661200Z"
    }
   },
   "id": "f41ff37f335755fb"
  },
  {
   "cell_type": "code",
   "execution_count": 12,
   "outputs": [
    {
     "name": "stdout",
     "output_type": "stream",
     "text": [
      "DataFrame scalato:\n",
      "    Conn.Dens.  Porosity       SSA       Ech  Tortuosity      k_m2\n",
      "0     0.502894  0.422383  0.449469  0.933953    0.222507  0.476669\n",
      "1     0.502894  0.458484  0.469240  0.919672    0.424816  0.526208\n",
      "2     0.502894  0.400722  0.410769  0.950032    0.246553  0.694191\n",
      "3     0.568572  0.342960  0.503944  0.865322    0.911510  0.427581\n",
      "4     0.568572  0.429603  0.699968  0.626641    0.402373  0.421597\n",
      "5     0.568572  0.342960  0.475339  0.914392    0.885220  0.473661\n",
      "6     0.598718  0.411552  0.651909  0.686278    0.459763  0.325166\n",
      "7     0.598718  0.425993  0.666842  0.699600    0.461366  0.591105\n",
      "8     0.598718  0.346570  0.473131  0.895433    0.810516  0.508338\n",
      "9     0.000000  0.000000  0.000000  0.994648    0.564283  0.292215\n",
      "10    0.000000  0.000000  0.001577  1.000000    0.500160  0.298538\n",
      "11    0.749909  0.913357  0.728783  0.721735    0.120872  0.898455\n",
      "12    0.749909  0.830325  0.639289  0.793641    0.004168  0.855751\n",
      "13    0.749909  0.884477  0.711852  0.742171    0.074703  0.893274\n",
      "14    1.000000  0.830325  0.690083  0.583992    0.000000  0.780892\n",
      "15    1.000000  0.942238  0.796298  0.289794    0.010260  1.000000\n",
      "16    1.000000  1.000000  0.876223  0.000000    0.107406  0.945880\n",
      "17    0.489861  0.198556  0.416027  0.643358    0.410709  0.305634\n",
      "18    0.489861  0.212996  0.449469  0.572330    0.608528  0.247994\n",
      "19    0.464850  0.198556  0.416027  0.643358    0.537833  0.305634\n",
      "20    0.464850  0.212996  0.449469  0.572330    0.763867  0.247994\n",
      "21    0.330257  0.151625  0.361342  0.637255    0.664957  0.362618\n",
      "22    0.330257  0.166065  0.393417  0.556134    0.919205  0.000000\n",
      "23    0.647493  0.472924  0.721527  0.659326    0.632671  0.402788\n",
      "24    0.647493  0.472924  0.721632  0.637042    0.657262  0.456153\n",
      "25    0.647493  0.462094  0.706594  0.668411    0.788714  0.360449\n",
      "26    0.496416  0.418773  0.996530  0.445617    0.560115  0.288771\n",
      "27    0.496416  0.422383  1.000000  0.443032    0.466496  0.332076\n",
      "28    0.496416  0.375451  0.893995  0.559845    0.719782  0.392213\n",
      "29    0.496416  0.418773  0.996530  0.445617    0.560115  0.288771\n",
      "30    0.496416  0.422383  1.000000  0.443032    0.466496  0.332076\n",
      "31    0.496416  0.375451  0.893995  0.559845    0.719782  0.392213\n",
      "32    0.461442  0.281588  0.766537  0.637746    0.641231  0.229757\n",
      "33    0.461442  0.317690  0.838574  0.560352    0.727477  0.255869\n",
      "34    0.461442  0.299639  0.806815  0.556672    0.964732  0.227920\n",
      "35    0.176860  0.303249  0.552740  0.807528    0.855082  0.366044\n",
      "36    0.176860  0.281588  0.539699  0.809842    0.473870  0.300160\n",
      "37    0.176860  0.274368  0.527605  0.815992    0.739340  0.144344\n",
      "38    0.142503  0.259928  0.486171  0.857682    0.923373  0.350056\n",
      "39    0.142503  0.263538  0.489221  0.858242    0.925297  0.475589\n",
      "40    0.142503  0.259928  0.487328  0.857443    0.923373  0.361153\n",
      "41    0.097330  0.205776  0.360080  0.884037    0.941969  0.273096\n",
      "42    0.097330  0.202166  0.362709  0.881640    0.863738  0.434005\n",
      "43    0.097330  0.191336  0.341150  0.896736    1.000000  0.358997\n",
      "44    0.010959  0.021661  0.043958  0.967813    0.474832  0.239655\n",
      "45    0.029716  0.075812  0.162898  0.953654    0.725874  0.416003\n",
      "46    0.029716  0.079422  0.172784  0.929480    0.724591  0.308036\n"
     ]
    }
   ],
   "source": [
    "from sklearn.preprocessing import MinMaxScaler\n",
    "\n",
    "scaler = MinMaxScaler()\n",
    "\n",
    "scaled_data = scaler.fit_transform(df)\n",
    "# Crea un nuovo DataFrame con i dati scalati e riassegna le colonne non scalate\n",
    "#df_scaled = pd.DataFrame(scaled_data, columns=columns_to_scale)\n",
    "df_scaled = pd.DataFrame(scaled_data, columns=df.columns)\n",
    "\n",
    "# Stampa il DataFrame scalato\n",
    "print(\"DataFrame scalato:\")\n",
    "print(df_scaled)"
   ],
   "metadata": {
    "collapsed": false,
    "ExecuteTime": {
     "end_time": "2024-06-30T09:28:34.499676300Z",
     "start_time": "2024-06-30T09:28:34.466306400Z"
    }
   },
   "id": "b2d84b73a9525a6b"
  },
  {
   "cell_type": "code",
   "execution_count": 13,
   "outputs": [
    {
     "name": "stdout",
     "output_type": "stream",
     "text": [
      "Best combination found: {'split_random_state': 50, 'estimator_random_state': 0} with R^2 score: 0.9448467726050759\n"
     ]
    }
   ],
   "source": [
    "from sklearn.metrics import r2_score\n",
    "from xgboost import XGBRegressor\n",
    "from sklearn.model_selection import train_test_split\n",
    "\n",
    "# Trova la migliore combinazione di random_state per train_test_split e XGBoost\n",
    "best_combination = {'split_random_state': None, 'estimator_random_state': None}\n",
    "best_score = -float('inf')\n",
    "\n",
    "for split_random_state in range(0, 100):\n",
    "    X = df_scaled.drop('k_m2', axis=1)\n",
    "    y = df_scaled['k_m2']\n",
    "    \n",
    "    X_train, X_test, y_train, y_test = train_test_split(X, y, test_size=0.2, random_state=split_random_state)\n",
    "    \n",
    "    for estimator_random_state in range(0, 100):\n",
    "        model = XGBRegressor(random_state=estimator_random_state)\n",
    "        model.fit(X_train, y_train)\n",
    "        \n",
    "        y_pred = model.predict(X_test)\n",
    "        score = r2_score(y_test, y_pred)\n",
    "        \n",
    "        if score > best_score:\n",
    "            best_score = score\n",
    "            best_combination['split_random_state'] = split_random_state\n",
    "            best_combination['estimator_random_state'] = estimator_random_state\n",
    "\n",
    "print(f\"Best combination found: {best_combination} with R^2 score: {best_score}\")\n"
   ],
   "metadata": {
    "collapsed": false,
    "ExecuteTime": {
     "end_time": "2024-06-30T09:39:28.292179700Z",
     "start_time": "2024-06-30T09:29:17.882713400Z"
    }
   },
   "id": "cff5a612334c487"
  },
  {
   "cell_type": "code",
   "execution_count": 15,
   "outputs": [
    {
     "name": "stdout",
     "output_type": "stream",
     "text": [
      "Best random_state for train_test_split: 50 with R^2 score: 0.9448467726050759\n"
     ]
    }
   ],
   "source": [
    "best_random_state_split = None\n",
    "best_score_split = -float('inf')\n",
    "\n",
    "for random_state in range(0, 100):\n",
    "    X = df_scaled.drop('k_m2', axis=1)\n",
    "    y = df_scaled['k_m2']\n",
    "    \n",
    "    X_train, X_test, y_train, y_test = train_test_split(X, y, test_size=0.2, random_state=random_state)\n",
    "    \n",
    "    model = XGBRegressor()\n",
    "    model.fit(X_train, y_train)\n",
    "    \n",
    "    y_pred = model.predict(X_test)\n",
    "    score = r2_score(y_test, y_pred)\n",
    "    \n",
    "    if score > best_score_split:\n",
    "        best_score_split = score\n",
    "        best_random_state_split = random_state\n",
    "\n",
    "print(f\"Best random_state for train_test_split: {best_random_state_split} with R^2 score: {best_score_split}\")\n"
   ],
   "metadata": {
    "collapsed": false,
    "ExecuteTime": {
     "end_time": "2024-06-30T09:41:19.428808100Z",
     "start_time": "2024-06-30T09:41:13.110425300Z"
    }
   },
   "id": "7a1b2e51f32359c1"
  },
  {
   "cell_type": "code",
   "execution_count": 16,
   "outputs": [
    {
     "name": "stdout",
     "output_type": "stream",
     "text": [
      "Best random_state for XGBoost: 0 with R^2 score: 0.9448467726050759\n"
     ]
    }
   ],
   "source": [
    "best_random_state_estimator = None\n",
    "best_score_estimator = -float('inf')\n",
    "\n",
    "for random_state in range(0, 100):\n",
    "    X = df_scaled.drop('k_m2', axis=1)\n",
    "    y = df_scaled['k_m2']\n",
    "    \n",
    "    X_train, X_test, y_train, y_test = train_test_split(X, y, test_size=0.2, random_state=best_random_state_split)\n",
    "    \n",
    "    model = XGBRegressor(random_state=random_state)\n",
    "    model.fit(X_train, y_train)\n",
    "    \n",
    "    y_pred = model.predict(X_test)\n",
    "    score = r2_score(y_test, y_pred)\n",
    "    \n",
    "    if score > best_score_estimator:\n",
    "        best_score_estimator = score\n",
    "        best_random_state_estimator = random_state\n",
    "\n",
    "print(f\"Best random_state for XGBoost: {best_random_state_estimator} with R^2 score: {best_score_estimator}\")\n"
   ],
   "metadata": {
    "collapsed": false,
    "ExecuteTime": {
     "end_time": "2024-06-30T09:41:29.260824600Z",
     "start_time": "2024-06-30T09:41:22.242382900Z"
    }
   },
   "id": "bd59563c008761b4"
  },
  {
   "cell_type": "code",
   "execution_count": 19,
   "outputs": [
    {
     "data": {
      "text/plain": "Hyperparameter tuning:   0%|          | 0/243 [00:00<?, ?it/s]",
      "application/vnd.jupyter.widget-view+json": {
       "version_major": 2,
       "version_minor": 0,
       "model_id": "e380839eb2b046dd8bfa9b368d46f009"
      }
     },
     "metadata": {},
     "output_type": "display_data"
    },
    {
     "name": "stdout",
     "output_type": "stream",
     "text": [
      "Best parameters found: {'colsample_bytree': 0.7, 'learning_rate': 0.01, 'max_depth': 3, 'n_estimators': 200, 'subsample': 0.7}\n",
      "R^2 score: 0.8586562410218083\n",
      "MSE: 0.005833784127949277\n",
      "MAE: 0.060811828282189805\n"
     ]
    }
   ],
   "source": [
    "from sklearn.metrics import mean_squared_error, mean_absolute_error\n",
    "from sklearn.model_selection import GridSearchCV\n",
    "import logging\n",
    "from tqdm.notebook import tqdm\n",
    "\n",
    "\n",
    "# Configura il logger\n",
    "logging.basicConfig(level=logging.INFO, format='%(asctime)s - %(message)s')\n",
    "logger = logging.getLogger()\n",
    "\n",
    "\n",
    "param_grid = {\n",
    "    'n_estimators': [50, 100, 200],\n",
    "    'learning_rate': [0.01, 0.1, 0.3],\n",
    "    'max_depth': [3, 5, 7],\n",
    "    'subsample': [0.7, 0.8, 0.9],\n",
    "    'colsample_bytree': [0.7, 0.8, 0.9]\n",
    "}\n",
    "\n",
    "\n",
    "X = df_scaled.drop('k_m2', axis=1)\n",
    "y = df_scaled['k_m2']\n",
    "\n",
    "X_train, X_test, y_train, y_test = train_test_split(X, y, test_size=0.2, random_state=best_random_state_split)\n",
    "\n",
    "model = XGBRegressor(random_state=best_random_state_split)\n",
    "\n",
    "\n",
    "# Personalizza GridSearchCV per utilizzare tqdm\n",
    "class TQDMProgressBar(tqdm):\n",
    "    def __init__(self, *args, **kwargs):\n",
    "        super().__init__(*args, **kwargs)\n",
    "        self._logger = logger\n",
    "\n",
    "    def update_to(self, current, total):\n",
    "        self.n = current\n",
    "        self.total = total\n",
    "        self._logger.info(f'Progress: {self.n}/{self.total} ({self.n/self.total:.2%})')\n",
    "        self.refresh()\n",
    "\n",
    "progress_bar = TQDMProgressBar(total=len(param_grid['n_estimators']) * len(param_grid['learning_rate']) * len(param_grid['max_depth']) * len(param_grid['subsample']) * len(param_grid['colsample_bytree']), desc=\"Hyperparameter tuning\")\n",
    "\n",
    "\n",
    "\n",
    "grid_search = GridSearchCV(estimator=model, param_grid=param_grid, cv=5, scoring='r2')\n",
    "grid_search.fit(X_train, y_train)\n",
    "\n",
    "best_model = grid_search.best_estimator_\n",
    "y_pred = best_model.predict(X_test)\n",
    "\n",
    "print(f\"Best parameters found: {grid_search.best_params_}\")\n",
    "print(f\"R^2 score: {r2_score(y_test, y_pred)}\")\n",
    "print(f\"MSE: {mean_squared_error(y_test, y_pred)}\")\n",
    "print(f\"MAE: {mean_absolute_error(y_test, y_pred)}\")\n"
   ],
   "metadata": {
    "collapsed": false,
    "ExecuteTime": {
     "end_time": "2024-06-30T10:05:02.526551700Z",
     "start_time": "2024-06-30T10:03:22.513480100Z"
    }
   },
   "id": "15e93c12c36e7fc4"
  },
  {
   "cell_type": "code",
   "execution_count": 20,
   "outputs": [
    {
     "data": {
      "text/plain": "<Figure size 640x480 with 1 Axes>",
      "image/png": "[encoded data removed]"
     },
     "metadata": {},
     "output_type": "display_data"
    }
   ],
   "source": [
    "# Vorrei visualizzare il grafico con la retta bisettrice per valutare la bontà del modello\n",
    "import matplotlib.pyplot as plt\n",
    "\n",
    "plt.scatter(y_test, y_pred)\n",
    "plt.plot([y_test.min(), y_test.max()], [y_test.min(), y_test.max()], 'k--', lw=2)\n",
    "plt.xlabel('Measured')\n",
    "plt.ylabel('Predicted')\n",
    "plt.title('Measured vs Predicted')\n",
    "plt.show()"
   ],
   "metadata": {
    "collapsed": false,
    "ExecuteTime": {
     "end_time": "2024-06-30T10:05:37.571585500Z",
     "start_time": "2024-06-30T10:05:35.712293300Z"
    }
   },
   "id": "3ecc48adfc497800"
  },
  {
   "cell_type": "code",
   "execution_count": null,
   "outputs": [],
   "source": [],
   "metadata": {
    "collapsed": false
   },
   "id": "e0bbea33947e7061"
  }
 ],
 "metadata": {
  "kernelspec": {
   "display_name": "Python 3",
   "language": "python",
   "name": "python3"
  },
  "language_info": {
   "codemirror_mode": {
    "name": "ipython",
    "version": 2
   },
   "file_extension": ".py",
   "mimetype": "text/x-python",
   "name": "python",
   "nbconvert_exporter": "python",
   "pygments_lexer": "ipython2",
   "version": "2.7.6"
  }
 },
 "nbformat": 4,
 "nbformat_minor": 5
}
