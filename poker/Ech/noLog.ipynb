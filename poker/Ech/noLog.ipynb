{
 "cells": [
  {
   "cell_type": "code",
   "execution_count": null,
   "id": "initial_id",
   "metadata": {
    "collapsed": true
   },
   "outputs": [],
   "source": [
    "import pandas as pd\n",
    "from pandas import DataFrame\n",
    "\n",
    "try:\n",
    "# Carica il tuo file XLSX\n",
    "    xlsx_file = 'C:/Users/loris/Desktop/Python Workspace/FirstTryMiller/dataset/richerDataset.xlsx'  # Sostituisci con il percorso del tuo file\n",
    "\n",
    "# Leggi i dati dal file XLSX e crea un DataFrame\n",
    "    df: DataFrame = pd.read_excel(xlsx_file)\n",
    "\n",
    "# Ora hai un DataFrame con tutti i dati dal tuo file XLSX che puoi utilizzare per l'analisi.\n",
    "except FileNotFoundError as e:\n",
    "    print(\"Il file non è stato trovato.\")\n",
    "# except Exception as e:\n",
    "    print(f\"Si è verificato un errore: {e}\")                                                          \n",
    "    \n",
    "# Rimuovi il record con k_m2 uguale a 0\n",
    "df = df[df['k_m2'] != 0]\n",
    "#Rimuovi colonne Porosity tot e SSA tot\n",
    "df = df.drop(['Porosity_Tot', 'SSA_Tot'], axis=1)\n",
    "# Resetta gli indici del DataFrame\n",
    "df.reset_index(drop=True, inplace=True)\n",
    "\n",
    "\n",
    "\n",
    "k2_max = df['k_m2'].max()\n",
    "k2_min = df['k_m2'].min()\n",
    "print(df)\n",
    "\n"
   ]
  },
  {
   "cell_type": "code",
   "execution_count": null,
   "outputs": [],
   "source": [
    "\n",
    "from sklearn.preprocessing import MinMaxScaler\n",
    "\n",
    "scaler = MinMaxScaler()\n",
    "\n",
    "scaled_data = scaler.fit_transform(df)\n",
    "# Crea un nuovo DataFrame con i dati scalati e riassegna le colonne non scalate\n",
    "#df_scaled = pd.DataFrame(scaled_data, columns=columns_to_scale)\n",
    "df_scaled = pd.DataFrame(scaled_data, columns=df.columns)\n",
    "\n",
    "\n",
    "\n",
    "# Stampa il DataFrame scalato\n",
    "print(\"DataFrame scalato:\")\n",
    "print(df_scaled)"
   ],
   "metadata": {
    "collapsed": false
   },
   "id": "b7569d54c42316d7"
  },
  {
   "cell_type": "code",
   "execution_count": null,
   "outputs": [],
   "source": [],
   "metadata": {
    "collapsed": false
   },
   "id": "f5ed0d1abdf2549a"
  }
 ],
 "metadata": {
  "kernelspec": {
   "display_name": "Python 3",
   "language": "python",
   "name": "python3"
  },
  "language_info": {
   "codemirror_mode": {
    "name": "ipython",
    "version": 2
   },
   "file_extension": ".py",
   "mimetype": "text/x-python",
   "name": "python",
   "nbconvert_exporter": "python",
   "pygments_lexer": "ipython2",
   "version": "2.7.6"
  }
 },
 "nbformat": 4,
 "nbformat_minor": 5
}
